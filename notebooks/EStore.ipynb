{
 "cells": [
  {
   "cell_type": "markdown",
   "id": "e0a7270f",
   "metadata": {},
   "source": [
    "# **Setup the development framework such that changes in py files auto load into this file**\n",
    "- You can ignore this if your interest is only in the business logic and design. \n",
    "- The steps in this section are only environment set related"
   ]
  },
  {
   "cell_type": "markdown",
   "id": "143d513f",
   "metadata": {},
   "source": [
    "### **Make sure py file change are loaded automatically**"
   ]
  },
  {
   "cell_type": "code",
   "execution_count": 49,
   "id": "f13304f4",
   "metadata": {},
   "outputs": [
    {
     "name": "stdout",
     "output_type": "stream",
     "text": [
      "The autoreload extension is already loaded. To reload it, use:\n",
      "  %reload_ext autoreload\n"
     ]
    }
   ],
   "source": [
    "%load_ext autoreload\n",
    "%autoreload 2"
   ]
  },
  {
   "cell_type": "markdown",
   "id": "2d68c53d",
   "metadata": {},
   "source": [
    "### **Import basic package required for this assignment**"
   ]
  },
  {
   "cell_type": "code",
   "execution_count": 50,
   "id": "e2daa7ec",
   "metadata": {},
   "outputs": [],
   "source": [
    "import os\n",
    "import pandas as pd\n",
    "import src.constants as C\n"
   ]
  },
  {
   "cell_type": "markdown",
   "id": "ce522247",
   "metadata": {},
   "source": [
    "### **Make sure right sources are getting picked**"
   ]
  },
  {
   "cell_type": "code",
   "execution_count": 51,
   "id": "ac5a6152",
   "metadata": {},
   "outputs": [],
   "source": [
    "from src.base_transformer import BaseDBTransformer\n"
   ]
  },
  {
   "cell_type": "markdown",
   "id": "e87ceacc",
   "metadata": {},
   "source": [
    "### **Make sure the latest class are getting loaded.**"
   ]
  },
  {
   "cell_type": "code",
   "execution_count": 52,
   "id": "689282d6",
   "metadata": {},
   "outputs": [],
   "source": [
    "# 1. Import the modules first (so Python knows them)\n",
    "import importlib\n",
    "import src.product_transformer\n",
    "import src.cart_transformer\n",
    "import src.purchase_transformer\n",
    "import src.discount_transformer\n",
    "import src.constants\n",
    "\n",
    "# 2. Reload them (useful after edits)\n",
    "importlib.reload(src.product_transformer)\n",
    "importlib.reload(src.cart_transformer)\n",
    "importlib.reload(src.purchase_transformer)\n",
    "importlib.reload(src.discount_transformer)\n",
    "importlib.reload(src.constants)\n",
    "\n",
    "# 3. Import the classes fresh from the reloaded modules\n",
    "from src.product_transformer import ProductTransformer\n",
    "from src.cart_transformer import CartTransformer\n",
    "from src.purchase_transformer import PurchaseTransformer\n",
    "from src.discount_transformer import DiscountTransformer\n",
    "import src.constants\n",
    "import random"
   ]
  },
  {
   "cell_type": "markdown",
   "id": "cfdfd441",
   "metadata": {},
   "source": [
    "# **Transformers**\n",
    "- This section is the core design of the project\n",
    "- There are four transformers \n",
    "   - Products transformer: This is the database of the list of the products in EStore. The prodcuts.csv file for demo has 9 products. \n",
    "   - Cart transformer: This is user selected products added into the cart instance specific to the user. \n",
    "   - purchase transfromer: This is checkout functionaility of the cart. \n",
    "        - It has two kinds of purchases. With discount by applying discount code.\n",
    "        - It also supports purchase without applying discount code. If no discount is applied it generates a ne discount code and adds to discounts for the subsequent purchases. \n",
    "   - Discount transformer: This handles the discounts codes after the purchase. \n",
    "\n",
    "   - For each these transforers there is .py  file and .csv file in the src directory. \n",
    "   - Each transfomer derives from the base transfomer class which manages the csv read/write for that transformer. \n",
    "   - The base transformer class also handles basis CRUD operation if they are at the level of the dataframe(entire row level operations) without having to deal with individual columns (as columns are specific to the transformer)\n",
    "\n",
    "- The code is organized as a typical pyproject.toml file. "
   ]
  },
  {
   "cell_type": "markdown",
   "id": "f9b94485",
   "metadata": {},
   "source": [
    "## **Product Transformer - demonstration**"
   ]
  },
  {
   "cell_type": "code",
   "execution_count": 53,
   "id": "beba33e9",
   "metadata": {},
   "outputs": [],
   "source": [
    "# import mysql.connector\n",
    "\n",
    "# # Establish the connection\n",
    "# connection = mysql.connector.connect(\n",
    "#     host=\"localhost\",       # e.g., \"localhost\" or an IP address\n",
    "    #  user=\"root\",   # e.g., \"root\"\n",
    "#     password=\"root@321\", # Your MySQL password\n",
    "#     database=\"ORDERS\"  # Name of the database to connect to\n",
    "# )\n",
    "\n",
    "# # Check if the connection is successful\n",
    "# if connection.is_connected():\n",
    "#     print(\"Connection successful!\")\n",
    "\n",
    "# # Close the connection\n",
    "# connection.close()\n"
   ]
  },
  {
   "cell_type": "code",
   "execution_count": 54,
   "id": "91e88ffb",
   "metadata": {},
   "outputs": [],
   "source": [
    "from sqlalchemy import create_engine, URL\n",
    "\n",
    "url_object = URL.create(\n",
    "    drivername=\"mysql+mysqlconnector\",\n",
    "    username=\"root\",\n",
    "    password=\"root@321\",  # raw password, no need to encode\n",
    "    host=\"localhost\",\n",
    "    database=\"ORDERS\"\n",
    ")\n",
    "\n",
    "engine = create_engine(url_object)\n"
   ]
  },
  {
   "cell_type": "code",
   "execution_count": 55,
   "id": "f82f28e3",
   "metadata": {},
   "outputs": [
    {
     "name": "stdout",
     "output_type": "stream",
     "text": [
      "Initialized(Base) for table:  product  size =  (61, 9)  primary keys =  [Column('PRODUCT_ID', INTEGER(), table=<product>, primary_key=True, nullable=False)] \n",
      " TBM if multiple primary keys. Handling only one PK =  PRODUCT_ID\n"
     ]
    }
   ],
   "source": [
    "pt = ProductTransformer(engine)\n"
   ]
  },
  {
   "cell_type": "code",
   "execution_count": 56,
   "id": "ac61151f",
   "metadata": {},
   "outputs": [
    {
     "name": "stdout",
     "output_type": "stream",
     "text": [
      "[Column('PRODUCT_ID', INTEGER(), table=<product>, primary_key=True, nullable=False)]\n"
     ]
    },
    {
     "data": {
      "text/plain": [
       "'PRODUCT_ID'"
      ]
     },
     "execution_count": 56,
     "metadata": {},
     "output_type": "execute_result"
    }
   ],
   "source": [
    "print( pt.pk_columns )\n",
    "\n",
    "type( pt.pk_columns )\n",
    "\n",
    "pt.pk_name\n"
   ]
  },
  {
   "cell_type": "code",
   "execution_count": 60,
   "id": "81f78754",
   "metadata": {},
   "outputs": [
    {
     "name": "stdout",
     "output_type": "stream",
     "text": [
      "Trying to add row in product where 301 with {'PRODUCT_ID': 301, 'PRODUCT_DESC': 'IBM Thinkpad Laptop', 'PRODUCT_CLASS_CODE': 2050, 'PRODUCT_PRICE': 5000.0, 'PRODUCT_QUANTITY_AVAIL': 100, 'WEIGHT': 1.5, 'LEN': 150, 'WIDTH': 300, 'HEIGHT': 20}\n",
      "insert: \n",
      " {'PRODUCT_ID': 0, 'PRODUCT_DESC': 'IBM Thinkpad Laptop', 'PRODUCT_CLASS_CODE': 2050, 'PRODUCT_PRICE': 5000.0, 'PRODUCT_QUANTITY_AVAIL': 100, 'WEIGHT': 1.5, 'LEN': 150, 'WIDTH': 300, 'HEIGHT': 20} result = \n",
      " <sqlalchemy.engine.cursor.CursorResult object at 0x0000022EEE2A9010>\n",
      "70 : Row =  (70, 'IBM Thinkpad Laptop', 2050, Decimal('5000.00'), 100, 150, 300, 20, Decimal('1.5000')) 70\n"
     ]
    },
    {
     "ename": "TypeError",
     "evalue": "cannot concatenate object of type '<class 'sqlalchemy.engine.row.Row'>'; only Series and DataFrame objs are valid",
     "output_type": "error",
     "traceback": [
      "\u001b[31m---------------------------------------------------------------------------\u001b[39m",
      "\u001b[31mTypeError\u001b[39m                                 Traceback (most recent call last)",
      "\u001b[36mCell\u001b[39m\u001b[36m \u001b[39m\u001b[32mIn[60]\u001b[39m\u001b[32m, line 7\u001b[39m\n\u001b[32m      4\u001b[39m df = pt.read()\n\u001b[32m      6\u001b[39m \u001b[38;5;66;03m# Insert new product\u001b[39;00m\n\u001b[32m----> \u001b[39m\u001b[32m7\u001b[39m r = \u001b[43mpt\u001b[49m\u001b[43m.\u001b[49m\u001b[43mcreate\u001b[49m\u001b[43m(\u001b[49m\u001b[32;43m301\u001b[39;49m\u001b[43m,\u001b[49m\u001b[43m \u001b[49m\u001b[33;43m\"\u001b[39;49m\u001b[33;43mIBM Thinkpad Laptop\u001b[39;49m\u001b[33;43m\"\u001b[39;49m\u001b[43m,\u001b[49m\u001b[43m \u001b[49m\u001b[32;43m2050\u001b[39;49m\u001b[43m,\u001b[49m\u001b[43m \u001b[49m\u001b[32;43m5000.00\u001b[39;49m\u001b[43m,\u001b[49m\u001b[43m \u001b[49m\u001b[32;43m100\u001b[39;49m\u001b[43m,\u001b[49m\u001b[43m \u001b[49m\u001b[32;43m150\u001b[39;49m\u001b[43m,\u001b[49m\u001b[43m \u001b[49m\u001b[32;43m300\u001b[39;49m\u001b[43m,\u001b[49m\u001b[43m \u001b[49m\u001b[32;43m20\u001b[39;49m\u001b[43m,\u001b[49m\u001b[43m \u001b[49m\u001b[32;43m1.50\u001b[39;49m\u001b[43m)\u001b[49m\n\u001b[32m      8\u001b[39m \u001b[38;5;28mprint\u001b[39m(r)\n\u001b[32m      9\u001b[39m \u001b[38;5;66;03m# pt.create(302, \"IBM Thinkpad Laptop\", 2050, 5000.00, 100, 150, 300, 20, 1.50)\u001b[39;00m\n\u001b[32m     10\u001b[39m \n\u001b[32m     11\u001b[39m \n\u001b[32m   (...)\u001b[39m\u001b[32m     15\u001b[39m \u001b[38;5;66;03m# Delete a product\u001b[39;00m\n\u001b[32m     16\u001b[39m \u001b[38;5;66;03m# pt.delete(302)\u001b[39;00m\n",
      "\u001b[36mFile \u001b[39m\u001b[32mc:\\aiml\\0825\\SKartG\\EStore\\src\\product_transformer.py:26\u001b[39m, in \u001b[36mProductTransformer.create\u001b[39m\u001b[34m(self, *args)\u001b[39m\n\u001b[32m     14\u001b[39m     pid, pname, ptyp, mrp, pavl, plen, wd, ht, wt = args\n\u001b[32m     15\u001b[39m     new_row = pd.DataFrame([{\n\u001b[32m     16\u001b[39m         C.pid: pid,\n\u001b[32m     17\u001b[39m         C.pname: pname,\n\u001b[32m   (...)\u001b[39m\u001b[32m     24\u001b[39m         C.ht: ht\n\u001b[32m     25\u001b[39m     }])\n\u001b[32m---> \u001b[39m\u001b[32m26\u001b[39m     \u001b[38;5;28;01mreturn\u001b[39;00m \u001b[38;5;28;43msuper\u001b[39;49m\u001b[43m(\u001b[49m\u001b[43m)\u001b[49m\u001b[43m.\u001b[49m\u001b[43mcreate\u001b[49m\u001b[43m(\u001b[49m\u001b[43mnew_row\u001b[49m\u001b[43m)\u001b[49m\n\u001b[32m     27\u001b[39m \u001b[38;5;28;01melse\u001b[39;00m:\n\u001b[32m     28\u001b[39m     \u001b[38;5;28;01mraise\u001b[39;00m \u001b[38;5;167;01mValueError\u001b[39;00m(\u001b[33m\"\u001b[39m\u001b[33mInvalid arguments to create()\u001b[39m\u001b[33m\"\u001b[39m)\n",
      "\u001b[36mFile \u001b[39m\u001b[32m<string>:38\u001b[39m, in \u001b[36mcreate\u001b[39m\u001b[34m(self, params)\u001b[39m\n",
      "\u001b[36mFile \u001b[39m\u001b[32mc:\\Users\\surne\\AppData\\Local\\Programs\\Python\\Python313\\Lib\\site-packages\\pandas\\core\\reshape\\concat.py:382\u001b[39m, in \u001b[36mconcat\u001b[39m\u001b[34m(objs, axis, join, ignore_index, keys, levels, names, verify_integrity, sort, copy)\u001b[39m\n\u001b[32m    379\u001b[39m \u001b[38;5;28;01melif\u001b[39;00m copy \u001b[38;5;129;01mand\u001b[39;00m using_copy_on_write():\n\u001b[32m    380\u001b[39m     copy = \u001b[38;5;28;01mFalse\u001b[39;00m\n\u001b[32m--> \u001b[39m\u001b[32m382\u001b[39m op = \u001b[43m_Concatenator\u001b[49m\u001b[43m(\u001b[49m\n\u001b[32m    383\u001b[39m \u001b[43m    \u001b[49m\u001b[43mobjs\u001b[49m\u001b[43m,\u001b[49m\n\u001b[32m    384\u001b[39m \u001b[43m    \u001b[49m\u001b[43maxis\u001b[49m\u001b[43m=\u001b[49m\u001b[43maxis\u001b[49m\u001b[43m,\u001b[49m\n\u001b[32m    385\u001b[39m \u001b[43m    \u001b[49m\u001b[43mignore_index\u001b[49m\u001b[43m=\u001b[49m\u001b[43mignore_index\u001b[49m\u001b[43m,\u001b[49m\n\u001b[32m    386\u001b[39m \u001b[43m    \u001b[49m\u001b[43mjoin\u001b[49m\u001b[43m=\u001b[49m\u001b[43mjoin\u001b[49m\u001b[43m,\u001b[49m\n\u001b[32m    387\u001b[39m \u001b[43m    \u001b[49m\u001b[43mkeys\u001b[49m\u001b[43m=\u001b[49m\u001b[43mkeys\u001b[49m\u001b[43m,\u001b[49m\n\u001b[32m    388\u001b[39m \u001b[43m    \u001b[49m\u001b[43mlevels\u001b[49m\u001b[43m=\u001b[49m\u001b[43mlevels\u001b[49m\u001b[43m,\u001b[49m\n\u001b[32m    389\u001b[39m \u001b[43m    \u001b[49m\u001b[43mnames\u001b[49m\u001b[43m=\u001b[49m\u001b[43mnames\u001b[49m\u001b[43m,\u001b[49m\n\u001b[32m    390\u001b[39m \u001b[43m    \u001b[49m\u001b[43mverify_integrity\u001b[49m\u001b[43m=\u001b[49m\u001b[43mverify_integrity\u001b[49m\u001b[43m,\u001b[49m\n\u001b[32m    391\u001b[39m \u001b[43m    \u001b[49m\u001b[43mcopy\u001b[49m\u001b[43m=\u001b[49m\u001b[43mcopy\u001b[49m\u001b[43m,\u001b[49m\n\u001b[32m    392\u001b[39m \u001b[43m    \u001b[49m\u001b[43msort\u001b[49m\u001b[43m=\u001b[49m\u001b[43msort\u001b[49m\u001b[43m,\u001b[49m\n\u001b[32m    393\u001b[39m \u001b[43m\u001b[49m\u001b[43m)\u001b[49m\n\u001b[32m    395\u001b[39m \u001b[38;5;28;01mreturn\u001b[39;00m op.get_result()\n",
      "\u001b[36mFile \u001b[39m\u001b[32mc:\\Users\\surne\\AppData\\Local\\Programs\\Python\\Python313\\Lib\\site-packages\\pandas\\core\\reshape\\concat.py:448\u001b[39m, in \u001b[36m_Concatenator.__init__\u001b[39m\u001b[34m(self, objs, axis, join, keys, levels, names, ignore_index, verify_integrity, copy, sort)\u001b[39m\n\u001b[32m    445\u001b[39m objs, keys = \u001b[38;5;28mself\u001b[39m._clean_keys_and_objs(objs, keys)\n\u001b[32m    447\u001b[39m \u001b[38;5;66;03m# figure out what our result ndim is going to be\u001b[39;00m\n\u001b[32m--> \u001b[39m\u001b[32m448\u001b[39m ndims = \u001b[38;5;28;43mself\u001b[39;49m\u001b[43m.\u001b[49m\u001b[43m_get_ndims\u001b[49m\u001b[43m(\u001b[49m\u001b[43mobjs\u001b[49m\u001b[43m)\u001b[49m\n\u001b[32m    449\u001b[39m sample, objs = \u001b[38;5;28mself\u001b[39m._get_sample_object(objs, ndims, keys, names, levels)\n\u001b[32m    451\u001b[39m \u001b[38;5;66;03m# Standardize axis parameter to int\u001b[39;00m\n",
      "\u001b[36mFile \u001b[39m\u001b[32mc:\\Users\\surne\\AppData\\Local\\Programs\\Python\\Python313\\Lib\\site-packages\\pandas\\core\\reshape\\concat.py:489\u001b[39m, in \u001b[36m_Concatenator._get_ndims\u001b[39m\u001b[34m(self, objs)\u001b[39m\n\u001b[32m    484\u001b[39m     \u001b[38;5;28;01mif\u001b[39;00m \u001b[38;5;129;01mnot\u001b[39;00m \u001b[38;5;28misinstance\u001b[39m(obj, (ABCSeries, ABCDataFrame)):\n\u001b[32m    485\u001b[39m         msg = (\n\u001b[32m    486\u001b[39m             \u001b[33mf\u001b[39m\u001b[33m\"\u001b[39m\u001b[33mcannot concatenate object of type \u001b[39m\u001b[33m'\u001b[39m\u001b[38;5;132;01m{\u001b[39;00m\u001b[38;5;28mtype\u001b[39m(obj)\u001b[38;5;132;01m}\u001b[39;00m\u001b[33m'\u001b[39m\u001b[33m; \u001b[39m\u001b[33m\"\u001b[39m\n\u001b[32m    487\u001b[39m             \u001b[33m\"\u001b[39m\u001b[33monly Series and DataFrame objs are valid\u001b[39m\u001b[33m\"\u001b[39m\n\u001b[32m    488\u001b[39m         )\n\u001b[32m--> \u001b[39m\u001b[32m489\u001b[39m         \u001b[38;5;28;01mraise\u001b[39;00m \u001b[38;5;167;01mTypeError\u001b[39;00m(msg)\n\u001b[32m    491\u001b[39m     ndims.add(obj.ndim)\n\u001b[32m    492\u001b[39m \u001b[38;5;28;01mreturn\u001b[39;00m ndims\n",
      "\u001b[31mTypeError\u001b[39m: cannot concatenate object of type '<class 'sqlalchemy.engine.row.Row'>'; only Series and DataFrame objs are valid"
     ]
    }
   ],
   "source": [
    "# pt = ProductTransformer(engine)\n",
    "\n",
    "# Load existing rows into memor\n",
    "df = pt.read()\n",
    "\n",
    "# Insert new product\n",
    "r = pt.create(301, \"IBM Thinkpad Laptop\", 2050, 5000.00, 100, 150, 300, 20, 1.50)\n",
    "print(r)\n",
    "# pt.create(302, \"IBM Thinkpad Laptop\", 2050, 5000.00, 100, 150, 300, 20, 1.50)\n",
    "\n",
    "\n",
    "# Update a product\n",
    "# pt.update(301, **{C.mrp:4999.99} )\n",
    "\n",
    "# Delete a product\n",
    "# pt.delete(302)\n"
   ]
  },
  {
   "cell_type": "code",
   "execution_count": 48,
   "id": "51c5225c",
   "metadata": {},
   "outputs": [
    {
     "data": {
      "text/html": [
       "<div>\n",
       "<style scoped>\n",
       "    .dataframe tbody tr th:only-of-type {\n",
       "        vertical-align: middle;\n",
       "    }\n",
       "\n",
       "    .dataframe tbody tr th {\n",
       "        vertical-align: top;\n",
       "    }\n",
       "\n",
       "    .dataframe thead th {\n",
       "        text-align: right;\n",
       "    }\n",
       "</style>\n",
       "<table border=\"1\" class=\"dataframe\">\n",
       "  <thead>\n",
       "    <tr style=\"text-align: right;\">\n",
       "      <th></th>\n",
       "      <th>PRODUCT_ID</th>\n",
       "      <th>PRODUCT_DESC</th>\n",
       "      <th>PRODUCT_CLASS_CODE</th>\n",
       "      <th>PRODUCT_PRICE</th>\n",
       "      <th>PRODUCT_QUANTITY_AVAIL</th>\n",
       "      <th>LEN</th>\n",
       "      <th>WIDTH</th>\n",
       "      <th>HEIGHT</th>\n",
       "      <th>WEIGHT</th>\n",
       "    </tr>\n",
       "  </thead>\n",
       "  <tbody>\n",
       "    <tr>\n",
       "      <th>0</th>\n",
       "      <td>1</td>\n",
       "      <td>Sky LED 102 CM TV</td>\n",
       "      <td>2050</td>\n",
       "      <td>35000.0</td>\n",
       "      <td>30</td>\n",
       "      <td>905</td>\n",
       "      <td>750</td>\n",
       "      <td>700</td>\n",
       "      <td>15.000</td>\n",
       "    </tr>\n",
       "    <tr>\n",
       "      <th>1</th>\n",
       "      <td>2</td>\n",
       "      <td>Sams 192 L4 Single-door Refrigerator</td>\n",
       "      <td>2050</td>\n",
       "      <td>28000.0</td>\n",
       "      <td>15</td>\n",
       "      <td>1802</td>\n",
       "      <td>750</td>\n",
       "      <td>750</td>\n",
       "      <td>25.000</td>\n",
       "    </tr>\n",
       "    <tr>\n",
       "      <th>2</th>\n",
       "      <td>3</td>\n",
       "      <td>Jocky Speaker Music System HT32</td>\n",
       "      <td>2050</td>\n",
       "      <td>8900.0</td>\n",
       "      <td>19</td>\n",
       "      <td>908</td>\n",
       "      <td>300</td>\n",
       "      <td>300</td>\n",
       "      <td>5.000</td>\n",
       "    </tr>\n",
       "    <tr>\n",
       "      <th>3</th>\n",
       "      <td>4</td>\n",
       "      <td>Cricket Set for Boys</td>\n",
       "      <td>2051</td>\n",
       "      <td>4500.0</td>\n",
       "      <td>10</td>\n",
       "      <td>890</td>\n",
       "      <td>300</td>\n",
       "      <td>200</td>\n",
       "      <td>18.000</td>\n",
       "    </tr>\n",
       "    <tr>\n",
       "      <th>4</th>\n",
       "      <td>5</td>\n",
       "      <td>Infant Sleepwear Blue</td>\n",
       "      <td>2052</td>\n",
       "      <td>250.0</td>\n",
       "      <td>50</td>\n",
       "      <td>596</td>\n",
       "      <td>300</td>\n",
       "      <td>100</td>\n",
       "      <td>0.250</td>\n",
       "    </tr>\n",
       "    <tr>\n",
       "      <th>...</th>\n",
       "      <td>...</td>\n",
       "      <td>...</td>\n",
       "      <td>...</td>\n",
       "      <td>...</td>\n",
       "      <td>...</td>\n",
       "      <td>...</td>\n",
       "      <td>...</td>\n",
       "      <td>...</td>\n",
       "      <td>...</td>\n",
       "    </tr>\n",
       "    <tr>\n",
       "      <th>57</th>\n",
       "      <td>58</td>\n",
       "      <td>Sony Xperia U (Black White)</td>\n",
       "      <td>3000</td>\n",
       "      <td>16499.0</td>\n",
       "      <td>50</td>\n",
       "      <td>54</td>\n",
       "      <td>112</td>\n",
       "      <td>12</td>\n",
       "      <td>0.110</td>\n",
       "    </tr>\n",
       "    <tr>\n",
       "      <th>58</th>\n",
       "      <td>59</td>\n",
       "      <td>Nikon Coolpix L810 Bridge</td>\n",
       "      <td>3000</td>\n",
       "      <td>14987.0</td>\n",
       "      <td>50</td>\n",
       "      <td>111</td>\n",
       "      <td>76</td>\n",
       "      <td>83</td>\n",
       "      <td>0.430</td>\n",
       "    </tr>\n",
       "    <tr>\n",
       "      <th>59</th>\n",
       "      <td>60</td>\n",
       "      <td>Samsung Galaxy Tab 2 P3100</td>\n",
       "      <td>3000</td>\n",
       "      <td>19300.0</td>\n",
       "      <td>50</td>\n",
       "      <td>122</td>\n",
       "      <td>194</td>\n",
       "      <td>10</td>\n",
       "      <td>0.345</td>\n",
       "    </tr>\n",
       "    <tr>\n",
       "      <th>60</th>\n",
       "      <td>61</td>\n",
       "      <td>IBM Thinkpad Laptop</td>\n",
       "      <td>2050</td>\n",
       "      <td>5000.0</td>\n",
       "      <td>100</td>\n",
       "      <td>150</td>\n",
       "      <td>300</td>\n",
       "      <td>20</td>\n",
       "      <td>1.500</td>\n",
       "    </tr>\n",
       "    <tr>\n",
       "      <th>61</th>\n",
       "      <td>62</td>\n",
       "      <td>IBM Thinkpad Laptop</td>\n",
       "      <td>2050</td>\n",
       "      <td>5000.0</td>\n",
       "      <td>100</td>\n",
       "      <td>150</td>\n",
       "      <td>300</td>\n",
       "      <td>20</td>\n",
       "      <td>1.500</td>\n",
       "    </tr>\n",
       "  </tbody>\n",
       "</table>\n",
       "<p>62 rows × 9 columns</p>\n",
       "</div>"
      ],
      "text/plain": [
       "    PRODUCT_ID                          PRODUCT_DESC  PRODUCT_CLASS_CODE  \\\n",
       "0            1                     Sky LED 102 CM TV                2050   \n",
       "1            2  Sams 192 L4 Single-door Refrigerator                2050   \n",
       "2            3       Jocky Speaker Music System HT32                2050   \n",
       "3            4                  Cricket Set for Boys                2051   \n",
       "4            5                 Infant Sleepwear Blue                2052   \n",
       "..         ...                                   ...                 ...   \n",
       "57          58           Sony Xperia U (Black White)                3000   \n",
       "58          59             Nikon Coolpix L810 Bridge                3000   \n",
       "59          60            Samsung Galaxy Tab 2 P3100                3000   \n",
       "60          61                   IBM Thinkpad Laptop                2050   \n",
       "61          62                   IBM Thinkpad Laptop                2050   \n",
       "\n",
       "    PRODUCT_PRICE  PRODUCT_QUANTITY_AVAIL   LEN  WIDTH  HEIGHT  WEIGHT  \n",
       "0         35000.0                      30   905    750     700  15.000  \n",
       "1         28000.0                      15  1802    750     750  25.000  \n",
       "2          8900.0                      19   908    300     300   5.000  \n",
       "3          4500.0                      10   890    300     200  18.000  \n",
       "4           250.0                      50   596    300     100   0.250  \n",
       "..            ...                     ...   ...    ...     ...     ...  \n",
       "57        16499.0                      50    54    112      12   0.110  \n",
       "58        14987.0                      50   111     76      83   0.430  \n",
       "59        19300.0                      50   122    194      10   0.345  \n",
       "60         5000.0                     100   150    300      20   1.500  \n",
       "61         5000.0                     100   150    300      20   1.500  \n",
       "\n",
       "[62 rows x 9 columns]"
      ]
     },
     "execution_count": 48,
     "metadata": {},
     "output_type": "execute_result"
    }
   ],
   "source": [
    "pt.data"
   ]
  },
  {
   "cell_type": "markdown",
   "id": "1b415fb3",
   "metadata": {},
   "source": [
    "## **Discount Transformer - demonstration**"
   ]
  },
  {
   "cell_type": "code",
   "execution_count": 6,
   "id": "2118b0c2",
   "metadata": {},
   "outputs": [
    {
     "data": {
      "text/html": [
       "<div>\n",
       "<style scoped>\n",
       "    .dataframe tbody tr th:only-of-type {\n",
       "        vertical-align: middle;\n",
       "    }\n",
       "\n",
       "    .dataframe tbody tr th {\n",
       "        vertical-align: top;\n",
       "    }\n",
       "\n",
       "    .dataframe thead th {\n",
       "        text-align: right;\n",
       "    }\n",
       "</style>\n",
       "<table border=\"1\" class=\"dataframe\">\n",
       "  <thead>\n",
       "    <tr style=\"text-align: right;\">\n",
       "      <th></th>\n",
       "      <th>DiscountID</th>\n",
       "      <th>UserID</th>\n",
       "      <th>DiscountCode</th>\n",
       "      <th>DiscountPercent</th>\n",
       "      <th>DiscountStatus</th>\n",
       "    </tr>\n",
       "  </thead>\n",
       "  <tbody>\n",
       "    <tr>\n",
       "      <th>0</th>\n",
       "      <td>DR351</td>\n",
       "      <td>574</td>\n",
       "      <td>SAVE3994</td>\n",
       "      <td>9</td>\n",
       "      <td>0</td>\n",
       "    </tr>\n",
       "    <tr>\n",
       "      <th>1</th>\n",
       "      <td>FD535</td>\n",
       "      <td>728</td>\n",
       "      <td>SAVE7531</td>\n",
       "      <td>10</td>\n",
       "      <td>0</td>\n",
       "    </tr>\n",
       "  </tbody>\n",
       "</table>\n",
       "</div>"
      ],
      "text/plain": [
       "  DiscountID UserID DiscountCode  DiscountPercent  DiscountStatus\n",
       "0      DR351    574     SAVE3994                9               0\n",
       "1      FD535    728     SAVE7531               10               0"
      ]
     },
     "execution_count": 6,
     "metadata": {},
     "output_type": "execute_result"
    }
   ],
   "source": [
    "# Initialize\n",
    "discount_csv = \"data/discounts.csv\"\n",
    "discount_transformer = DiscountTransformer(file_path=discount_csv)\n",
    "\n",
    "# Create a random data\n",
    "cid1 = \"CART\" + str(random.randint(100, 999))  # Generate a random cart ID\n",
    "cid2 = \"CART\" + str(random.randint(100, 999))  # Generate a random cart ID\n",
    "\n",
    "user_id1 = str(random.randint(100, 999))\n",
    "user_id2 = str(random.randint(100, 999))\n",
    "\n",
    "discode1 = [ \"NEW\", \"SAVE\", \"FESTIVE\"][random.randint(0, 2)] + str(random.randint(1000, 9999))\n",
    "discode2 = [ \"NEW\", \"SAVE\", \"FESTIVE\"][random.randint(0, 2)] + str(random.randint(1000, 9999))\n",
    "\n",
    "did1 = [\"FD\",\"NC\",\"DR\"][random.randint(0,2)] + str(random.randint(100, 999))\n",
    "did2 = [\"FD\",\"NC\",\"DR\"][random.randint(0,2)] + str(random.randint(100, 999))\n",
    "\n",
    "dpct1 = random.randint(5, 10)\n",
    "dpct2 = random.randint(5, 10)\n",
    "\n",
    "\n",
    "# Test: Write sample data\n",
    "sample_discounts = pd.DataFrame([\n",
    "    {C.did: did1, C.usrid: user_id1, C.dcode: discode1, C.dpct: dpct1, C.dst: 0},\n",
    "    {C.did: did2, C.usrid: user_id2, C.dcode: discode2, C.dpct: dpct2, C.dst: 0}\n",
    "])\n",
    "\n",
    "discount_transformer.update_df(sample_discounts, mode=\"overwrite\")\n",
    "discount_transformer.read()"
   ]
  },
  {
   "cell_type": "markdown",
   "id": "35104d97",
   "metadata": {},
   "source": [
    "## **Purchase Transformer - demonstration**"
   ]
  },
  {
   "cell_type": "code",
   "execution_count": 7,
   "id": "c0582982",
   "metadata": {},
   "outputs": [
    {
     "data": {
      "text/html": [
       "<div>\n",
       "<style scoped>\n",
       "    .dataframe tbody tr th:only-of-type {\n",
       "        vertical-align: middle;\n",
       "    }\n",
       "\n",
       "    .dataframe tbody tr th {\n",
       "        vertical-align: top;\n",
       "    }\n",
       "\n",
       "    .dataframe thead th {\n",
       "        text-align: right;\n",
       "    }\n",
       "</style>\n",
       "<table border=\"1\" class=\"dataframe\">\n",
       "  <thead>\n",
       "    <tr style=\"text-align: right;\">\n",
       "      <th></th>\n",
       "      <th>PaymentID</th>\n",
       "      <th>CartID</th>\n",
       "      <th>TotalAmount</th>\n",
       "      <th>DiscountID</th>\n",
       "    </tr>\n",
       "  </thead>\n",
       "  <tbody>\n",
       "    <tr>\n",
       "      <th>0</th>\n",
       "      <td>CART684_574</td>\n",
       "      <td>CART684</td>\n",
       "      <td>772.92</td>\n",
       "      <td>DR351</td>\n",
       "    </tr>\n",
       "    <tr>\n",
       "      <th>1</th>\n",
       "      <td>CART735_728</td>\n",
       "      <td>CART735</td>\n",
       "      <td>972.00</td>\n",
       "      <td>FD535</td>\n",
       "    </tr>\n",
       "  </tbody>\n",
       "</table>\n",
       "</div>"
      ],
      "text/plain": [
       "     PaymentID   CartID  TotalAmount DiscountID\n",
       "0  CART684_574  CART684       772.92      DR351\n",
       "1  CART735_728  CART735       972.00      FD535"
      ]
     },
     "execution_count": 7,
     "metadata": {},
     "output_type": "execute_result"
    }
   ],
   "source": [
    "# Initialize\n",
    "purchase_csv = \"data/purchases.csv\"\n",
    "purchase_transformer = PurchaseTransformer(file_path=purchase_csv)\n",
    "\n",
    "# Test: Write sample data\n",
    "sample_purchases = pd.DataFrame([\n",
    "    {C.prcid: cid1+\"_\"+user_id1, C.cid: cid1, C.tamt: 772.92, C.did: did1},\n",
    "    {C.prcid: cid2+\"_\"+user_id2, C.cid: cid2, C.tamt: 972.00, C.did: did2}\n",
    "])\n",
    "purchase_transformer.update_df(sample_purchases, mode=\"overwrite\")\n",
    "purchase_transformer.read()"
   ]
  },
  {
   "cell_type": "markdown",
   "id": "2753409f",
   "metadata": {},
   "source": [
    "## **Cart Transformer - demonstration**"
   ]
  },
  {
   "cell_type": "code",
   "execution_count": 8,
   "id": "5ecdc8ea",
   "metadata": {},
   "outputs": [
    {
     "name": "stdout",
     "output_type": "stream",
     "text": [
      "    CartID ProductID  Quantity UserID\n",
      "0  CART684    FD7839         4    574\n",
      "1  CART735    DR7979         2    728\n"
     ]
    }
   ],
   "source": [
    "# Initialize\n",
    "cart_csv = \"data/carts.csv\"\n",
    "cart_transformer = CartTransformer(file_path=cart_csv)\n",
    "\n",
    "# Test: Write sample data\n",
    "sample_cart = pd.DataFrame([\n",
    "    {C.cid: cid1 , C.pid: \"FD7839\", C.qnt: 4, C.usrid: user_id1},\n",
    "    {C.cid: cid2 , C.pid: \"DR7979\", C.qnt: 2, C.usrid: user_id2}\n",
    "])\n",
    "cart_transformer.update_df(sample_cart, mode=\"overwrite\")\n",
    "\n",
    "# Test: Read back\n",
    "print(cart_transformer.read())\n"
   ]
  },
  {
   "cell_type": "markdown",
   "id": "41680f9b",
   "metadata": {},
   "source": [
    "# **Business logic - Helper functions**\n",
    "- These functions after matured will go into the respective transformer classes. "
   ]
  },
  {
   "cell_type": "code",
   "execution_count": 19,
   "id": "9933a255",
   "metadata": {},
   "outputs": [],
   "source": [
    "def getRandomPids():\n",
    "    products = product_transformer.read()\n",
    "\n",
    "    selected_products = random.sample(products[C.pid].to_list(), k=3)\n",
    "    print(\"Selected Products:\", selected_products)\n",
    "    return selected_products\n",
    "\n",
    "def addToCart(spids, uid, cid):\n",
    "    cart = cart_transformer.read()\n",
    "    products = product_transformer.read(spids)\n",
    "\n",
    "    records = [{C.cid: cid, C.qnt: random.randint(1, 5),C.usrid: uid, C.pid: id} for id in spids]\n",
    "    cart = pd.DataFrame.from_records(records)\n",
    "    cart_transformer.create(cart)\n",
    "    return\n",
    "\n",
    "def checkout_with_discount(uid, cid, did):\n",
    "    cart     =  cart_transformer.read([cid])\n",
    "    ps  =  product_transformer.read(cart[C.pid].to_list())\n",
    "\n",
    "    # Compute total price for the cart\n",
    "    total = ps[C.mrp].sum() * cart[C.qnt].sum()\n",
    "    prcid = uid + \"_\" + cid  # Purchase ID based on user and cart ID\n",
    "    print ( \"Total price for cart\", cid, \"is\", total)\n",
    "    # Checkout with discount\n",
    "    discount  =  discount_transformer.read([did])\n",
    "    if not discount.empty:\n",
    "        total -= total * (discount[C.dpct].values[0] / 100)\n",
    "    else:\n",
    "        print(f\"Discount {did} not found, aborting checkout. total value = \", total)\n",
    "        return \n",
    "    purchase_entry = [{\n",
    "        C.prcid: prcid,\n",
    "        C.cid: cid,\n",
    "        C.tamt: total,\n",
    "        C.did: did\n",
    "    }]\n",
    "    purchase_transformer.create(pd.DataFrame.from_records(purchase_entry))\n",
    "    discount_transformer.update({C.did: did, C.dst: 1})\n",
    "    return\n",
    "\n",
    "def checkout_without_discount(uid, cid, did, discode, dpct):\n",
    "    cart      =  cart_transformer.read([cid])\n",
    "    ps  =  product_transformer.read(cart[C.pid].to_list())\n",
    "\n",
    "    # Compute total price for the cart\n",
    "    total = ps[C.mrp].sum() * cart[C.qnt].sum()\n",
    "    prcid = uid + \"_\" + cid  # Purchase ID based on user and cart ID\n",
    "    print(\"Total price for cart\", cid, \"is\", total)\n",
    "    # Checkout with discount\n",
    "    purchase_entry = [{\n",
    "        C.prcid: prcid,\n",
    "        C.cid: cid,\n",
    "        C.tamt: total,\n",
    "        C.did: did\n",
    "    }]\n",
    "\n",
    "    purchase_transformer.create(pd.DataFrame.from_records(purchase_entry))\n",
    "\n",
    "    discount_entry = [{\n",
    "        C.did: did,\n",
    "        C.usrid: uid,\n",
    "        C.dcode: discode,\n",
    "        C.dpct: dpct,\n",
    "        C.dst: 0\n",
    "    }]\n",
    "    discount_transformer.create(pd.DataFrame.from_records(discount_entry))\n",
    "    return"
   ]
  },
  {
   "cell_type": "markdown",
   "id": "c5835ff7",
   "metadata": {},
   "source": [
    "# **Admin APIs**"
   ]
  },
  {
   "cell_type": "code",
   "execution_count": 10,
   "id": "0348b121",
   "metadata": {},
   "outputs": [
    {
     "name": "stdout",
     "output_type": "stream",
     "text": [
      "     PaymentID   CartID  TotalAmount DiscountID\n",
      "0  CART684_574  CART684       772.92      DR351\n",
      "1  CART735_728  CART735       972.00      FD535\n",
      "  DiscountID UserID DiscountCode  DiscountPercent  DiscountStatus\n",
      "0      DR351    574     SAVE3994                9               0\n",
      "1      FD535    728     SAVE7531               10               0\n"
     ]
    }
   ],
   "source": [
    "def getPurchases():\n",
    "    purchases = purchase_transformer.read()\n",
    "    print(purchases) \n",
    "\n",
    "def getDiscounts():\n",
    "    discounts = discount_transformer.read()\n",
    "    print( discounts )\n",
    "\n",
    "getPurchases()\n",
    "getDiscounts()"
   ]
  },
  {
   "cell_type": "markdown",
   "id": "18fad772",
   "metadata": {},
   "source": [
    "# **Use cases 1 - Buy products**"
   ]
  },
  {
   "cell_type": "code",
   "execution_count": 15,
   "id": "0e8c537e",
   "metadata": {},
   "outputs": [
    {
     "name": "stdout",
     "output_type": "stream",
     "text": [
      "Selected Products: ['FD7839', 'DR7979', 'DR2699']\n",
      "Selected \n",
      " ['FD7839', 'DR7979', 'DR2699']\n",
      "Cart created and products added. \n",
      "\n",
      "     CartID ProductID  Quantity UserID\n",
      "11  CART694    FD7839         4    563\n",
      "12  CART694    DR7979         5    563\n",
      "13  CART694    DR2699         3    563\n",
      "Total price for cart CART694 is 6430.32\n",
      "     PaymentID   CartID  TotalAmount DiscountID\n",
      "5  563_CART694  CART694      6430.32      NC989\n"
     ]
    },
    {
     "data": {
      "text/html": [
       "<div>\n",
       "<style scoped>\n",
       "    .dataframe tbody tr th:only-of-type {\n",
       "        vertical-align: middle;\n",
       "    }\n",
       "\n",
       "    .dataframe tbody tr th {\n",
       "        vertical-align: top;\n",
       "    }\n",
       "\n",
       "    .dataframe thead th {\n",
       "        text-align: right;\n",
       "    }\n",
       "</style>\n",
       "<table border=\"1\" class=\"dataframe\">\n",
       "  <thead>\n",
       "    <tr style=\"text-align: right;\">\n",
       "      <th></th>\n",
       "      <th>DiscountID</th>\n",
       "      <th>UserID</th>\n",
       "      <th>DiscountCode</th>\n",
       "      <th>DiscountPercent</th>\n",
       "      <th>DiscountStatus</th>\n",
       "    </tr>\n",
       "  </thead>\n",
       "  <tbody>\n",
       "    <tr>\n",
       "      <th>5</th>\n",
       "      <td>NC989</td>\n",
       "      <td>563</td>\n",
       "      <td>SAVE8682</td>\n",
       "      <td>10</td>\n",
       "      <td>0</td>\n",
       "    </tr>\n",
       "  </tbody>\n",
       "</table>\n",
       "</div>"
      ],
      "text/plain": [
       "  DiscountID UserID DiscountCode  DiscountPercent  DiscountStatus\n",
       "5      NC989    563     SAVE8682               10               0"
      ]
     },
     "execution_count": 15,
     "metadata": {},
     "output_type": "execute_result"
    }
   ],
   "source": [
    "# Create a random data\n",
    "cid = \"CART\" + str(random.randint(100, 999))  # Generate a random cart ID\n",
    "user_id = str(random.randint(100, 999))\n",
    "discode = [ \"NEW\", \"SAVE\", \"FESTIVE\"][random.randint(0, 2)] + str(random.randint(1000, 9999))\n",
    "did = [\"FD\",\"NC\",\"DR\"][random.randint(0,2)] + str(random.randint(100, 999))\n",
    "dpct = random.randint(5, 10)\n",
    "\n",
    "# Business logic using Helper functions\n",
    "sps = getRandomPids()\n",
    "print(\"Selected \\n\", sps)\n",
    "\n",
    "addToCart(sps, user_id, cid)\n",
    "print(\"Cart created and products added. \\n\")\n",
    "cart = cart_transformer.read([cid])\n",
    "print(cart)\n",
    "\n",
    "checkout_without_discount(user_id, cid, did, discode, dpct)\n",
    "print ( purchase_transformer.read([user_id+\"_\"+cid]) )\n",
    "\n",
    "discounts = discount_transformer.read([did])\n",
    "discounts"
   ]
  },
  {
   "cell_type": "markdown",
   "id": "dc938b3d",
   "metadata": {},
   "source": [
    "# **Use cases 2 - Buy products with discount**"
   ]
  },
  {
   "cell_type": "code",
   "execution_count": 20,
   "id": "9cf3a716",
   "metadata": {},
   "outputs": [
    {
     "name": "stdout",
     "output_type": "stream",
     "text": [
      "Selected Products: ['DR7064', 'FD6114', 'FD8358']\n",
      "Selected \n",
      " ['DR7064', 'FD6114', 'FD8358']\n",
      "Cart created and products added. \n",
      "\n",
      "     CartID ProductID  Quantity UserID\n",
      "20  CART110    DR7064         1    497\n",
      "21  CART110    FD6114         4    497\n",
      "22  CART110    FD8358         3    497\n",
      "Total price for cart CART110 is 3364.48\n",
      "     PaymentID   CartID  TotalAmount DiscountID\n",
      "7  497_CART110  CART110     3028.032      NC989\n"
     ]
    },
    {
     "data": {
      "text/html": [
       "<div>\n",
       "<style scoped>\n",
       "    .dataframe tbody tr th:only-of-type {\n",
       "        vertical-align: middle;\n",
       "    }\n",
       "\n",
       "    .dataframe tbody tr th {\n",
       "        vertical-align: top;\n",
       "    }\n",
       "\n",
       "    .dataframe thead th {\n",
       "        text-align: right;\n",
       "    }\n",
       "</style>\n",
       "<table border=\"1\" class=\"dataframe\">\n",
       "  <thead>\n",
       "    <tr style=\"text-align: right;\">\n",
       "      <th></th>\n",
       "      <th>DiscountID</th>\n",
       "      <th>UserID</th>\n",
       "      <th>DiscountCode</th>\n",
       "      <th>DiscountPercent</th>\n",
       "      <th>DiscountStatus</th>\n",
       "    </tr>\n",
       "  </thead>\n",
       "  <tbody>\n",
       "    <tr>\n",
       "      <th>5</th>\n",
       "      <td>NC989</td>\n",
       "      <td>563</td>\n",
       "      <td>SAVE8682</td>\n",
       "      <td>10</td>\n",
       "      <td>0</td>\n",
       "    </tr>\n",
       "  </tbody>\n",
       "</table>\n",
       "</div>"
      ],
      "text/plain": [
       "  DiscountID UserID DiscountCode  DiscountPercent  DiscountStatus\n",
       "5      NC989    563     SAVE8682               10               0"
      ]
     },
     "execution_count": 20,
     "metadata": {},
     "output_type": "execute_result"
    }
   ],
   "source": [
    "# Create a random data\n",
    "cid = \"CART\" + str(random.randint(100, 999))  # Generate a random cart ID\n",
    "user_id = str( random.randint(100, 999) )\n",
    "\n",
    "# Business logic using Helper functions\n",
    "sps = getRandomPids()\n",
    "print(\"Selected \\n\", sps)\n",
    "\n",
    "addToCart(sps, user_id, cid)\n",
    "print(\"Cart created and products added. \\n\")\n",
    "cart = cart_transformer.read([cid])\n",
    "print(cart)\n",
    "\n",
    "checkout_with_discount(user_id, cid, did)\n",
    "print ( purchase_transformer.read([user_id+\"_\"+cid]) )\n",
    "\n",
    "discounts = discount_transformer.read([did])\n",
    "discounts"
   ]
  }
 ],
 "metadata": {
  "kernelspec": {
   "display_name": "Python 3",
   "language": "python",
   "name": "python3"
  },
  "language_info": {
   "codemirror_mode": {
    "name": "ipython",
    "version": 3
   },
   "file_extension": ".py",
   "mimetype": "text/x-python",
   "name": "python",
   "nbconvert_exporter": "python",
   "pygments_lexer": "ipython3",
   "version": "3.13.2"
  }
 },
 "nbformat": 4,
 "nbformat_minor": 5
}
