{
 "cells": [
  {
   "cell_type": "markdown",
   "id": "0",
   "metadata": {},
   "source": [
    "# **Setup the development framework such that changes in py files auto load into this file**\n",
    "- You can ignore this if your interest is only in the business logic and design. \n",
    "- The steps in this section are only environment set related"
   ]
  },
  {
   "cell_type": "markdown",
   "id": "1",
   "metadata": {},
   "source": [
    "### **Make sure py file change are loaded automatically**"
   ]
  },
  {
   "cell_type": "code",
   "execution_count": null,
   "id": "2",
   "metadata": {},
   "outputs": [],
   "source": [
    "%load_ext autoreload\n",
    "%autoreload 2"
   ]
  },
  {
   "cell_type": "markdown",
   "id": "3",
   "metadata": {},
   "source": [
    "### **Import basic package required for this assignment**"
   ]
  },
  {
   "cell_type": "code",
   "execution_count": null,
   "id": "4",
   "metadata": {},
   "outputs": [],
   "source": [
    "import os\n",
    "import pandas as pd\n",
    "import db.constants as C\n"
   ]
  },
  {
   "cell_type": "markdown",
   "id": "5",
   "metadata": {},
   "source": [
    "### **Make sure right sources are getting picked**"
   ]
  },
  {
   "cell_type": "code",
   "execution_count": null,
   "id": "6",
   "metadata": {},
   "outputs": [],
   "source": [
    "from dao.base_transformer import BaseDBTransformer"
   ]
  },
  {
   "cell_type": "code",
   "execution_count": null,
   "id": "7",
   "metadata": {},
   "outputs": [],
   "source": []
  },
  {
   "cell_type": "markdown",
   "id": "8",
   "metadata": {},
   "source": [
    "### **Make sure the latest class are getting loaded.**"
   ]
  },
  {
   "cell_type": "code",
   "execution_count": null,
   "id": "9",
   "metadata": {},
   "outputs": [],
   "source": [
    "# 1. Import the modules first (so Python knows them)\n",
    "import importlib\n",
    "import service.product_transformer\n",
    "import service.cart_transformer\n",
    "import service.purchase_transformer\n",
    "import service.discount_transformer\n",
    "import db.constants\n",
    "import db.dbsql\n",
    "\n",
    "# 2. Reload them (useful after edits)\n",
    "importlib.reload(service.product_transformer)\n",
    "importlib.reload(service.cart_transformer)\n",
    "importlib.reload(service.purchase_transformer)\n",
    "importlib.reload(service.discount_transformer)\n",
    "importlib.reload(db.constants)\n",
    "\n",
    "# 3. Import the classes fresh from the reloaded modules\n",
    "from service.product_transformer import ProductTransformer\n",
    "from service.cart_transformer import CartTransformer\n",
    "from service.purchase_transformer import PurchaseTransformer\n",
    "from service.discount_transformer import DiscountTransformer\n",
    "import db.constants\n",
    "import random\n",
    "from db.dbsql import SessionLocal, Product, ProductClass"
   ]
  },
  {
   "cell_type": "markdown",
   "id": "10",
   "metadata": {},
   "source": [
    "# **Transformers**\n",
    "- This section is the core design of the project\n",
    "- There are four transformers \n",
    "   - Products transformer: This is the database of the list of the products in EStore. The prodcuts.csv file for demo has 9 products. \n",
    "   - Cart transformer: This is user selected products added into the cart instance specific to the user. \n",
    "   - purchase transfromer: This is checkout functionaility of the cart. \n",
    "        - It has two kinds of purchases. With discount by applying discount code.\n",
    "        - It also supports purchase without applying discount code. If no discount is applied it generates a ne discount code and adds to discounts for the subsequent purchases. \n",
    "   - Discount transformer: This handles the discounts codes after the purchase. \n",
    "\n",
    "   - For each these transforers there is .py  file and .csv file in the src directory. \n",
    "   - Each transfomer derives from the base transfomer class which manages the csv read/write for that transformer. \n",
    "   - The base transformer class also handles basis CRUD operation if they are at the level of the dataframe(entire row level operations) without having to deal with individual columns (as columns are specific to the transformer)\n",
    "\n",
    "- The code is organized as a typical pyproject.toml file. "
   ]
  },
  {
   "cell_type": "markdown",
   "id": "11",
   "metadata": {},
   "source": [
    "## **Product Transformer - demonstration**"
   ]
  },
  {
   "cell_type": "code",
   "execution_count": null,
   "id": "12",
   "metadata": {},
   "outputs": [],
   "source": [
    "pt = ProductTransformer()\n",
    "prds_2050 = pt.list_products_in_class_df(2050)\n",
    "prds_all = pt.list_all_products()\n",
    "prds_2050, prds_all"
   ]
  },
  {
   "cell_type": "markdown",
   "id": "13",
   "metadata": {},
   "source": [
    "## **Discount Transformer - demonstration**"
   ]
  },
  {
   "cell_type": "code",
   "execution_count": null,
   "id": "14",
   "metadata": {},
   "outputs": [],
   "source": [
    "dt = DiscountTransformer()\n",
    "dis_all = dt.list_all_codes()\n",
    "dis_all"
   ]
  },
  {
   "cell_type": "markdown",
   "id": "15",
   "metadata": {},
   "source": [
    "## **Purchase Transformer - demonstration**"
   ]
  },
  {
   "cell_type": "code",
   "execution_count": null,
   "id": "16",
   "metadata": {},
   "outputs": [],
   "source": [
    "prt = PurchaseTransformer()\n",
    "prt.list_orders_by_customer(2)"
   ]
  },
  {
   "cell_type": "markdown",
   "id": "17",
   "metadata": {},
   "source": [
    "## **Cart Transformer - demonstration**"
   ]
  },
  {
   "cell_type": "code",
   "execution_count": null,
   "id": "18",
   "metadata": {},
   "outputs": [],
   "source": [
    "ct = CartTransformer\n",
    "ct.list_all()"
   ]
  },
  {
   "cell_type": "markdown",
   "id": "19",
   "metadata": {},
   "source": [
    "# **Business logic - Helper functions**"
   ]
  },
  {
   "cell_type": "markdown",
   "id": "20",
   "metadata": {},
   "source": [
    "### **Get a random selection of 5 products to purchase**"
   ]
  },
  {
   "cell_type": "code",
   "execution_count": null,
   "id": "21",
   "metadata": {},
   "outputs": [],
   "source": [
    "products_to_buy = pt.getRandomProducts(5)\n",
    "customer_id=3\n",
    "products_to_buy\n"
   ]
  },
  {
   "cell_type": "markdown",
   "id": "22",
   "metadata": {},
   "source": [
    "### **Add these products to the cart of a selected customer**"
   ]
  },
  {
   "cell_type": "code",
   "execution_count": null,
   "id": "23",
   "metadata": {},
   "outputs": [],
   "source": [
    "# ct = CartTransformer()\n",
    "ct.addToCart(customer_id, products_to_buy, False)\n",
    "items = ct.list_cust(customer_id)\n",
    "items\n"
   ]
  },
  {
   "cell_type": "markdown",
   "id": "24",
   "metadata": {},
   "source": [
    "### **Purchase the items in the cart**"
   ]
  },
  {
   "cell_type": "code",
   "execution_count": null,
   "id": "25",
   "metadata": {},
   "outputs": [],
   "source": [
    "order_id = prt.purchase_cart_items(customer_id, debug=True)\n",
    "print(\"Order Id =\", order_id)\n"
   ]
  },
  {
   "cell_type": "markdown",
   "id": "26",
   "metadata": {},
   "source": [
    "### **Purchase cart items with discount coupon**"
   ]
  },
  {
   "cell_type": "code",
   "execution_count": null,
   "id": "27",
   "metadata": {},
   "outputs": [],
   "source": [
    "discount_id = str(customer_id) + \"__\" + str(order_id)\n",
    "print(discount_id)\n",
    "res_with_d = prt.purchase_discounted_cart_items(customer_id, discount_id, debug=True)\n",
    "print( \" Order Id with discount =\", res_with_d)\n"
   ]
  },
  {
   "cell_type": "markdown",
   "id": "28",
   "metadata": {},
   "source": [
    "# **Admin APIs**"
   ]
  },
  {
   "cell_type": "markdown",
   "id": "29",
   "metadata": {},
   "source": [
    "### **Get all discount codes**"
   ]
  },
  {
   "cell_type": "code",
   "execution_count": null,
   "id": "30",
   "metadata": {},
   "outputs": [],
   "source": [
    "all_disc_codes = dt.list_all_codes()\n",
    "all_disc_codes\n"
   ]
  },
  {
   "cell_type": "markdown",
   "id": "31",
   "metadata": {},
   "source": [
    "### **Get codes eligible - But not enabled**"
   ]
  },
  {
   "cell_type": "code",
   "execution_count": null,
   "id": "32",
   "metadata": {},
   "outputs": [],
   "source": [
    "eligible_disc_codes = dt.list_eligible_codes(customer_id)\n",
    "eligible_disc_codes"
   ]
  },
  {
   "cell_type": "markdown",
   "id": "33",
   "metadata": {},
   "source": [
    "### **Get all active codes - But not yet used by the customer**"
   ]
  },
  {
   "cell_type": "code",
   "execution_count": null,
   "id": "34",
   "metadata": {},
   "outputs": [],
   "source": [
    "active_disc_codes = dt.list_active_codes()\n",
    "active_disc_codes"
   ]
  },
  {
   "cell_type": "markdown",
   "id": "35",
   "metadata": {},
   "source": [
    "### **Enable a discount code for a customer**"
   ]
  },
  {
   "cell_type": "markdown",
   "id": "36",
   "metadata": {},
   "source": [
    "#### **First change the status**"
   ]
  },
  {
   "cell_type": "code",
   "execution_count": null,
   "id": "37",
   "metadata": {},
   "outputs": [],
   "source": [
    "# discount id is custoemrid + __ + Order_id\n",
    "discount_id = \"3__10071\" \n",
    "dt.enable_discount_codes(discount_id, 10, \"NEW_CUSTOMER\")"
   ]
  },
  {
   "cell_type": "markdown",
   "id": "38",
   "metadata": {},
   "source": [
    "#### **Second verify the record that status has really changed**"
   ]
  },
  {
   "cell_type": "code",
   "execution_count": null,
   "id": "39",
   "metadata": {},
   "outputs": [],
   "source": [
    "active_disc_codes = dt.list_active_codes()\n",
    "active_disc_codes"
   ]
  }
 ],
 "metadata": {
  "kernelspec": {
   "display_name": "Python 3",
   "language": "python",
   "name": "python3"
  },
  "language_info": {
   "codemirror_mode": {
    "name": "ipython",
    "version": 3
   },
   "file_extension": ".py",
   "mimetype": "text/x-python",
   "name": "python",
   "nbconvert_exporter": "python",
   "pygments_lexer": "ipython3",
   "version": "3.13.2"
  }
 },
 "nbformat": 4,
 "nbformat_minor": 5
}
