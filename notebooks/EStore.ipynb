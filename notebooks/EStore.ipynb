{
 "cells": [
  {
   "cell_type": "markdown",
   "id": "0",
   "metadata": {},
   "source": [
    "# **Setup the development framework such that changes in py files auto load into this file**\n",
    "- You can ignore this if your interest is only in the business logic and design. \n",
    "- The steps in this section are only environment set related"
   ]
  },
  {
   "cell_type": "markdown",
   "id": "1",
   "metadata": {},
   "source": [
    "### **Make sure py file change are loaded automatically**"
   ]
  },
  {
   "cell_type": "code",
   "execution_count": null,
   "id": "2",
   "metadata": {},
   "outputs": [],
   "source": [
    "%load_ext autoreload\n",
    "%autoreload 2"
   ]
  },
  {
   "cell_type": "markdown",
   "id": "3",
   "metadata": {},
   "source": [
    "### **Import basic package required for this assignment**"
   ]
  },
  {
   "cell_type": "code",
   "execution_count": null,
   "id": "4",
   "metadata": {},
   "outputs": [],
   "source": [
    "import os\n",
    "import pandas as pd\n",
    "import db.constants as C\n",
    "import numpy as np\n"
   ]
  },
  {
   "cell_type": "markdown",
   "id": "5",
   "metadata": {},
   "source": [
    "### **Make sure right sources are getting picked**"
   ]
  },
  {
   "cell_type": "code",
   "execution_count": null,
   "id": "6",
   "metadata": {},
   "outputs": [],
   "source": [
    "from dao.base_transformer import BaseDBTransformer"
   ]
  },
  {
   "cell_type": "markdown",
   "id": "7",
   "metadata": {},
   "source": [
    "### **Make sure the latest class are getting loaded.**"
   ]
  },
  {
   "cell_type": "code",
   "execution_count": null,
   "id": "8",
   "metadata": {},
   "outputs": [],
   "source": [
    "# 1. Import the modules first (so Python knows them)\n",
    "import importlib\n",
    "import service.product_service\n",
    "import service.cart_service\n",
    "import service.purchase_service\n",
    "import service.discount_service\n",
    "import dao.base_transformer\n",
    "import dao.cart_transformer\n",
    "import dao.discount_transformer\n",
    "import dao.product_transformer\n",
    "import dao.purchase_transformer\n",
    "import db.constants\n",
    "import db.dbsql\n",
    "import db.dbutil\n",
    "\n",
    "# 2. Reload them (useful after edits)\n",
    "importlib.reload(service.product_service)\n",
    "importlib.reload(service.cart_service)\n",
    "importlib.reload(service.purchase_service)\n",
    "importlib.reload(service.discount_service)\n",
    "importlib.reload(db.constants)\n",
    "importlib.reload(dao.base_transformer)\n",
    "importlib.reload(dao.product_transformer)\n",
    "importlib.reload(dao.cart_transformer)\n",
    "importlib.reload(dao.discount_transformer)\n",
    "importlib.reload(dao.purchase_transformer)\n",
    "importlib.reload(db.dbutil)\n",
    "importlib.reload(db.dbsql)\n",
    "\n",
    "\n",
    "# 3. Import the classes fresh from the reloaded modules\n",
    "from service.product_service import ProductService\n",
    "from service.cart_service import CartService\n",
    "from service.purchase_service import PurchaseService\n",
    "from service.discount_service import DiscountService\n",
    "from dao.product_transformer import ProductTransformer\n",
    "from dao.discount_transformer import DiscountTransformer\n",
    "from dao.cart_transformer import CartTransformer\n",
    "from dao.purchase_transformer import PurchaseTransformer\n",
    "from dao.base_transformer import BaseDBTransformer\n",
    "import db.constants\n",
    "import random\n",
    "import db.dbutil\n",
    "from db.dbsql import SessionLocal, Product\n",
    "import pandas.testing as pdt\n",
    "import inspect"
   ]
  },
  {
   "cell_type": "markdown",
   "id": "9",
   "metadata": {},
   "source": [
    "# **Transformers**\n",
    "- This section is the core design of the project\n",
    "- There are four transformers \n",
    "   - Products transformer: This is the database of the list of the products in EStore. The prodcuts.csv file for demo has 9 products. \n",
    "   - Cart transformer: This is user selected products added into the cart instance specific to the user. \n",
    "   - purchase transfromer: This is checkout functionaility of the cart. \n",
    "        - It has two kinds of purchases. With discount by applying discount code.\n",
    "        - It also supports purchase without applying discount code. If no discount is applied it generates a ne discount code and adds to discounts for the subsequent purchases. \n",
    "   - Discount transformer: This handles the discounts codes after the purchase. \n",
    "\n",
    "   - For each these transforers there is .py  file and .csv file in the src directory. \n",
    "   - Each transfomer derives from the base transfomer class which manages the csv read/write for that transformer. \n",
    "   - The base transformer class also handles basis CRUD operation if they are at the level of the dataframe(entire row level operations) without having to deal with individual columns (as columns are specific to the transformer)\n",
    "\n",
    "- The code is organized as a typical pyproject.toml file. "
   ]
  },
  {
   "cell_type": "markdown",
   "id": "10",
   "metadata": {},
   "source": [
    "## **Product Transformer - demonstration**"
   ]
  },
  {
   "cell_type": "markdown",
   "id": "11",
   "metadata": {},
   "source": [
    "#### **Get the product**"
   ]
  },
  {
   "cell_type": "code",
   "execution_count": null,
   "id": "12",
   "metadata": {},
   "outputs": [],
   "source": [
    "pt = ProductTransformer()\n",
    "prds_all = pt.list_all_products()\n",
    "prds_all.head(5)"
   ]
  },
  {
   "cell_type": "code",
   "execution_count": null,
   "id": "13",
   "metadata": {},
   "outputs": [],
   "source": [
    "prds_all.to_dict(orient=\"records\")"
   ]
  },
  {
   "cell_type": "code",
   "execution_count": null,
   "id": "14",
   "metadata": {},
   "outputs": [],
   "source": [
    "prds_2050 = pt.list_products_in_class_df(2050)\n",
    "prds_2050.to_dict(orient='records')"
   ]
  },
  {
   "cell_type": "code",
   "execution_count": null,
   "id": "15",
   "metadata": {},
   "outputs": [],
   "source": [
    "rows = BaseDBTransformer.read(C.prdc)\n",
    "rows\n"
   ]
  },
  {
   "cell_type": "markdown",
   "id": "16",
   "metadata": {},
   "source": [
    "#### **Get a single product**"
   ]
  },
  {
   "cell_type": "code",
   "execution_count": null,
   "id": "17",
   "metadata": {},
   "outputs": [],
   "source": [
    "df = pt.list_all_products(15)\n",
    "print(type(df))\n",
    "df"
   ]
  },
  {
   "cell_type": "markdown",
   "id": "18",
   "metadata": {},
   "source": [
    "#### **Get the product classes and description**"
   ]
  },
  {
   "cell_type": "code",
   "execution_count": null,
   "id": "19",
   "metadata": {},
   "outputs": [],
   "source": [
    "prod_classes = pt.get_products_class()\n",
    "\n",
    "for i,pclass in enumerate(prod_classes[C.ptyp]):\n",
    "    print(\"Iteration i \", i, \" p class code = \", pclass)\n",
    "    if ( i>3 ):\n",
    "        break\n",
    "    pc_dict = pt.list_products_in_class(pclass)\n",
    "    print(pc_dict)\n",
    "\n",
    "prod_classes\n"
   ]
  },
  {
   "cell_type": "markdown",
   "id": "20",
   "metadata": {},
   "source": [
    "## **Discount Transformer - demonstration**"
   ]
  },
  {
   "cell_type": "code",
   "execution_count": null,
   "id": "21",
   "metadata": {},
   "outputs": [],
   "source": [
    "dt = DiscountTransformer()\n",
    "dis_all = dt.list_all_codes()\n",
    "dis_all"
   ]
  },
  {
   "cell_type": "markdown",
   "id": "22",
   "metadata": {},
   "source": [
    "## **Purchase Transformer - demonstration**"
   ]
  },
  {
   "cell_type": "code",
   "execution_count": null,
   "id": "23",
   "metadata": {},
   "outputs": [],
   "source": [
    "prt = PurchaseTransformer()\n",
    "prt.list_orders_by_customer(3)"
   ]
  },
  {
   "cell_type": "markdown",
   "id": "24",
   "metadata": {},
   "source": [
    "## **Cart Transformer - demonstration**"
   ]
  },
  {
   "cell_type": "code",
   "execution_count": null,
   "id": "25",
   "metadata": {},
   "outputs": [],
   "source": [
    "ct = CartTransformer\n",
    "ct.list_all()"
   ]
  },
  {
   "cell_type": "markdown",
   "id": "26",
   "metadata": {},
   "source": [
    "# **Business logic - Helper functions**"
   ]
  },
  {
   "cell_type": "markdown",
   "id": "27",
   "metadata": {},
   "source": [
    "### **Get a random selection of 5 products to purchase**"
   ]
  },
  {
   "cell_type": "code",
   "execution_count": null,
   "id": "28",
   "metadata": {},
   "outputs": [],
   "source": [
    "products_to_buy = pt.getRandomProducts(5)\n",
    "customer_id=3\n"
   ]
  },
  {
   "cell_type": "code",
   "execution_count": null,
   "id": "29",
   "metadata": {},
   "outputs": [],
   "source": [
    "products_to_buy"
   ]
  },
  {
   "cell_type": "markdown",
   "id": "30",
   "metadata": {},
   "source": [
    "### **Add these products to the cart of a selected customer**"
   ]
  },
  {
   "cell_type": "markdown",
   "id": "31",
   "metadata": {},
   "source": [
    "##### **Select the items**"
   ]
  },
  {
   "cell_type": "code",
   "execution_count": null,
   "id": "32",
   "metadata": {},
   "outputs": [],
   "source": [
    "selected_items = products_to_buy.loc[:, [C.pid]]\n",
    "selected_items[C.qnt] = np.random.randint(1, 3, size=len(selected_items))\n",
    "items = selected_items.to_dict(orient='records')\n",
    "items\n"
   ]
  },
  {
   "cell_type": "markdown",
   "id": "33",
   "metadata": {},
   "source": [
    "##### **Add Them to the cart**"
   ]
  },
  {
   "cell_type": "code",
   "execution_count": null,
   "id": "34",
   "metadata": {},
   "outputs": [],
   "source": [
    "CartTransformer.addToCart(customer_id, items, debug=True)"
   ]
  },
  {
   "cell_type": "markdown",
   "id": "35",
   "metadata": {},
   "source": [
    "##### **Verify the addition**"
   ]
  },
  {
   "cell_type": "code",
   "execution_count": null,
   "id": "36",
   "metadata": {},
   "outputs": [],
   "source": [
    "print(\"customer_id = \", customer_id)\n",
    "# CartTransformer.list_cust(customer_id)\n",
    "# BaseDBTransformer.read(C.cart, **{C.custid:customer_id})\n",
    "# BaseDBTransformer.readf(C.cart, **{C.custid+\"__eq\":customer_id})\n",
    "BaseDBTransformer.read(C.cart, customer_id)"
   ]
  },
  {
   "cell_type": "markdown",
   "id": "37",
   "metadata": {},
   "source": [
    "#### **Verify empty cart**"
   ]
  },
  {
   "cell_type": "code",
   "execution_count": null,
   "id": "38",
   "metadata": {},
   "outputs": [],
   "source": [
    "# PurchaseTransformer.empty_cart(3)"
   ]
  },
  {
   "cell_type": "markdown",
   "id": "39",
   "metadata": {},
   "source": [
    "### **Purchase the items in the cart**"
   ]
  },
  {
   "cell_type": "code",
   "execution_count": null,
   "id": "40",
   "metadata": {},
   "outputs": [],
   "source": [
    "order_id = PurchaseService.purchase_cart_items(customer_id, debug=True)\n",
    "print(\"Order Id =\", order_id)\n"
   ]
  },
  {
   "cell_type": "markdown",
   "id": "41",
   "metadata": {},
   "source": [
    "##### **Delete a purchase**"
   ]
  },
  {
   "cell_type": "code",
   "execution_count": null,
   "id": "42",
   "metadata": {},
   "outputs": [],
   "source": [
    "# PurchaseService.deletePurchase(order_id, customer_id)"
   ]
  },
  {
   "cell_type": "markdown",
   "id": "43",
   "metadata": {},
   "source": [
    "### **Purchase cart items with discount coupon**"
   ]
  },
  {
   "cell_type": "code",
   "execution_count": null,
   "id": "44",
   "metadata": {},
   "outputs": [],
   "source": [
    "customer_id = 3\n",
    "discount_id = DiscountTransformer.generate_discount_id(order_id, customer_id)\n",
    "print(customer_id, order_id, discount_id)"
   ]
  },
  {
   "cell_type": "code",
   "execution_count": null,
   "id": "45",
   "metadata": {},
   "outputs": [],
   "source": [
    "cust_cart = BaseDBTransformer.read(C.cart, **{C.custid: customer_id})\n",
    "for i, dict in enumerate(cust_cart.to_dict(orient='records')):\n",
    "    prd_df = BaseDBTransformer.read(C.prd, dict[C.pid])\n",
    "    prd_dict = prd_df.iloc[0].to_dict()\n",
    "    print(prd_dict)\n",
    "print(cust_cart)\n"
   ]
  },
  {
   "cell_type": "code",
   "execution_count": null,
   "id": "46",
   "metadata": {},
   "outputs": [],
   "source": [
    "print(discount_id)\n",
    "res_with_d = PurchaseService.purchase_discounted_cart_items(customer_id, discount_id, debug=True)\n",
    "print( \" Order Id with discount =\", res_with_d)\n"
   ]
  },
  {
   "cell_type": "code",
   "execution_count": null,
   "id": "47",
   "metadata": {},
   "outputs": [],
   "source": [
    "# lastly cleanup this purchase and verify if delete purcahse is working. \n",
    "# order_id_disc = 10072\n",
    "# cust_id = customer_id\n",
    "# order_id = 10071\n",
    "# PurchaseTransformer.deletePurchase(order_id_disc, cust_id, None)\n",
    "# PurchaseService.deletePurchase(order_id, cust_id)\n",
    "# itm = BaseDBTransformer.readf(C.items, **{C.ordid: order_id})\n",
    "# itm_d = BaseDBTransformer.readf(C.items, **{C.ordid: order_id_disc})\n",
    "# crt = BaseDBTransformer.readf(C.cart, **{C.custid: cust_id})\n",
    "# ord = BaseDBTransformer.readf(C.orders, **{C.ordid: order_id})\n",
    "# ord_d = BaseDBTransformer.readf(C.orders, **{C.ordid: order_id_disc})\n"
   ]
  },
  {
   "cell_type": "code",
   "execution_count": null,
   "id": "48",
   "metadata": {},
   "outputs": [],
   "source": [
    "DiscountService.list_eligible_codes(3)"
   ]
  },
  {
   "cell_type": "markdown",
   "id": "49",
   "metadata": {},
   "source": [
    "# **Admin APIs**"
   ]
  },
  {
   "cell_type": "markdown",
   "id": "50",
   "metadata": {},
   "source": [
    "### **Get all discount codes**"
   ]
  },
  {
   "cell_type": "code",
   "execution_count": null,
   "id": "51",
   "metadata": {},
   "outputs": [],
   "source": [
    "all_disc_codes = dt.list_all_codes()\n",
    "all_disc_codes\n"
   ]
  },
  {
   "cell_type": "markdown",
   "id": "52",
   "metadata": {},
   "source": [
    "### **Get codes eligible - But not enabled**"
   ]
  },
  {
   "cell_type": "code",
   "execution_count": null,
   "id": "53",
   "metadata": {},
   "outputs": [],
   "source": [
    "eligible_disc_codes = dt.list_eligible_codes(customer_id)\n",
    "eligible_disc_codes"
   ]
  },
  {
   "cell_type": "markdown",
   "id": "54",
   "metadata": {},
   "source": [
    "### **Get all active codes - But not yet used by the customer**"
   ]
  },
  {
   "cell_type": "code",
   "execution_count": null,
   "id": "55",
   "metadata": {},
   "outputs": [],
   "source": [
    "active_disc_codes = dt.list_active_codes()\n",
    "active_disc_codes"
   ]
  },
  {
   "cell_type": "markdown",
   "id": "56",
   "metadata": {},
   "source": [
    "#### **Get used discount codes by the customer**"
   ]
  },
  {
   "cell_type": "code",
   "execution_count": null,
   "id": "57",
   "metadata": {},
   "outputs": [],
   "source": [
    "dt.list_used_codes(customer_id)"
   ]
  },
  {
   "cell_type": "markdown",
   "id": "58",
   "metadata": {},
   "source": [
    "### **Enable a discount code for a customer**"
   ]
  },
  {
   "cell_type": "markdown",
   "id": "59",
   "metadata": {},
   "source": [
    "#### **First change the status**"
   ]
  },
  {
   "cell_type": "code",
   "execution_count": null,
   "id": "60",
   "metadata": {},
   "outputs": [],
   "source": [
    "discount_id = \"3__10071\" \n",
    "dt.enable_discount_codes(discount_id, 20, \"FESTIVAL OFFER\")"
   ]
  },
  {
   "cell_type": "markdown",
   "id": "61",
   "metadata": {},
   "source": [
    "#### **Second verify the record that status has really changed**"
   ]
  },
  {
   "cell_type": "code",
   "execution_count": null,
   "id": "62",
   "metadata": {},
   "outputs": [],
   "source": [
    "active_disc_codes = dt.list_active_codes()\n",
    "active_disc_codes"
   ]
  },
  {
   "cell_type": "markdown",
   "id": "63",
   "metadata": {},
   "source": [
    "#### **Check Orders and items by customer**"
   ]
  },
  {
   "cell_type": "code",
   "execution_count": null,
   "id": "64",
   "metadata": {},
   "outputs": [],
   "source": [
    "# print(order_id)\n",
    "# print( PurchaseTransformer.list_orders_by_customer(customer_id) )\n",
    "# df = BaseDBTransformer.read(C.items, \"10077\")\n",
    "# df\n"
   ]
  },
  {
   "cell_type": "markdown",
   "id": "65",
   "metadata": {},
   "source": [
    "### **Test the FASTAPIs**"
   ]
  },
  {
   "cell_type": "code",
   "execution_count": null,
   "id": "66",
   "metadata": {},
   "outputs": [],
   "source": [
    "df = ProductTransformer.get_products_class()\n",
    "mapped = df.to_dict(orient=\"records\")\n",
    "mapped"
   ]
  },
  {
   "cell_type": "markdown",
   "id": "67",
   "metadata": {},
   "source": [
    "### **Invoices**"
   ]
  },
  {
   "cell_type": "markdown",
   "id": "68",
   "metadata": {},
   "source": [
    "##### **Check all the tables and entries**"
   ]
  },
  {
   "cell_type": "code",
   "execution_count": null,
   "id": "69",
   "metadata": {},
   "outputs": [],
   "source": [
    "prds_all = BaseDBTransformer.read(C.prd)\n",
    "orders = BaseDBTransformer.read(C.orders)\n",
    "items =  BaseDBTransformer.read(C.items)\n",
    "prdc = BaseDBTransformer.read(C.prdc)\n",
    "custs = BaseDBTransformer.read(C.custs)\n",
    "print( custs['CUSTOMER_ID'].sort_values().unique())\n",
    "print( items[C.pid].sort_values().unique())\n",
    "print( prdc[C.ptyp].sort_values().unique() )\n",
    "prds_all[C.pid].sort_values().unique()\n"
   ]
  },
  {
   "cell_type": "markdown",
   "id": "70",
   "metadata": {},
   "source": [
    "##### **Generate the invoices**"
   ]
  },
  {
   "cell_type": "code",
   "execution_count": null,
   "id": "71",
   "metadata": {},
   "outputs": [],
   "source": [
    "PurchaseService.generate_invoice(36)"
   ]
  },
  {
   "cell_type": "markdown",
   "id": "72",
   "metadata": {},
   "source": [
    "## **Cleanup the database**"
   ]
  },
  {
   "cell_type": "markdown",
   "id": "73",
   "metadata": {},
   "source": [
    "##### **Delete everything and re-populate the default**\n",
    "- Uncomment when needed otehrwise it erases everything and resets the data"
   ]
  },
  {
   "cell_type": "code",
   "execution_count": null,
   "id": "74",
   "metadata": {},
   "outputs": [],
   "source": [
    "# from pathlib import Path\n",
    "# BaseDBTransformer.purge()\n",
    "\n",
    "# ROOT = BaseDBTransformer.get_project_root()  # go up from tests/ to project root\n",
    "# sql_path = ROOT / \"data\" / \"ordersdb.sql\"\n",
    "# print( sql_path, \"\\n\", ROOT)"
   ]
  },
  {
   "cell_type": "markdown",
   "id": "75",
   "metadata": {},
   "source": [
    "##### **Erase a purchase and associated discount purchase**"
   ]
  },
  {
   "cell_type": "code",
   "execution_count": null,
   "id": "76",
   "metadata": {},
   "outputs": [],
   "source": [
    "# # lastly cleanup this purchase and verify if delete purcahse is working. \n",
    "# PurchaseTransformer.deletePurchase(order_id_disc, cust_id, None)\n",
    "# PurchaseService.deletePurchase(order_id, cust_id)\n",
    "# itm = BaseDBTransformer.readf(C.items, **{C.ordid: order_id})\n",
    "# itm_d = BaseDBTransformer.readf(C.items, **{C.ordid: order_id_disc})\n",
    "# crt = BaseDBTransformer.readf(C.cart, **{C.custid: cust_id})\n",
    "# ord = BaseDBTransformer.readf(C.orders, **{C.ordid: order_id})\n",
    "# ord_d = BaseDBTransformer.readf(C.orders, **{C.ordid: order_id_disc})\n",
    "# dis = BaseDBTransformer.readf(C.discounts, **{C.did: disc_id})\n",
    "# print( len(dis), len(ord), len(crt), len(itm) )\n",
    "# assert all( [(len(dis) == 0), (len(itm) == 0), ( len(ord) == 0), ( len(crt) == 0)]) \n",
    "# print( \" Success Cleanup successfull after purchase \")"
   ]
  },
  {
   "cell_type": "markdown",
   "id": "77",
   "metadata": {},
   "source": [
    "## **Integration testing**\n",
    "- Invocation of the FastAPI endpoints with TestClient"
   ]
  },
  {
   "cell_type": "markdown",
   "id": "78",
   "metadata": {},
   "source": [
    "### **Invocation of product end point in product_router**"
   ]
  },
  {
   "cell_type": "code",
   "execution_count": null,
   "id": "79",
   "metadata": {},
   "outputs": [],
   "source": [
    "from fastapi.testclient import TestClient\n",
    "from app.app import app   # import your FastAPI instance\n",
    "\n",
    "from dao.product_transformer import ProductTransformer\n",
    "from dao.discount_transformer import DiscountTransformer\n",
    "from dao.purchase_transformer import PurchaseTransformer\n",
    "\n",
    "import pandas as pd\n",
    "import numpy as np\n",
    "import pandas.testing as pdt\n",
    "\n",
    "# Create test client\n",
    "client = TestClient(app)\n",
    "\n",
    "# Run test manually\n",
    "response = client.get(\"/products/products\")\n",
    "print(\"Status:\", response.status_code)\n",
    "print(\"Response:\", response.json())\n"
   ]
  },
  {
   "cell_type": "code",
   "execution_count": null,
   "id": "80",
   "metadata": {},
   "outputs": [],
   "source": [
    "if(1):\n",
    "    response = client.get(\"/products/products/classes\")\n",
    "    print(\"Status:\", response.status_code)\n",
    "    print(\"Response:\", response.json())"
   ]
  },
  {
   "cell_type": "code",
   "execution_count": null,
   "id": "81",
   "metadata": {},
   "outputs": [],
   "source": [
    "if(1):\n",
    "    pid = 199\n",
    "    urlpath = f\"/products/products/{pid}\"   # f-string avoids str() conversion issues\n",
    "    response = client.get(urlpath)\n",
    "\n",
    "    print(\"Status:\", response.status_code)\n",
    "    print(\"Response:\", response.json())\n",
    "\n",
    "    # Example assertion: status should be 200 or 404\n",
    "    assert response.status_code in (200, 404)"
   ]
  },
  {
   "cell_type": "code",
   "execution_count": null,
   "id": "82",
   "metadata": {},
   "outputs": [],
   "source": [
    "if(1):\n",
    "    class_id = 2049\n",
    "    urlpath = f\"/products/products/class/{class_id}\"   # f-string avoids str() conversion issues\n",
    "    response = client.get(urlpath)\n",
    "\n",
    "    print(\"Status:\", response.status_code)\n",
    "    print(\"Response:\", response.json())\n",
    "\n",
    "    # Example assertion: status should be 200 or 404\n",
    "    assert response.status_code in (200, 404)"
   ]
  },
  {
   "cell_type": "code",
   "execution_count": null,
   "id": "83",
   "metadata": {},
   "outputs": [],
   "source": [
    "if(1):\n",
    "    cust_id = 15\n",
    "    response = client.get(\"/cart/cart\", params={\"cust_id\": cust_id})\n",
    "    \n",
    "    print(f\"Testing cust_id={cust_id}\")\n",
    "\n",
    "    # assertions: either we get a list of cart items or the \"empty cart\" message\n",
    "    assert response.status_code == 200\n",
    "    data = response.json()    \n",
    "    print(\"Status:\", response.status_code)\n",
    "    print(\"Response:\", response.json())\n"
   ]
  },
  {
   "cell_type": "code",
   "execution_count": null,
   "id": "84",
   "metadata": {},
   "outputs": [],
   "source": [
    "payload = {\n",
    "    \"CUSTOMER_ID\": 15,\n",
    "    \"ITEMS\": [\n",
    "        {\"PRODUCT_ID\": 201, \"PRODUCT_QUANTITY\": 2},\n",
    "        {\"PRODUCT_ID\": 203, \"PRODUCT_QUANTITY\": 1}\n",
    "    ]\n",
    "}\n",
    "\n",
    "response = client.post(\"/cart/cart\", json=payload)\n",
    "\n",
    "print(\"Status:\", response.status_code)\n",
    "print(\"Response:\", response.json())\n",
    "assert response.status_code in ( 200,422)\n"
   ]
  },
  {
   "cell_type": "code",
   "execution_count": null,
   "id": "85",
   "metadata": {},
   "outputs": [],
   "source": [
    "payload = {\n",
    "    \"CUSTOMER_ID\": 15,\n",
    "    \"ITEMS\": [\n",
    "        {\"PRODUCT_ID\": 201, \"PRODUCT_QUANTITY\": 2},\n",
    "        {\"PRODUCT_ID\": 203, \"PRODUCT_QUANTITY\": 1}\n",
    "    ]\n",
    "}\n",
    "\n",
    "response = client.post(\"/cart/cart/update\", json=payload)\n",
    "\n",
    "print(\"Status:\", response.status_code)\n",
    "print(\"Response:\", response.json())\n",
    "assert response.status_code in ( 200,422)\n"
   ]
  },
  {
   "cell_type": "code",
   "execution_count": null,
   "id": "86",
   "metadata": {},
   "outputs": [],
   "source": [
    "if(1):\n",
    "    cust_id = 3\n",
    "    response = client.get(\"/discount/discount/all\", params={\"cust_id\": cust_id})\n",
    "    print(f\"Testing cust_id={cust_id}, {response}\")\n",
    "    # assertions: either we get a list of cart items or the \"empty cart\" message\n",
    "    assert response.status_code == 200\n",
    "    data = response.json()\n",
    "    print(\"Status:\", response.status_code)\n",
    "    print(\"Response:\", response.json() )"
   ]
  },
  {
   "cell_type": "code",
   "execution_count": null,
   "id": "87",
   "metadata": {},
   "outputs": [],
   "source": [
    "if(1):\n",
    "    cust_id = 15\n",
    "    urlpath = f\"/discount/discount/used/{cust_id}\"   # f-string avoids str() conversion issues\n",
    "    response = client.get(urlpath, params={\"cust_id\": cust_id})\n",
    "    print(f\"Testing cust_id={cust_id}, {response}\")\n",
    "    # assertions: either we get a list of cart items or the \"empty cart\" message\n",
    "    assert response.status_code == 200\n",
    "    data = response.json()\n",
    "    print(\"Status:\", response.status_code)\n",
    "    print(\"Response:\", response.json() )"
   ]
  },
  {
   "cell_type": "code",
   "execution_count": null,
   "id": "88",
   "metadata": {},
   "outputs": [],
   "source": [
    "if(1):   \n",
    "    response = client.get(\"/discount/discount/active\")\n",
    "    print(f\"Discount codes = {response}\")\n",
    "    # assertions: either we get a list of cart items or the \"empty cart\" message\n",
    "    assert response.status_code == 200\n",
    "    data = response.json()\n",
    "    print(\"Status:\", response.status_code)\n",
    "    print(\"Response:\", response.json() )"
   ]
  },
  {
   "cell_type": "code",
   "execution_count": null,
   "id": "89",
   "metadata": {},
   "outputs": [],
   "source": [
    "if(1):\n",
    "    urlpath = f\"/discount/discount/eligible/{cust_id}\"   # f-string avoids str() conversion issues\n",
    "    response = client.get(urlpath, params={\"cust_id\": cust_id})\n",
    "    print(f\"Testing cust_id={cust_id}, {response}\")\n",
    "    # assertions: either we get a list of cart items or the \"empty cart\" message\n",
    "    assert response.status_code == 200\n",
    "    data = response.json()\n",
    "    print(\"Status:\", response.status_code)\n",
    "    print(\"Response:\", response.json() )"
   ]
  },
  {
   "cell_type": "code",
   "execution_count": null,
   "id": "90",
   "metadata": {},
   "outputs": [],
   "source": [
    "if(1):\n",
    "    gpayload = {\n",
    "        \"CUSTOMER_ID\": 15,\n",
    "        \"ITEMS\": [\n",
    "            {\"PRODUCT_ID\": 201, \"PRODUCT_QUANTITY\": 2},\n",
    "            {\"PRODUCT_ID\": 203, \"PRODUCT_QUANTITY\": 1}\n",
    "        ]\n",
    "    }\n",
    "    response = client.post(\"/cart/cart\", json=gpayload)\n",
    "    payload = {\"CUSTOMER_ID\": 15}\n",
    "    resp = client.post(\"/purchase/purchase\", json=payload)\n",
    "    assert resp.status_code == 200\n",
    "    data = resp.json()\n",
    "    print( data[\"ORDER_ID\"], payload[\"CUSTOMER_ID\"])\n",
    "    customer_id = int(payload[\"CUSTOMER_ID\"])\n",
    "    order_id = int(data[\"ORDER_ID\"])\n",
    "    did = DiscountTransformer.generate_discount_id(data[\"ORDER_ID\"], payload[\"CUSTOMER_ID\"])\n",
    "    valid_discount_id = did\n",
    "    print(valid_discount_id, customer_id, order_id )"
   ]
  },
  {
   "cell_type": "code",
   "execution_count": null,
   "id": "91",
   "metadata": {},
   "outputs": [],
   "source": [
    "if(1):\n",
    "    payload_d = {\n",
    "            \"DISCOUNT_STATUS\": 0,\n",
    "            \"DISCOUNT_ID\": \"15__10078\",\n",
    "            \"DISCOUNT_PERCENT\": 15,\n",
    "            \"DISCOUNT_CODE\": \"SUMMER20\"\n",
    "        }\n",
    "    response = client.post(\"/discount/discount/update\", json=payload_d)\n",
    "    print(\"Status:\", response.status_code)\n",
    "    print(\"Response:\", response.json())\n",
    "\n",
    "    assert response.status_code in (200, 422)\n",
    "\n",
    "    data = response.json()\n",
    "    assert \"DISCOUNT_ID\" in data\n"
   ]
  },
  {
   "cell_type": "code",
   "execution_count": null,
   "id": "92",
   "metadata": {},
   "outputs": [],
   "source": [
    "response.status_code"
   ]
  },
  {
   "cell_type": "code",
   "execution_count": null,
   "id": "93",
   "metadata": {},
   "outputs": [],
   "source": [
    "if(1):\n",
    "    payload_d = {\n",
    "            \"DISCOUNT_STATUS\": 0,\n",
    "            \"DISCOUNT_ID\": \"15__10078\",\n",
    "            \"DISCOUNT_PERCENT\": 10,\n",
    "            \"DISCOUNT_CODE\": \"FESTIVAL\"\n",
    "        }\n",
    "    response = client.post(\"/discount/discount/update\", json=payload_d)\n",
    "    print(\"Status:\", response.status_code)\n",
    "    print(\"Response:\", response.json())\n",
    "\n",
    "    assert response.status_code == 200\n",
    "\n",
    "    data = response.json()\n",
    "    assert \"DISCOUNT_ID\" in data\n",
    "\n"
   ]
  },
  {
   "cell_type": "code",
   "execution_count": null,
   "id": "94",
   "metadata": {},
   "outputs": [],
   "source": [
    "discount_id='15__10080'\n",
    "row = BaseDBTransformer.readf(C.discounts, **{C.dpct + \"__gte\":0, C.dst + \"__eq\":0, C.did + \"__eq\":discount_id})\n",
    "row\n",
    "\n",
    "# row = BaseDBTransformer.readf(C.discounts)\n",
    "# row"
   ]
  },
  {
   "cell_type": "code",
   "execution_count": null,
   "id": "95",
   "metadata": {},
   "outputs": [],
   "source": [
    "if(1):\n",
    "    gpayload = {\n",
    "        \"CUSTOMER_ID\": 15,\n",
    "        \"ITEMS\": [\n",
    "            {\"PRODUCT_ID\": 201, \"PRODUCT_QUANTITY\": 2},\n",
    "            {\"PRODUCT_ID\": 203, \"PRODUCT_QUANTITY\": 1}\n",
    "        ]\n",
    "    }\n",
    "    response = client.post(\"/cart/cart\", json=gpayload)\n",
    "    payload = {\n",
    "        \"CUSTOMER_ID\": customer_id,\n",
    "        \"DISCOUNT_ID\": \"Missing\"\n",
    "    }\n",
    "    resp = client.post(\"/purchase/purchase/discount\", json=payload)\n",
    "    print(\"Payload:\", payload)\n",
    "    print(\"Response:\", resp.json())\n",
    "\n",
    "    assert resp.status_code == 200\n",
    "    data = resp.json()\n",
    "    assert \"ORDER_ID\" in data\n",
    "    assert \"MESSAGE\" in data"
   ]
  },
  {
   "cell_type": "code",
   "execution_count": null,
   "id": "96",
   "metadata": {},
   "outputs": [],
   "source": [
    "payload_d = {\n",
    "        \"DISCOUNT_STATUS\": 0,\n",
    "        \"DISCOUNT_ID\": \"15__10078\",\n",
    "        \"DISCOUNT_PERCENT\": 10,\n",
    "        \"DISCOUNT_CODE\": \"FESTIVAL\"\n",
    "    }\n",
    "response = client.post(\"/discount/discount/update\", json=payload_d)\n",
    "print(\"Status:\", response.status_code)\n",
    "print(\"Response:\", response.json())"
   ]
  }
 ],
 "metadata": {
  "kernelspec": {
   "display_name": "Python 3",
   "language": "python",
   "name": "python3"
  },
  "language_info": {
   "codemirror_mode": {
    "name": "ipython",
    "version": 3
   },
   "file_extension": ".py",
   "mimetype": "text/x-python",
   "name": "python",
   "nbconvert_exporter": "python",
   "pygments_lexer": "ipython3",
   "version": "3.13.2"
  }
 },
 "nbformat": 4,
 "nbformat_minor": 5
}
