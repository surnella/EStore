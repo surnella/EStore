{
 "cells": [
  {
   "cell_type": "markdown",
   "id": "e0a7270f",
   "metadata": {},
   "source": [
    "# **Setup the development framework such that changes in py files auto load into this file**\n",
    "- You can ignore this if your interest is only in the business logic and design. \n",
    "- The steps in this section are only environment set related"
   ]
  },
  {
   "cell_type": "markdown",
   "id": "143d513f",
   "metadata": {},
   "source": [
    "### **Make sure py file change are loaded automatically**"
   ]
  },
  {
   "cell_type": "code",
   "execution_count": 1,
   "id": "f13304f4",
   "metadata": {},
   "outputs": [],
   "source": [
    "%load_ext autoreload\n",
    "%autoreload 2"
   ]
  },
  {
   "cell_type": "markdown",
   "id": "2d68c53d",
   "metadata": {},
   "source": [
    "### **Import basic package required for this assignment**"
   ]
  },
  {
   "cell_type": "code",
   "execution_count": 2,
   "id": "e2daa7ec",
   "metadata": {},
   "outputs": [],
   "source": [
    "import os\n",
    "import pandas as pd\n",
    "import db.constants as C\n"
   ]
  },
  {
   "cell_type": "markdown",
   "id": "ce522247",
   "metadata": {},
   "source": [
    "### **Make sure right sources are getting picked**"
   ]
  },
  {
   "cell_type": "code",
   "execution_count": 3,
   "id": "ac5a6152",
   "metadata": {},
   "outputs": [],
   "source": [
    "from dao.base_transformer import BaseDBTransformer"
   ]
  },
  {
   "cell_type": "markdown",
   "id": "e87ceacc",
   "metadata": {},
   "source": [
    "### **Make sure the latest class are getting loaded.**"
   ]
  },
  {
   "cell_type": "code",
   "execution_count": 4,
   "id": "689282d6",
   "metadata": {},
   "outputs": [],
   "source": [
    "# 1. Import the modules first (so Python knows them)\n",
    "import importlib\n",
    "import service.product_transformer\n",
    "import service.cart_transformer\n",
    "import service.purchase_transformer\n",
    "import service.discount_transformer\n",
    "import db.constants\n",
    "import db.dbsql\n",
    "\n",
    "# 2. Reload them (useful after edits)\n",
    "importlib.reload(service.product_transformer)\n",
    "importlib.reload(service.cart_transformer)\n",
    "importlib.reload(service.purchase_transformer)\n",
    "importlib.reload(service.discount_transformer)\n",
    "importlib.reload(db.constants)\n",
    "\n",
    "# 3. Import the classes fresh from the reloaded modules\n",
    "from service.product_transformer import ProductTransformer\n",
    "from service.cart_transformer import CartTransformer\n",
    "from service.purchase_transformer import PurchaseTransformer\n",
    "from service.discount_transformer import DiscountTransformer\n",
    "import db.constants\n",
    "import random"
   ]
  },
  {
   "cell_type": "markdown",
   "id": "cfdfd441",
   "metadata": {},
   "source": [
    "# **Transformers**\n",
    "- This section is the core design of the project\n",
    "- There are four transformers \n",
    "   - Products transformer: This is the database of the list of the products in EStore. The prodcuts.csv file for demo has 9 products. \n",
    "   - Cart transformer: This is user selected products added into the cart instance specific to the user. \n",
    "   - purchase transfromer: This is checkout functionaility of the cart. \n",
    "        - It has two kinds of purchases. With discount by applying discount code.\n",
    "        - It also supports purchase without applying discount code. If no discount is applied it generates a ne discount code and adds to discounts for the subsequent purchases. \n",
    "   - Discount transformer: This handles the discounts codes after the purchase. \n",
    "\n",
    "   - For each these transforers there is .py  file and .csv file in the src directory. \n",
    "   - Each transfomer derives from the base transfomer class which manages the csv read/write for that transformer. \n",
    "   - The base transformer class also handles basis CRUD operation if they are at the level of the dataframe(entire row level operations) without having to deal with individual columns (as columns are specific to the transformer)\n",
    "\n",
    "- The code is organized as a typical pyproject.toml file. "
   ]
  },
  {
   "cell_type": "markdown",
   "id": "f9b94485",
   "metadata": {},
   "source": [
    "## **Product Transformer - demonstration**"
   ]
  },
  {
   "cell_type": "code",
   "execution_count": null,
   "id": "7715fd93",
   "metadata": {},
   "outputs": [],
   "source": [
    "pt = ProductTransformer()\n",
    "\n",
    "pt.list_products_in_class(2050)"
   ]
  },
  {
   "cell_type": "code",
   "execution_count": null,
   "id": "81f78754",
   "metadata": {},
   "outputs": [],
   "source": [
    "# pt = ProductTransformer(engine)\n",
    "\n",
    "# Load existing rows into memor\n",
    "df = pt.read()\n",
    "\n",
    "# Insert new product\n",
    "r = pt.create(301, \"IBM Thinkpad Laptop\", 2050, 5000.00, 100, 150, 300, 20, 1.50)\n",
    "print(r)\n",
    "# pt.create(302, \"IBM Thinkpad Laptop\", 2050, 5000.00, 100, 150, 300, 20, 1.50)\n",
    "\n",
    "\n",
    "# Update a product\n",
    "# pt.update(301, **{C.mrp:4999.99} )\n",
    "\n",
    "# Delete a product\n",
    "# pt.delete(302)\n"
   ]
  },
  {
   "cell_type": "code",
   "execution_count": null,
   "id": "51c5225c",
   "metadata": {},
   "outputs": [],
   "source": [
    "pt.data"
   ]
  },
  {
   "cell_type": "markdown",
   "id": "1b415fb3",
   "metadata": {},
   "source": [
    "## **Discount Transformer - demonstration**"
   ]
  },
  {
   "cell_type": "code",
   "execution_count": null,
   "id": "2118b0c2",
   "metadata": {},
   "outputs": [],
   "source": [
    "# Initialize\n",
    "discount_csv = \"data/discounts.csv\"\n",
    "discount_transformer = DiscountTransformer(file_path=discount_csv)\n",
    "\n",
    "# Create a random data\n",
    "cid1 = \"CART\" + str(random.randint(100, 999))  # Generate a random cart ID\n",
    "cid2 = \"CART\" + str(random.randint(100, 999))  # Generate a random cart ID\n",
    "\n",
    "user_id1 = str(random.randint(100, 999))\n",
    "user_id2 = str(random.randint(100, 999))\n",
    "\n",
    "discode1 = [ \"NEW\", \"SAVE\", \"FESTIVE\"][random.randint(0, 2)] + str(random.randint(1000, 9999))\n",
    "discode2 = [ \"NEW\", \"SAVE\", \"FESTIVE\"][random.randint(0, 2)] + str(random.randint(1000, 9999))\n",
    "\n",
    "did1 = [\"FD\",\"NC\",\"DR\"][random.randint(0,2)] + str(random.randint(100, 999))\n",
    "did2 = [\"FD\",\"NC\",\"DR\"][random.randint(0,2)] + str(random.randint(100, 999))\n",
    "\n",
    "dpct1 = random.randint(5, 10)\n",
    "dpct2 = random.randint(5, 10)\n",
    "\n",
    "\n",
    "# Test: Write sample data\n",
    "sample_discounts = pd.DataFrame([\n",
    "    {C.did: did1, C.usrid: user_id1, C.dcode: discode1, C.dpct: dpct1, C.dst: 0},\n",
    "    {C.did: did2, C.usrid: user_id2, C.dcode: discode2, C.dpct: dpct2, C.dst: 0}\n",
    "])\n",
    "\n",
    "discount_transformer.update_df(sample_discounts, mode=\"overwrite\")\n",
    "discount_transformer.read()"
   ]
  },
  {
   "cell_type": "markdown",
   "id": "35104d97",
   "metadata": {},
   "source": [
    "## **Purchase Transformer - demonstration**"
   ]
  },
  {
   "cell_type": "code",
   "execution_count": null,
   "id": "c0582982",
   "metadata": {},
   "outputs": [],
   "source": [
    "# Initialize\n",
    "purchase_csv = \"data/purchases.csv\"\n",
    "purchase_transformer = PurchaseTransformer(file_path=purchase_csv)\n",
    "\n",
    "# Test: Write sample data\n",
    "sample_purchases = pd.DataFrame([\n",
    "    {C.prcid: cid1+\"_\"+user_id1, C.cid: cid1, C.tamt: 772.92, C.did: did1},\n",
    "    {C.prcid: cid2+\"_\"+user_id2, C.cid: cid2, C.tamt: 972.00, C.did: did2}\n",
    "])\n",
    "purchase_transformer.update_df(sample_purchases, mode=\"overwrite\")\n",
    "purchase_transformer.read()"
   ]
  },
  {
   "cell_type": "markdown",
   "id": "2753409f",
   "metadata": {},
   "source": [
    "## **Cart Transformer - demonstration**"
   ]
  },
  {
   "cell_type": "code",
   "execution_count": null,
   "id": "5ecdc8ea",
   "metadata": {},
   "outputs": [],
   "source": [
    "# Initialize\n",
    "cart_csv = \"data/carts.csv\"\n",
    "cart_transformer = CartTransformer(file_path=cart_csv)\n",
    "\n",
    "# Test: Write sample data\n",
    "sample_cart = pd.DataFrame([\n",
    "    {C.cid: cid1 , C.pid: \"FD7839\", C.qnt: 4, C.usrid: user_id1},\n",
    "    {C.cid: cid2 , C.pid: \"DR7979\", C.qnt: 2, C.usrid: user_id2}\n",
    "])\n",
    "cart_transformer.update_df(sample_cart, mode=\"overwrite\")\n",
    "\n",
    "# Test: Read back\n",
    "print(cart_transformer.read())\n"
   ]
  },
  {
   "cell_type": "markdown",
   "id": "41680f9b",
   "metadata": {},
   "source": [
    "# **Business logic - Helper functions**\n",
    "- These functions after matured will go into the respective transformer classes. "
   ]
  },
  {
   "cell_type": "code",
   "execution_count": null,
   "id": "9933a255",
   "metadata": {},
   "outputs": [],
   "source": [
    "def getRandomPids():\n",
    "    products = product_transformer.read()\n",
    "\n",
    "    selected_products = random.sample(products[C.pid].to_list(), k=3)\n",
    "    print(\"Selected Products:\", selected_products)\n",
    "    return selected_products\n",
    "\n",
    "def addToCart(spids, uid, cid):\n",
    "    cart = cart_transformer.read()\n",
    "    products = product_transformer.read(spids)\n",
    "\n",
    "    records = [{C.cid: cid, C.qnt: random.randint(1, 5),C.usrid: uid, C.pid: id} for id in spids]\n",
    "    cart = pd.DataFrame.from_records(records)\n",
    "    cart_transformer.create(cart)\n",
    "    return\n",
    "\n",
    "def checkout_with_discount(uid, cid, did):\n",
    "    cart     =  cart_transformer.read([cid])\n",
    "    ps  =  product_transformer.read(cart[C.pid].to_list())\n",
    "\n",
    "    # Compute total price for the cart\n",
    "    total = ps[C.mrp].sum() * cart[C.qnt].sum()\n",
    "    prcid = uid + \"_\" + cid  # Purchase ID based on user and cart ID\n",
    "    print ( \"Total price for cart\", cid, \"is\", total)\n",
    "    # Checkout with discount\n",
    "    discount  =  discount_transformer.read([did])\n",
    "    if not discount.empty:\n",
    "        total -= total * (discount[C.dpct].values[0] / 100)\n",
    "    else:\n",
    "        print(f\"Discount {did} not found, aborting checkout. total value = \", total)\n",
    "        return \n",
    "    purchase_entry = [{\n",
    "        C.prcid: prcid,\n",
    "        C.cid: cid,\n",
    "        C.tamt: total,\n",
    "        C.did: did\n",
    "    }]\n",
    "    purchase_transformer.create(pd.DataFrame.from_records(purchase_entry))\n",
    "    discount_transformer.update({C.did: did, C.dst: 1})\n",
    "    return\n",
    "\n",
    "def checkout_without_discount(uid, cid, did, discode, dpct):\n",
    "    cart      =  cart_transformer.read([cid])\n",
    "    ps  =  product_transformer.read(cart[C.pid].to_list())\n",
    "\n",
    "    # Compute total price for the cart\n",
    "    total = ps[C.mrp].sum() * cart[C.qnt].sum()\n",
    "    prcid = uid + \"_\" + cid  # Purchase ID based on user and cart ID\n",
    "    print(\"Total price for cart\", cid, \"is\", total)\n",
    "    # Checkout with discount\n",
    "    purchase_entry = [{\n",
    "        C.prcid: prcid,\n",
    "        C.cid: cid,\n",
    "        C.tamt: total,\n",
    "        C.did: did\n",
    "    }]\n",
    "\n",
    "    purchase_transformer.create(pd.DataFrame.from_records(purchase_entry))\n",
    "\n",
    "    discount_entry = [{\n",
    "        C.did: did,\n",
    "        C.usrid: uid,\n",
    "        C.dcode: discode,\n",
    "        C.dpct: dpct,\n",
    "        C.dst: 0\n",
    "    }]\n",
    "    discount_transformer.create(pd.DataFrame.from_records(discount_entry))\n",
    "    return"
   ]
  },
  {
   "cell_type": "markdown",
   "id": "c5835ff7",
   "metadata": {},
   "source": [
    "# **Admin APIs**"
   ]
  },
  {
   "cell_type": "code",
   "execution_count": null,
   "id": "0348b121",
   "metadata": {},
   "outputs": [],
   "source": [
    "def getPurchases():\n",
    "    purchases = purchase_transformer.read()\n",
    "    print(purchases) \n",
    "\n",
    "def getDiscounts():\n",
    "    discounts = discount_transformer.read()\n",
    "    print( discounts )\n",
    "\n",
    "getPurchases()\n",
    "getDiscounts()"
   ]
  },
  {
   "cell_type": "markdown",
   "id": "18fad772",
   "metadata": {},
   "source": [
    "# **Use cases 1 - Buy products**"
   ]
  },
  {
   "cell_type": "code",
   "execution_count": null,
   "id": "0e8c537e",
   "metadata": {},
   "outputs": [],
   "source": [
    "# Create a random data\n",
    "cid = \"CART\" + str(random.randint(100, 999))  # Generate a random cart ID\n",
    "user_id = str(random.randint(100, 999))\n",
    "discode = [ \"NEW\", \"SAVE\", \"FESTIVE\"][random.randint(0, 2)] + str(random.randint(1000, 9999))\n",
    "did = [\"FD\",\"NC\",\"DR\"][random.randint(0,2)] + str(random.randint(100, 999))\n",
    "dpct = random.randint(5, 10)\n",
    "\n",
    "# Business logic using Helper functions\n",
    "sps = getRandomPids()\n",
    "print(\"Selected \\n\", sps)\n",
    "\n",
    "addToCart(sps, user_id, cid)\n",
    "print(\"Cart created and products added. \\n\")\n",
    "cart = cart_transformer.read([cid])\n",
    "print(cart)\n",
    "\n",
    "checkout_without_discount(user_id, cid, did, discode, dpct)\n",
    "print ( purchase_transformer.read([user_id+\"_\"+cid]) )\n",
    "\n",
    "discounts = discount_transformer.read([did])\n",
    "discounts"
   ]
  },
  {
   "cell_type": "markdown",
   "id": "dc938b3d",
   "metadata": {},
   "source": [
    "# **Use cases 2 - Buy products with discount**"
   ]
  },
  {
   "cell_type": "code",
   "execution_count": null,
   "id": "9cf3a716",
   "metadata": {},
   "outputs": [],
   "source": [
    "# Create a random data\n",
    "cid = \"CART\" + str(random.randint(100, 999))  # Generate a random cart ID\n",
    "user_id = str( random.randint(100, 999) )\n",
    "\n",
    "# Business logic using Helper functions\n",
    "sps = getRandomPids()\n",
    "print(\"Selected \\n\", sps)\n",
    "\n",
    "addToCart(sps, user_id, cid)\n",
    "print(\"Cart created and products added. \\n\")\n",
    "cart = cart_transformer.read([cid])\n",
    "print(cart)\n",
    "\n",
    "checkout_with_discount(user_id, cid, did)\n",
    "print ( purchase_transformer.read([user_id+\"_\"+cid]) )\n",
    "\n",
    "discounts = discount_transformer.read([did])\n",
    "discounts"
   ]
  }
 ],
 "metadata": {
  "kernelspec": {
   "display_name": "Python 3",
   "language": "python",
   "name": "python3"
  },
  "language_info": {
   "codemirror_mode": {
    "name": "ipython",
    "version": 3
   },
   "file_extension": ".py",
   "mimetype": "text/x-python",
   "name": "python",
   "nbconvert_exporter": "python",
   "pygments_lexer": "ipython3",
   "version": "3.13.2"
  }
 },
 "nbformat": 4,
 "nbformat_minor": 5
}
