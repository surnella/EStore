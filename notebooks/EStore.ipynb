{
 "cells": [
  {
   "cell_type": "markdown",
   "id": "0",
   "metadata": {},
   "source": [
    "# **Setup the development framework such that changes in py files auto load into this file**\n",
    "- You can ignore this if your interest is only in the business logic and design. \n",
    "- The steps in this section are only environment set related"
   ]
  },
  {
   "cell_type": "markdown",
   "id": "1",
   "metadata": {},
   "source": [
    "### **Make sure py file change are loaded automatically**"
   ]
  },
  {
   "cell_type": "code",
   "execution_count": null,
   "id": "2",
   "metadata": {},
   "outputs": [],
   "source": [
    "%load_ext autoreload\n",
    "%autoreload 2"
   ]
  },
  {
   "cell_type": "markdown",
   "id": "3",
   "metadata": {},
   "source": [
    "### **Import basic package required for this assignment**"
   ]
  },
  {
   "cell_type": "code",
   "execution_count": null,
   "id": "4",
   "metadata": {},
   "outputs": [],
   "source": [
    "import os\n",
    "import pandas as pd\n",
    "import db.constants as C\n",
    "import numpy as np\n"
   ]
  },
  {
   "cell_type": "markdown",
   "id": "5",
   "metadata": {},
   "source": [
    "### **Make sure right sources are getting picked**"
   ]
  },
  {
   "cell_type": "code",
   "execution_count": null,
   "id": "6",
   "metadata": {},
   "outputs": [],
   "source": [
    "from dao.base_transformer import BaseDBTransformer"
   ]
  },
  {
   "cell_type": "markdown",
   "id": "7",
   "metadata": {},
   "source": [
    "### **Make sure the latest class are getting loaded.**"
   ]
  },
  {
   "cell_type": "code",
   "execution_count": null,
   "id": "8",
   "metadata": {},
   "outputs": [],
   "source": [
    "# 1. Import the modules first (so Python knows them)\n",
    "import importlib\n",
    "import service.product_service\n",
    "import service.cart_service\n",
    "import service.purchase_service\n",
    "import service.discount_service\n",
    "import dao.base_transformer\n",
    "import dao.cart_transformer\n",
    "import dao.discount_transformer\n",
    "import dao.product_transformer\n",
    "import dao.purchase_transformer\n",
    "import db.constants\n",
    "import db.dbsql\n",
    "import db.dbutil\n",
    "\n",
    "# 2. Reload them (useful after edits)\n",
    "importlib.reload(service.product_service)\n",
    "importlib.reload(service.cart_service)\n",
    "importlib.reload(service.purchase_service)\n",
    "importlib.reload(service.discount_service)\n",
    "importlib.reload(db.constants)\n",
    "importlib.reload(dao.base_transformer)\n",
    "importlib.reload(dao.product_transformer)\n",
    "importlib.reload(dao.cart_transformer)\n",
    "importlib.reload(dao.discount_transformer)\n",
    "importlib.reload(dao.purchase_transformer)\n",
    "importlib.reload(db.dbutil)\n",
    "importlib.reload(db.dbsql)\n",
    "\n",
    "\n",
    "# 3. Import the classes fresh from the reloaded modules\n",
    "from service.product_service import ProductService\n",
    "from service.cart_service import CartService\n",
    "from service.purchase_service import PurchaseService\n",
    "from service.discount_service import DiscountService\n",
    "from dao.product_transformer import ProductTransformer\n",
    "from dao.discount_transformer import DiscountTransformer\n",
    "from dao.cart_transformer import CartTransformer\n",
    "from dao.purchase_transformer import PurchaseTransformer\n",
    "from dao.base_transformer import BaseDBTransformer\n",
    "import db.constants\n",
    "import random\n",
    "import db.dbutil\n",
    "from db.dbsql import SessionLocal, Product\n",
    "import pandas.testing as pdt\n",
    "import inspect"
   ]
  },
  {
   "cell_type": "markdown",
   "id": "9",
   "metadata": {},
   "source": [
    "# **Transformers**\n",
    "- This section is the core design of the project\n",
    "- There are four transformers \n",
    "   - Products transformer: This is the database of the list of the products in EStore. The prodcuts.csv file for demo has 9 products. \n",
    "   - Cart transformer: This is user selected products added into the cart instance specific to the user. \n",
    "   - purchase transfromer: This is checkout functionaility of the cart. \n",
    "        - It has two kinds of purchases. With discount by applying discount code.\n",
    "        - It also supports purchase without applying discount code. If no discount is applied it generates a ne discount code and adds to discounts for the subsequent purchases. \n",
    "   - Discount transformer: This handles the discounts codes after the purchase. \n",
    "\n",
    "   - For each these transforers there is .py  file and .csv file in the src directory. \n",
    "   - Each transfomer derives from the base transfomer class which manages the csv read/write for that transformer. \n",
    "   - The base transformer class also handles basis CRUD operation if they are at the level of the dataframe(entire row level operations) without having to deal with individual columns (as columns are specific to the transformer)\n",
    "\n",
    "- The code is organized as a typical pyproject.toml file. "
   ]
  },
  {
   "cell_type": "markdown",
   "id": "10",
   "metadata": {},
   "source": [
    "## **Product Transformer - demonstration**"
   ]
  },
  {
   "cell_type": "markdown",
   "id": "11",
   "metadata": {},
   "source": [
    "#### **Get the product**"
   ]
  },
  {
   "cell_type": "code",
   "execution_count": null,
   "id": "12",
   "metadata": {},
   "outputs": [],
   "source": [
    "pt = ProductTransformer()\n",
    "prds_all = pt.list_all_products()\n",
    "prds_all.head(5)"
   ]
  },
  {
   "cell_type": "code",
   "execution_count": null,
   "id": "13",
   "metadata": {},
   "outputs": [],
   "source": [
    "prds_all.to_dict(orient=\"records\")"
   ]
  },
  {
   "cell_type": "code",
   "execution_count": null,
   "id": "14",
   "metadata": {},
   "outputs": [],
   "source": [
    "prds_2050 = pt.list_products_in_class_df(2050)\n",
    "prds_2050.to_dict(orient='records')"
   ]
  },
  {
   "cell_type": "code",
   "execution_count": null,
   "id": "15",
   "metadata": {},
   "outputs": [],
   "source": [
    "rows = BaseDBTransformer.read(C.prdc)\n",
    "rows\n"
   ]
  },
  {
   "cell_type": "markdown",
   "id": "16",
   "metadata": {},
   "source": [
    "#### **Get a single product**"
   ]
  },
  {
   "cell_type": "code",
   "execution_count": null,
   "id": "17",
   "metadata": {},
   "outputs": [],
   "source": [
    "df = pt.list_all_products(15)\n",
    "print(type(df))\n",
    "df"
   ]
  },
  {
   "cell_type": "markdown",
   "id": "18",
   "metadata": {},
   "source": [
    "#### **Get the product classes and description**"
   ]
  },
  {
   "cell_type": "code",
   "execution_count": null,
   "id": "19",
   "metadata": {},
   "outputs": [],
   "source": [
    "prod_classes = pt.get_products_class()\n",
    "\n",
    "for i,pclass in enumerate(prod_classes[C.ptyp]):\n",
    "    print(\"Iteration i \", i, \" p class code = \", pclass)\n",
    "    if ( i>3 ):\n",
    "        break\n",
    "    pc_dict = pt.list_products_in_class(pclass)\n",
    "    print(pc_dict)\n",
    "\n",
    "prod_classes\n"
   ]
  },
  {
   "cell_type": "markdown",
   "id": "20",
   "metadata": {},
   "source": [
    "## **Discount Transformer - demonstration**"
   ]
  },
  {
   "cell_type": "code",
   "execution_count": null,
   "id": "21",
   "metadata": {},
   "outputs": [],
   "source": [
    "dt = DiscountTransformer()\n",
    "dis_all = dt.list_all_codes()\n",
    "dis_all"
   ]
  },
  {
   "cell_type": "markdown",
   "id": "22",
   "metadata": {},
   "source": [
    "## **Purchase Transformer - demonstration**"
   ]
  },
  {
   "cell_type": "code",
   "execution_count": null,
   "id": "23",
   "metadata": {},
   "outputs": [],
   "source": [
    "prt = PurchaseTransformer()\n",
    "prt.list_orders_by_customer(3)"
   ]
  },
  {
   "cell_type": "markdown",
   "id": "24",
   "metadata": {},
   "source": [
    "## **Cart Transformer - demonstration**"
   ]
  },
  {
   "cell_type": "code",
   "execution_count": null,
   "id": "25",
   "metadata": {},
   "outputs": [],
   "source": [
    "ct = CartTransformer\n",
    "ct.list_all()"
   ]
  },
  {
   "cell_type": "markdown",
   "id": "26",
   "metadata": {},
   "source": [
    "# **Business logic - Helper functions**"
   ]
  },
  {
   "cell_type": "markdown",
   "id": "27",
   "metadata": {},
   "source": [
    "### **Get a random selection of 5 products to purchase**"
   ]
  },
  {
   "cell_type": "code",
   "execution_count": null,
   "id": "28",
   "metadata": {},
   "outputs": [],
   "source": [
    "products_to_buy = pt.getRandomProducts(5)\n",
    "customer_id=3\n"
   ]
  },
  {
   "cell_type": "code",
   "execution_count": null,
   "id": "29",
   "metadata": {},
   "outputs": [],
   "source": [
    "products_to_buy"
   ]
  },
  {
   "cell_type": "markdown",
   "id": "30",
   "metadata": {},
   "source": [
    "### **Add these products to the cart of a selected customer**"
   ]
  },
  {
   "cell_type": "markdown",
   "id": "31",
   "metadata": {},
   "source": [
    "##### **Select the items**"
   ]
  },
  {
   "cell_type": "code",
   "execution_count": null,
   "id": "32",
   "metadata": {},
   "outputs": [],
   "source": [
    "selected_items = products_to_buy.loc[:, [C.pid]]\n",
    "selected_items[C.qnt] = np.random.randint(1, 3, size=len(selected_items))\n",
    "items = selected_items.to_dict(orient='records')\n",
    "items\n"
   ]
  },
  {
   "cell_type": "markdown",
   "id": "33",
   "metadata": {},
   "source": [
    "##### **Add Them to the cart**"
   ]
  },
  {
   "cell_type": "code",
   "execution_count": null,
   "id": "34",
   "metadata": {},
   "outputs": [],
   "source": [
    "CartTransformer.addToCart(customer_id, items, debug=True)"
   ]
  },
  {
   "cell_type": "markdown",
   "id": "35",
   "metadata": {},
   "source": [
    "##### **Verify the addition**"
   ]
  },
  {
   "cell_type": "code",
   "execution_count": null,
   "id": "36",
   "metadata": {},
   "outputs": [],
   "source": [
    "print(\"customer_id = \", customer_id)\n",
    "# CartTransformer.list_cust(customer_id)\n",
    "# BaseDBTransformer.read(C.cart, **{C.custid:customer_id})\n",
    "# BaseDBTransformer.readf(C.cart, **{C.custid+\"__eq\":customer_id})\n",
    "BaseDBTransformer.read(C.cart, customer_id)"
   ]
  },
  {
   "cell_type": "markdown",
   "id": "37",
   "metadata": {},
   "source": [
    "#### **Verify empty cart**"
   ]
  },
  {
   "cell_type": "code",
   "execution_count": null,
   "id": "38",
   "metadata": {},
   "outputs": [],
   "source": [
    "# PurchaseTransformer.empty_cart(3)"
   ]
  },
  {
   "cell_type": "markdown",
   "id": "39",
   "metadata": {},
   "source": [
    "### **Purchase the items in the cart**"
   ]
  },
  {
   "cell_type": "code",
   "execution_count": null,
   "id": "40",
   "metadata": {},
   "outputs": [],
   "source": [
    "order_id = PurchaseService.purchase_cart_items(customer_id, debug=True)\n",
    "print(\"Order Id =\", order_id)\n"
   ]
  },
  {
   "cell_type": "markdown",
   "id": "41",
   "metadata": {},
   "source": [
    "##### **Delete a purchase**"
   ]
  },
  {
   "cell_type": "code",
   "execution_count": null,
   "id": "42",
   "metadata": {},
   "outputs": [],
   "source": [
    "# PurchaseService.deletePurchase(order_id, customer_id)"
   ]
  },
  {
   "cell_type": "markdown",
   "id": "43",
   "metadata": {},
   "source": [
    "### **Purchase cart items with discount coupon**"
   ]
  },
  {
   "cell_type": "code",
   "execution_count": null,
   "id": "44",
   "metadata": {},
   "outputs": [],
   "source": [
    "customer_id = 3\n",
    "discount_id = DiscountTransformer.generate_discount_id(order_id, customer_id)\n",
    "print(customer_id, order_id, discount_id)"
   ]
  },
  {
   "cell_type": "code",
   "execution_count": null,
   "id": "45",
   "metadata": {},
   "outputs": [],
   "source": [
    "cust_cart = BaseDBTransformer.read(C.cart, **{C.custid: customer_id})\n",
    "for i, dict in enumerate(cust_cart.to_dict(orient='records')):\n",
    "    prd_df = BaseDBTransformer.read(C.prd, dict[C.pid])\n",
    "    prd_dict = prd_df.iloc[0].to_dict()\n",
    "    print(prd_dict)\n",
    "print(cust_cart)\n"
   ]
  },
  {
   "cell_type": "code",
   "execution_count": null,
   "id": "46",
   "metadata": {},
   "outputs": [],
   "source": [
    "print(discount_id)\n",
    "res_with_d = PurchaseService.purchase_discounted_cart_items(customer_id, discount_id, debug=True)\n",
    "print( \" Order Id with discount =\", res_with_d)\n"
   ]
  },
  {
   "cell_type": "code",
   "execution_count": null,
   "id": "47",
   "metadata": {},
   "outputs": [],
   "source": [
    "    # lastly cleanup this purchase and verify if delete purcahse is working. \n",
    "    order_id_disc = 10072\n",
    "    cust_id = customer_id\n",
    "    order_id = 10071\n",
    "    PurchaseTransformer.deletePurchase(order_id_disc, cust_id, None)\n",
    "    PurchaseService.deletePurchase(order_id, cust_id)\n",
    "    itm = BaseDBTransformer.readf(C.items, **{C.ordid: order_id})\n",
    "    itm_d = BaseDBTransformer.readf(C.items, **{C.ordid: order_id_disc})\n",
    "    crt = BaseDBTransformer.readf(C.cart, **{C.custid: cust_id})\n",
    "    ord = BaseDBTransformer.readf(C.orders, **{C.ordid: order_id})\n",
    "    ord_d = BaseDBTransformer.readf(C.orders, **{C.ordid: order_id_disc})\n"
   ]
  },
  {
   "cell_type": "code",
   "execution_count": null,
   "id": "48",
   "metadata": {},
   "outputs": [],
   "source": [
    "disc_id = DiscountTransformer.generate_discount_id(order_id, cust_id)\n",
    "dis = BaseDBTransformer.readf(C.discounts, **{C.did: disc_id})\n",
    "print( len(dis), len(ord), len(crt), len(itm) )\n",
    "assert all( [(len(dis) == 0), (len(itm) == 0), ( len(ord) == 0), ( len(crt) == 0)]) \n",
    "print( \" Success Cleanup successfull after purchase \")"
   ]
  },
  {
   "cell_type": "code",
   "execution_count": null,
   "id": "49",
   "metadata": {},
   "outputs": [],
   "source": [
    "DiscountService.list_eligible_codes(3)"
   ]
  },
  {
   "cell_type": "markdown",
   "id": "50",
   "metadata": {},
   "source": [
    "# **Admin APIs**"
   ]
  },
  {
   "cell_type": "markdown",
   "id": "51",
   "metadata": {},
   "source": [
    "### **Get all discount codes**"
   ]
  },
  {
   "cell_type": "code",
   "execution_count": null,
   "id": "52",
   "metadata": {},
   "outputs": [],
   "source": [
    "all_disc_codes = dt.list_all_codes()\n",
    "all_disc_codes\n"
   ]
  },
  {
   "cell_type": "markdown",
   "id": "53",
   "metadata": {},
   "source": [
    "### **Get codes eligible - But not enabled**"
   ]
  },
  {
   "cell_type": "code",
   "execution_count": null,
   "id": "54",
   "metadata": {},
   "outputs": [],
   "source": [
    "eligible_disc_codes = dt.list_eligible_codes(customer_id)\n",
    "eligible_disc_codes"
   ]
  },
  {
   "cell_type": "markdown",
   "id": "55",
   "metadata": {},
   "source": [
    "### **Get all active codes - But not yet used by the customer**"
   ]
  },
  {
   "cell_type": "code",
   "execution_count": null,
   "id": "56",
   "metadata": {},
   "outputs": [],
   "source": [
    "active_disc_codes = dt.list_active_codes()\n",
    "active_disc_codes"
   ]
  },
  {
   "cell_type": "markdown",
   "id": "57",
   "metadata": {},
   "source": [
    "#### **Get used discount codes by the customer**"
   ]
  },
  {
   "cell_type": "code",
   "execution_count": null,
   "id": "58",
   "metadata": {},
   "outputs": [],
   "source": [
    "dt.list_used_codes(customer_id)"
   ]
  },
  {
   "cell_type": "markdown",
   "id": "59",
   "metadata": {},
   "source": [
    "### **Enable a discount code for a customer**"
   ]
  },
  {
   "cell_type": "markdown",
   "id": "60",
   "metadata": {},
   "source": [
    "#### **First change the status**"
   ]
  },
  {
   "cell_type": "code",
   "execution_count": null,
   "id": "61",
   "metadata": {},
   "outputs": [],
   "source": [
    "discount_id = \"3__10071\" \n",
    "dt.enable_discount_codes(discount_id, 20, \"FESTIVAL OFFER\")"
   ]
  },
  {
   "cell_type": "markdown",
   "id": "62",
   "metadata": {},
   "source": [
    "#### **Second verify the record that status has really changed**"
   ]
  },
  {
   "cell_type": "code",
   "execution_count": null,
   "id": "63",
   "metadata": {},
   "outputs": [],
   "source": [
    "active_disc_codes = dt.list_active_codes()\n",
    "active_disc_codes"
   ]
  },
  {
   "cell_type": "markdown",
   "id": "64",
   "metadata": {},
   "source": [
    "#### **Check Orders and items by customer**"
   ]
  },
  {
   "cell_type": "code",
   "execution_count": null,
   "id": "65",
   "metadata": {},
   "outputs": [],
   "source": [
    "# print(order_id)\n",
    "# print( PurchaseTransformer.list_orders_by_customer(customer_id) )\n",
    "# df = BaseDBTransformer.read(C.items, \"10077\")\n",
    "# df\n"
   ]
  },
  {
   "cell_type": "markdown",
   "id": "66",
   "metadata": {},
   "source": [
    "### **Test the FASTAPIs**"
   ]
  },
  {
   "cell_type": "code",
   "execution_count": null,
   "id": "67",
   "metadata": {},
   "outputs": [],
   "source": [
    "df = ProductTransformer.get_products_class()\n",
    "mapped = df.to_dict(orient=\"records\")\n",
    "mapped"
   ]
  },
  {
   "cell_type": "markdown",
   "id": "68",
   "metadata": {},
   "source": [
    "### **Invoices**"
   ]
  },
  {
   "cell_type": "markdown",
   "id": "69",
   "metadata": {},
   "source": [
    "##### **Check all the tables and entries**"
   ]
  },
  {
   "cell_type": "code",
   "execution_count": null,
   "id": "70",
   "metadata": {},
   "outputs": [],
   "source": [
    "prds_all = BaseDBTransformer.read(C.prd)\n",
    "orders = BaseDBTransformer.read(C.orders)\n",
    "items =  BaseDBTransformer.read(C.items)\n",
    "prdc = BaseDBTransformer.read(C.prdc)\n",
    "custs = BaseDBTransformer.read(C.custs)\n",
    "print( custs['CUSTOMER_ID'].sort_values().unique())\n",
    "print( items[C.pid].sort_values().unique())\n",
    "print( prdc[C.ptyp].sort_values().unique() )\n",
    "prds_all[C.pid].sort_values().unique()\n"
   ]
  },
  {
   "cell_type": "markdown",
   "id": "71",
   "metadata": {},
   "source": [
    "##### **Generate the invoices**"
   ]
  },
  {
   "cell_type": "code",
   "execution_count": null,
   "id": "72",
   "metadata": {},
   "outputs": [],
   "source": [
    "PurchaseService.generate_invoice(36)"
   ]
  },
  {
   "cell_type": "markdown",
   "id": "73",
   "metadata": {},
   "source": [
    "## **Cleanup the database**"
   ]
  },
  {
   "cell_type": "code",
   "execution_count": null,
   "id": "74",
   "metadata": {},
   "outputs": [],
   "source": [
    "# from pathlib import Path\n",
    "# BaseDBTransformer.purge()\n",
    "\n",
    "# ROOT = BaseDBTransformer.get_project_root()  # go up from tests/ to project root\n",
    "# sql_path = ROOT / \"data\" / \"ordersdb.sql\"\n",
    "# print( sql_path, \"\\n\", ROOT)"
   ]
  },
  {
   "cell_type": "code",
   "execution_count": null,
   "id": "75",
   "metadata": {},
   "outputs": [],
   "source": [
    "if(1):   \n",
    "    # Get Products to buy -- Step 1 \n",
    "    products_to_buy = ProductService.getRandomProducts()\n",
    "\n",
    "    avail_dict_ori = products_to_buy.set_index(C.pid)[C.pavl].to_dict()\n",
    "    print( avail_dict_ori )\n",
    "\n",
    "    # First ask to buy more than avilable - It must fail \n",
    "    selected_items = products_to_buy.loc[:, [C.pid]]\n",
    "    selected_items[C.qnt] = np.random.randint( products_to_buy.loc[:, [C.pavl]].max(), products_to_buy.loc[:, [C.pavl]].max() + 1000, size=len(selected_items))\n",
    "    products = selected_items.to_dict(orient='records')\n",
    "\n",
    "    # Add Them to Cart - Step 2 - Must fail as quantity is higher than available. \n",
    "    retval = CartService.addToCart(cust_id, products, True)\n",
    "    if (retval < 0):\n",
    "        print(\"Success Check avilability check verified. Higher quanitties check passed. \")\n",
    "        assert(True)\n",
    "    \n",
    "    # Add the proper amounts to the cart. - Step 3\n",
    "    selected_items = products_to_buy.loc[:, [C.pid]]\n",
    "    selected_items[C.qnt] = np.random.randint(1, products_to_buy.loc[:, [C.pavl]].min(), size=len(selected_items))\n",
    "    products = selected_items.to_dict(orient='records')\n",
    "    retval = CartService.addToCart(cust_id, products, True)\n",
    "    if (retval < 0):\n",
    "        print(\"Something wrong with quantities. Even Minimum is failing. \", products)\n",
    "        assert(False)\n",
    "    else:\n",
    "        read_back = CartService.get_customer_cart(cust_id).loc[:, [C.pid, C.qnt]]\n",
    "        read_back_products = read_back.to_dict(orient='records')\n",
    "        print(products)\n",
    "        print(read_back_products)\n",
    "        assert products == read_back_products, \"Product Dictionaries dont match in the cart. Aborting purchase.\"\n",
    "        print(\" Success Verfied AddToCart \")\n",
    "\n",
    "    # Initiate a Purchase - Step 4\n",
    "    order_id = PurchaseService.purchase_cart_items(cust_id)\n",
    "    print(order_id, \"Generated from the purchase \")\n",
    "\n",
    "    # Verifications - Step 5\n",
    "    # First verify the items and order \n",
    "    read_back_items = BaseDBTransformer.readf(C.items, **{C.ordid: order_id}).loc[:, [C.pid, C.qnt]]\n",
    "    print(read_back)\n",
    "    assert products == read_back_items.to_dict(orient='records'), \"Product Dictionaries dont match from order items. Cart items to Order items conversion failed - Purchase failed. .\"\n",
    "\n",
    "    # Next verify the quanitites of availability updatation.  - Step 6\n",
    "    avail_dict_new = BaseDBTransformer.readdf(C.prd, C.pid, list(selected_items[C.pid])).set_index(C.pid)[C.pavl].to_dict()\n",
    "\n",
    "    cart_quanties = selected_items.set_index(C.pid)[C.qnt].to_dict()\n",
    "    \n",
    "    print ( avail_dict_new, \"\\n\", avail_dict_ori, \"\\n\", cart_quanties)\n",
    "    assert all(avail_dict_ori[k] - cart_quanties[k] == avail_dict_new[k] for k in avail_dict_ori)\n",
    "    print(\" Success Purchase cart is now verfied. For orders, order items and product quantities. \")\n",
    "\n",
    "     # Verify if cart is now empty and Addition of discount coupons is successfull. \n",
    "    read_back = CartService.get_customer_cart(cust_id)\n",
    "    if (len(read_back) > 0):\n",
    "        print( \"Cart NOT empty after purchase. Test failed. \")\n",
    "        assert(False)\n",
    "    \n",
    "    disc_id = DiscountTransformer.generate_discount_id(order_id, cust_id)\n",
    "    disc = BaseDBTransformer.readf(C.discounts, **{C.did: disc_id})\n",
    "    if (len(disc) <= 0):\n",
    "        print( \"Discount code not found. Test failed. \")\n",
    "        assert(False)\n",
    "    \n",
    "    scalars = disc.iloc[0].to_dict()\n",
    "    status = scalars[C.dst]\n",
    "    percent = scalars[C.dpct]\n",
    "    oid = scalars[C.ordid]\n",
    "    dcode = scalars[C.dcode]\n",
    "    dcus = scalars[C.custid]\n",
    "\n",
    "    print( scalars )\n",
    "    print( status, percent, oid, dcode, dcus)\n",
    "\n",
    "    assert all( [(status == 0), (percent == 0), ( dcus == cust_id), ( oid == order_id)]) \n",
    "    print( \"Success - Purchase from cart without discount is completely verfied.\")\n",
    "\n",
    "    # Now make a purchase with discount using this dicount id created. \n",
    "    products_to_buy = ProductService.getRandomProducts()\n",
    "    selected_items = products_to_buy.loc[:, [C.pid]]\n",
    "    selected_items[C.qnt] = np.random.randint(1, products_to_buy.loc[:, [C.pavl]].min(), size=len(selected_items))\n",
    "    products = selected_items.to_dict(orient='records')\n",
    "    retval = CartService.addToCart(cust_id, products, True)\n",
    "    if (retval < 0):\n",
    "        print(\"Something wrong with quantities. Even Minimum is failing. \", products)\n",
    "        assert(False)\n",
    "    # Enable the discount coupon \n",
    "    DiscountService.enable_discount_codes(disc_id, 10, \"FESTIVAL OFFER\", True)\n",
    "    order_id_disc = PurchaseService.purchase_discounted_cart_items(cust_id, disc_id)\n",
    "    print(order_id_disc, \"Generated from the purchase with discount \")\n",
    "\n",
    "    # Verify if discount is set to used. \n",
    "    disc = BaseDBTransformer.readf(C.discounts, **{C.did: disc_id})\n",
    "    if (len(disc) <= 0):\n",
    "        print( \"Discount code not found. Test failed. \")\n",
    "        assert(False)\n",
    "    scalars = disc.iloc[0].to_dict()\n",
    "    status = scalars[C.dst]\n",
    "    print( status, scalars)\n",
    "    assert (status == 1)\n",
    "    print( \"Verified Discount coupon after use in purchase is now flagfed as used. (1) \")\n",
    "\n"
   ]
  },
  {
   "cell_type": "code",
   "execution_count": null,
   "id": "76",
   "metadata": {},
   "outputs": [],
   "source": []
  },
  {
   "cell_type": "code",
   "execution_count": null,
   "id": "77",
   "metadata": {},
   "outputs": [],
   "source": [
    "print(order_id_disc, \"Generated from the purchase with discount \")\n",
    "    status = scalars[C.dst]\n",
    "    print( status, scalars)\n",
    "    assert (status == 1)\n",
    "    print( \"Verified Discount coupon after use in purchase is now flagfed as used. (1) \")"
   ]
  },
  {
   "cell_type": "code",
   "execution_count": null,
   "id": "78",
   "metadata": {},
   "outputs": [],
   "source": [
    "    # lastly cleanup this purchase and verify if delete purcahse is working. \n",
    "    PurchaseTransformer.deletePurchase(order_id_disc, cust_id, None)\n",
    "    PurchaseService.deletePurchase(order_id, cust_id)\n",
    "    itm = BaseDBTransformer.readf(C.items, **{C.ordid: order_id})\n",
    "    itm_d = BaseDBTransformer.readf(C.items, **{C.ordid: order_id_disc})\n",
    "    crt = BaseDBTransformer.readf(C.cart, **{C.custid: cust_id})\n",
    "    ord = BaseDBTransformer.readf(C.orders, **{C.ordid: order_id})\n",
    "    ord_d = BaseDBTransformer.readf(C.orders, **{C.ordid: order_id_disc})\n",
    "    dis = BaseDBTransformer.readf(C.discounts, **{C.did: disc_id})\n",
    "    print( len(dis), len(ord), len(crt), len(itm) )\n",
    "    assert all( [(len(dis) == 0), (len(itm) == 0), ( len(ord) == 0), ( len(crt) == 0)]) \n",
    "    print( \" Success Cleanup successfull after purchase \")"
   ]
  },
  {
   "cell_type": "code",
   "execution_count": null,
   "id": "79",
   "metadata": {},
   "outputs": [],
   "source": [
    "dis = BaseDBTransformer.readf(C.discounts, **{C.did: disc_id})\n",
    "order_id\n",
    "dis"
   ]
  },
  {
   "cell_type": "code",
   "execution_count": null,
   "id": "80",
   "metadata": {},
   "outputs": [],
   "source": []
  },
  {
   "cell_type": "code",
   "execution_count": null,
   "id": "81",
   "metadata": {},
   "outputs": [],
   "source": []
  },
  {
   "cell_type": "code",
   "execution_count": null,
   "id": "82",
   "metadata": {},
   "outputs": [],
   "source": [
    "cords = custs[C.custid].unique().tolist()\n",
    "cords\n",
    "do_agg[C.ordid]\n"
   ]
  }
 ],
 "metadata": {
  "kernelspec": {
   "display_name": "Python 3",
   "language": "python",
   "name": "python3"
  },
  "language_info": {
   "codemirror_mode": {
    "name": "ipython",
    "version": 3
   },
   "file_extension": ".py",
   "mimetype": "text/x-python",
   "name": "python",
   "nbconvert_exporter": "python",
   "pygments_lexer": "ipython3",
   "version": "3.13.2"
  }
 },
 "nbformat": 4,
 "nbformat_minor": 5
}
