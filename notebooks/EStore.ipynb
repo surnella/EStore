{
 "cells": [
  {
   "cell_type": "markdown",
   "id": "0",
   "metadata": {},
   "source": [
    "# **Setup the development framework such that changes in py files auto load into this file**\n",
    "- You can ignore this if your interest is only in the business logic and design. \n",
    "- The steps in this section are only environment set related"
   ]
  },
  {
   "cell_type": "markdown",
   "id": "1",
   "metadata": {},
   "source": [
    "### **Make sure py file change are loaded automatically**"
   ]
  },
  {
   "cell_type": "code",
   "execution_count": null,
   "id": "2",
   "metadata": {},
   "outputs": [],
   "source": [
    "%load_ext autoreload\n",
    "%autoreload 2"
   ]
  },
  {
   "cell_type": "markdown",
   "id": "3",
   "metadata": {},
   "source": [
    "### **Import basic package required for this assignment**"
   ]
  },
  {
   "cell_type": "code",
   "execution_count": null,
   "id": "4",
   "metadata": {},
   "outputs": [],
   "source": [
    "import os\n",
    "import pandas as pd\n",
    "import db.constants as C\n",
    "import numpy as np\n"
   ]
  },
  {
   "cell_type": "markdown",
   "id": "5",
   "metadata": {},
   "source": [
    "### **Make sure right sources are getting picked**"
   ]
  },
  {
   "cell_type": "code",
   "execution_count": null,
   "id": "6",
   "metadata": {},
   "outputs": [],
   "source": [
    "from dao.base_transformer import BaseDBTransformer"
   ]
  },
  {
   "cell_type": "markdown",
   "id": "7",
   "metadata": {},
   "source": [
    "### **Make sure the latest class are getting loaded.**"
   ]
  },
  {
   "cell_type": "code",
   "execution_count": null,
   "id": "8",
   "metadata": {},
   "outputs": [],
   "source": [
    "# 1. Import the modules first (so Python knows them)\n",
    "import importlib\n",
    "import service.product_service\n",
    "import service.cart_service\n",
    "import service.purchase_service\n",
    "import service.discount_service\n",
    "import dao.base_transformer\n",
    "import dao.cart_transformer\n",
    "import dao.discount_transformer\n",
    "import dao.product_transformer\n",
    "import dao.purchase_transformer\n",
    "import db.constants\n",
    "import db.dbsql\n",
    "\n",
    "# 2. Reload them (useful after edits)\n",
    "importlib.reload(service.product_service)\n",
    "importlib.reload(service.cart_service)\n",
    "importlib.reload(service.purchase_service)\n",
    "importlib.reload(service.discount_service)\n",
    "importlib.reload(db.constants)\n",
    "importlib.reload(dao.base_transformer)\n",
    "importlib.reload(dao.product_transformer)\n",
    "importlib.reload(dao.cart_transformer)\n",
    "importlib.reload(dao.discount_transformer)\n",
    "importlib.reload(dao.purchase_transformer)\n",
    "\n",
    "# 3. Import the classes fresh from the reloaded modules\n",
    "from service.product_service import ProductService\n",
    "from service.cart_service import CartService\n",
    "from service.purchase_service import PurchaseService\n",
    "from service.discount_service import DiscountService\n",
    "from dao.product_transformer import ProductTransformer\n",
    "from dao.discount_transformer import DiscountTransformer\n",
    "from dao.cart_transformer import CartTransformer\n",
    "from dao.purchase_transformer import PurchaseTransformer\n",
    "from dao.base_transformer import BaseDBTransformer\n",
    "\n",
    "import db.constants\n",
    "import random\n",
    "from db.dbsql import SessionLocal, Product, ProductClass"
   ]
  },
  {
   "cell_type": "markdown",
   "id": "9",
   "metadata": {},
   "source": [
    "# **Transformers**\n",
    "- This section is the core design of the project\n",
    "- There are four transformers \n",
    "   - Products transformer: This is the database of the list of the products in EStore. The prodcuts.csv file for demo has 9 products. \n",
    "   - Cart transformer: This is user selected products added into the cart instance specific to the user. \n",
    "   - purchase transfromer: This is checkout functionaility of the cart. \n",
    "        - It has two kinds of purchases. With discount by applying discount code.\n",
    "        - It also supports purchase without applying discount code. If no discount is applied it generates a ne discount code and adds to discounts for the subsequent purchases. \n",
    "   - Discount transformer: This handles the discounts codes after the purchase. \n",
    "\n",
    "   - For each these transforers there is .py  file and .csv file in the src directory. \n",
    "   - Each transfomer derives from the base transfomer class which manages the csv read/write for that transformer. \n",
    "   - The base transformer class also handles basis CRUD operation if they are at the level of the dataframe(entire row level operations) without having to deal with individual columns (as columns are specific to the transformer)\n",
    "\n",
    "- The code is organized as a typical pyproject.toml file. "
   ]
  },
  {
   "cell_type": "markdown",
   "id": "10",
   "metadata": {},
   "source": [
    "## **Product Transformer - demonstration**"
   ]
  },
  {
   "cell_type": "markdown",
   "id": "11",
   "metadata": {},
   "source": [
    "#### **Get the product**"
   ]
  },
  {
   "cell_type": "code",
   "execution_count": null,
   "id": "12",
   "metadata": {},
   "outputs": [],
   "source": [
    "pt = ProductTransformer()\n",
    "prds_all = pt.list_all_products()\n",
    "prds_all.head(5)"
   ]
  },
  {
   "cell_type": "code",
   "execution_count": null,
   "id": "13",
   "metadata": {},
   "outputs": [],
   "source": [
    "prds_all.to_dict(orient=\"records\")"
   ]
  },
  {
   "cell_type": "code",
   "execution_count": null,
   "id": "14",
   "metadata": {},
   "outputs": [],
   "source": [
    "prds_2050 = pt.list_products_in_class_df(2050)\n",
    "prds_2050.to_dict(orient='records')"
   ]
  },
  {
   "cell_type": "code",
   "execution_count": null,
   "id": "15",
   "metadata": {},
   "outputs": [],
   "source": [
    "rows = BaseDBTransformer.read(C.prdc)\n",
    "rows\n"
   ]
  },
  {
   "cell_type": "markdown",
   "id": "16",
   "metadata": {},
   "source": [
    "#### **Get a single product**"
   ]
  },
  {
   "cell_type": "code",
   "execution_count": null,
   "id": "17",
   "metadata": {},
   "outputs": [],
   "source": [
    "df = pt.list_all_products(15)\n",
    "print(type(df))\n",
    "df"
   ]
  },
  {
   "cell_type": "code",
   "execution_count": null,
   "id": "18",
   "metadata": {},
   "outputs": [],
   "source": [
    "rows = BaseDBTransformer.read(C.prd, 25)\n",
    "dict = rows.to_dict(orient=\"records\")[0]\n",
    "dict"
   ]
  },
  {
   "cell_type": "markdown",
   "id": "19",
   "metadata": {},
   "source": [
    "#### **Get the product classes and description**"
   ]
  },
  {
   "cell_type": "code",
   "execution_count": null,
   "id": "20",
   "metadata": {},
   "outputs": [],
   "source": [
    "prod_classes = pt.get_products_class()\n",
    "\n",
    "for i,pclass in enumerate(prod_classes[C.ptyp]):\n",
    "    print(\"Iteration i \", i, \" p class code = \", pclass)\n",
    "    if ( i>3 ):\n",
    "        break\n",
    "    pc_dict = pt.list_products_in_class(pclass)\n",
    "    print(pc_dict)\n",
    "\n",
    "prod_classes\n"
   ]
  },
  {
   "cell_type": "markdown",
   "id": "21",
   "metadata": {},
   "source": [
    "## **Discount Transformer - demonstration**"
   ]
  },
  {
   "cell_type": "code",
   "execution_count": null,
   "id": "22",
   "metadata": {},
   "outputs": [],
   "source": [
    "dt = DiscountTransformer()\n",
    "dis_all = dt.list_all_codes()\n",
    "dis_all"
   ]
  },
  {
   "cell_type": "markdown",
   "id": "23",
   "metadata": {},
   "source": [
    "## **Purchase Transformer - demonstration**"
   ]
  },
  {
   "cell_type": "code",
   "execution_count": null,
   "id": "24",
   "metadata": {},
   "outputs": [],
   "source": [
    "prt = PurchaseTransformer()\n",
    "prt.list_orders_by_customer(3)"
   ]
  },
  {
   "cell_type": "markdown",
   "id": "25",
   "metadata": {},
   "source": [
    "## **Cart Transformer - demonstration**"
   ]
  },
  {
   "cell_type": "code",
   "execution_count": null,
   "id": "26",
   "metadata": {},
   "outputs": [],
   "source": [
    "ct = CartTransformer\n",
    "ct.list_all()"
   ]
  },
  {
   "cell_type": "markdown",
   "id": "27",
   "metadata": {},
   "source": [
    "# **Business logic - Helper functions**"
   ]
  },
  {
   "cell_type": "markdown",
   "id": "28",
   "metadata": {},
   "source": [
    "### **Get a random selection of 5 products to purchase**"
   ]
  },
  {
   "cell_type": "code",
   "execution_count": null,
   "id": "29",
   "metadata": {},
   "outputs": [],
   "source": [
    "products_to_buy = pt.getRandomProducts(5)\n",
    "customer_id=3\n"
   ]
  },
  {
   "cell_type": "code",
   "execution_count": null,
   "id": "30",
   "metadata": {},
   "outputs": [],
   "source": [
    "products_to_buy"
   ]
  },
  {
   "cell_type": "code",
   "execution_count": null,
   "id": "31",
   "metadata": {},
   "outputs": [],
   "source": [
    "BaseDBTransformer.read(C.prd, 58)"
   ]
  },
  {
   "cell_type": "markdown",
   "id": "32",
   "metadata": {},
   "source": [
    "### **Add these products to the cart of a selected customer**"
   ]
  },
  {
   "cell_type": "markdown",
   "id": "33",
   "metadata": {},
   "source": [
    "##### **Select the items**"
   ]
  },
  {
   "cell_type": "code",
   "execution_count": null,
   "id": "34",
   "metadata": {},
   "outputs": [],
   "source": [
    "selected_items = products_to_buy.loc[:, [C.pid]]\n",
    "selected_items[C.qnt] = np.random.randint(1, 3, size=len(selected_items))\n",
    "items = selected_items.to_dict(orient='records')\n",
    "items\n"
   ]
  },
  {
   "cell_type": "markdown",
   "id": "35",
   "metadata": {},
   "source": [
    "##### **Add Them to the cart**"
   ]
  },
  {
   "cell_type": "code",
   "execution_count": null,
   "id": "36",
   "metadata": {},
   "outputs": [],
   "source": [
    "CartTransformer.addToCart(customer_id, items, debug=True)"
   ]
  },
  {
   "cell_type": "markdown",
   "id": "37",
   "metadata": {},
   "source": [
    "##### **Verify the addition**"
   ]
  },
  {
   "cell_type": "code",
   "execution_count": null,
   "id": "38",
   "metadata": {},
   "outputs": [],
   "source": [
    "print(\"customer_id = \", customer_id)\n",
    "# CartTransformer.list_cust(customer_id)\n",
    "# BaseDBTransformer.read(C.cart, **{C.custid:customer_id})\n",
    "# BaseDBTransformer.readf(C.cart, **{C.custid+\"__eq\":customer_id})\n",
    "BaseDBTransformer.read(C.cart, customer_id)"
   ]
  },
  {
   "cell_type": "markdown",
   "id": "39",
   "metadata": {},
   "source": [
    "#### **Verify empty cart**"
   ]
  },
  {
   "cell_type": "code",
   "execution_count": null,
   "id": "40",
   "metadata": {},
   "outputs": [],
   "source": [
    "# PurchaseTransformer.empty_cart(3)"
   ]
  },
  {
   "cell_type": "markdown",
   "id": "41",
   "metadata": {},
   "source": [
    "### **Purchase the items in the cart**"
   ]
  },
  {
   "cell_type": "code",
   "execution_count": null,
   "id": "42",
   "metadata": {},
   "outputs": [],
   "source": [
    "order_id = PurchaseService.purchase_cart_items(customer_id, debug=True)\n",
    "print(\"Order Id =\", order_id)\n"
   ]
  },
  {
   "cell_type": "markdown",
   "id": "43",
   "metadata": {},
   "source": [
    "##### **Delete a purchase**"
   ]
  },
  {
   "cell_type": "code",
   "execution_count": null,
   "id": "44",
   "metadata": {},
   "outputs": [],
   "source": [
    "PurchaseService.deletePurchase(order_id, customer_id)"
   ]
  },
  {
   "cell_type": "markdown",
   "id": "45",
   "metadata": {},
   "source": [
    "### **Purchase cart items with discount coupon**"
   ]
  },
  {
   "cell_type": "code",
   "execution_count": null,
   "id": "46",
   "metadata": {},
   "outputs": [],
   "source": [
    "customer_id = 3\n",
    "order_id = \"10079\"\n",
    "discount_id = DiscountTransformer.generate_discount_id(order_id, customer_id)\n",
    "print(customer_id, order_id, discount_id)"
   ]
  },
  {
   "cell_type": "code",
   "execution_count": null,
   "id": "47",
   "metadata": {},
   "outputs": [],
   "source": [
    "cust_cart = BaseDBTransformer.read(C.cart, **{C.custid: customer_id})\n",
    "for i, dict in enumerate(cust_cart.to_dict(orient='records')):\n",
    "    prd_df = BaseDBTransformer.read(C.prd, dict[C.pid])\n",
    "    prd_dict = prd_df.iloc[0].to_dict()\n",
    "    print(prd_dict)\n",
    "print(cust_cart)\n"
   ]
  },
  {
   "cell_type": "code",
   "execution_count": null,
   "id": "48",
   "metadata": {},
   "outputs": [],
   "source": [
    "print(discount_id)\n",
    "res_with_d = PurchaseService.purchase_discounted_cart_items(customer_id, discount_id, debug=True)\n",
    "print( \" Order Id with discount =\", res_with_d)\n"
   ]
  },
  {
   "cell_type": "code",
   "execution_count": null,
   "id": "49",
   "metadata": {},
   "outputs": [],
   "source": [
    "discount_id = \"3__10079\"\n",
    "# BaseDBTransformer.read(C.discounts)\n",
    "BaseDBTransformer.read(C.discounts, discount_id)"
   ]
  },
  {
   "cell_type": "code",
   "execution_count": null,
   "id": "50",
   "metadata": {},
   "outputs": [],
   "source": [
    "DiscountService.list_eligible_codes(3)"
   ]
  },
  {
   "cell_type": "markdown",
   "id": "51",
   "metadata": {},
   "source": [
    "# **Admin APIs**"
   ]
  },
  {
   "cell_type": "markdown",
   "id": "52",
   "metadata": {},
   "source": [
    "### **Get all discount codes**"
   ]
  },
  {
   "cell_type": "code",
   "execution_count": null,
   "id": "53",
   "metadata": {},
   "outputs": [],
   "source": [
    "all_disc_codes = dt.list_all_codes()\n",
    "all_disc_codes\n"
   ]
  },
  {
   "cell_type": "markdown",
   "id": "54",
   "metadata": {},
   "source": [
    "### **Get codes eligible - But not enabled**"
   ]
  },
  {
   "cell_type": "code",
   "execution_count": null,
   "id": "55",
   "metadata": {},
   "outputs": [],
   "source": [
    "eligible_disc_codes = dt.list_eligible_codes(customer_id)\n",
    "eligible_disc_codes"
   ]
  },
  {
   "cell_type": "markdown",
   "id": "56",
   "metadata": {},
   "source": [
    "### **Get all active codes - But not yet used by the customer**"
   ]
  },
  {
   "cell_type": "code",
   "execution_count": null,
   "id": "57",
   "metadata": {},
   "outputs": [],
   "source": [
    "active_disc_codes = dt.list_active_codes()\n",
    "active_disc_codes"
   ]
  },
  {
   "cell_type": "markdown",
   "id": "58",
   "metadata": {},
   "source": [
    "#### **Get used discount codes by the customer**"
   ]
  },
  {
   "cell_type": "code",
   "execution_count": null,
   "id": "59",
   "metadata": {},
   "outputs": [],
   "source": [
    "dt.list_used_codes(customer_id)"
   ]
  },
  {
   "cell_type": "markdown",
   "id": "60",
   "metadata": {},
   "source": [
    "### **Enable a discount code for a customer**"
   ]
  },
  {
   "cell_type": "markdown",
   "id": "61",
   "metadata": {},
   "source": [
    "#### **First change the status**"
   ]
  },
  {
   "cell_type": "code",
   "execution_count": null,
   "id": "62",
   "metadata": {},
   "outputs": [],
   "source": [
    "# discount id is custoemrid + __ + Order_id\n",
    "discount_id = \"3__10076\" \n",
    "dt.enable_discount_codes(discount_id, 10, \"NEW_CUSTOMER\")"
   ]
  },
  {
   "cell_type": "markdown",
   "id": "63",
   "metadata": {},
   "source": [
    "#### **Second verify the record that status has really changed**"
   ]
  },
  {
   "cell_type": "code",
   "execution_count": null,
   "id": "64",
   "metadata": {},
   "outputs": [],
   "source": [
    "active_disc_codes = dt.list_active_codes()\n",
    "active_disc_codes"
   ]
  },
  {
   "cell_type": "markdown",
   "id": "65",
   "metadata": {},
   "source": [
    "#### **Check Orders and items by customer**"
   ]
  },
  {
   "cell_type": "code",
   "execution_count": null,
   "id": "66",
   "metadata": {},
   "outputs": [],
   "source": [
    "# print(order_id)\n",
    "print( PurchaseTransformer.list_orders_by_customer(customer_id) )\n",
    "df = BaseDBTransformer.read(C.items, \"10077\")\n",
    "df\n"
   ]
  },
  {
   "cell_type": "markdown",
   "id": "67",
   "metadata": {},
   "source": [
    "### **Test the FASTAPIs**"
   ]
  },
  {
   "cell_type": "code",
   "execution_count": null,
   "id": "68",
   "metadata": {},
   "outputs": [],
   "source": [
    "df = ProductTransformer.get_products_class()\n",
    "mapped = df.to_dict(orient=\"records\")\n",
    "mapped"
   ]
  },
  {
   "cell_type": "markdown",
   "id": "69",
   "metadata": {},
   "source": [
    "### **Invoices**"
   ]
  },
  {
   "cell_type": "code",
   "execution_count": null,
   "id": "70",
   "metadata": {},
   "outputs": [],
   "source": [
    "def generate_invoice(cust_id: int):\n",
    "            orders = BaseDBTransformer.read(C.orders, **{C.custid:cust_id})\n",
    "            if(orders.empty):\n",
    "                print(\"Nor order from the customer_id = \", cust_id, \" Nothing to geenrate. Aborting. \")\n",
    "                return\n",
    "            orditems = BaseDBTransformer.readdf(C.items, C.ordid, orders[C.ordid].to_list())\n",
    "            if(orders.empty):\n",
    "                print(\"Nor order from the customer_id = \", cust_id, \" Nothing to geenrate. Aborting. \")\n",
    "                return\n",
    "            products = BaseDBTransformer.readdf(C.prd, C.pid, orditems[C.pid].unique().tolist())\n",
    "            if(products.empty):\n",
    "                print( \"No Valid product Ids. Nothing to generate for customer = \", cust_id)\n",
    "                return\n",
    "            discs = BaseDBTransformer.readdf(C.discounts, C.did, orders[C.did].unique().tolist())\n",
    "            discs = discs.loc[discs[C.dpct] > 0, [C.did, C.dpct, C.dst]]\n",
    "            customer = BaseDBTransformer.readdf(C.custs, C.custid, [cust_id])\n",
    "            if(customer.empty):\n",
    "                print(\"Custoemr does not exist. Aborting.\")\n",
    "                return;\n",
    "\n",
    "            customer_invoice = orders.merge(orditems, on=C.ordid).merge(products, on=C.pid).merge(discs, on=C.did, how='left')\n",
    "            customer_invoice[\"FINAL COST\"] = (\n",
    "            customer_invoice[C.mrp].astype(float) *\n",
    "            customer_invoice[C.qnt] *\n",
    "            (100 - customer_invoice[C.dpct].fillna(0)) / 100\n",
    "            )\n",
    "            customer_invoice[\"ORIGINAL COST\"] = (\n",
    "            customer_invoice[C.mrp].astype(float) *\n",
    "            customer_invoice[C.qnt]\n",
    "            )\n",
    "\n",
    "            cigrp_p = (\n",
    "                    customer_invoice.groupby([C.ordid, C.pid]).agg(\n",
    "                            order_number=(C.ordid, 'max'),\n",
    "                            Product_Name=(C.pname, 'max'),\n",
    "                            discount_code=(C.did, 'max'),\n",
    "                            discount_percentage=(C.dpct, 'max'),\n",
    "                            original_cost=('ORIGINAL COST', 'sum'),\n",
    "                            final_cost=('FINAL COST', 'sum')\n",
    "                    ).reset_index(level=1, drop=True)\n",
    "            )\n",
    "            cigrp_p['order'] =1\n",
    "\n",
    "            cigrp_o = (\n",
    "                    customer_invoice.groupby([C.ordid]).agg(\n",
    "                            order_number=(C.ordid, 'max'),\n",
    "                            Product_Name=(C.pname, lambda x: 'SUB TOTAL'),\n",
    "                            discount_code=(C.did, 'max'),\n",
    "                            discount_percentage=(C.dpct, 'max'),\n",
    "                            original_cost=('ORIGINAL COST', 'sum'),\n",
    "                            final_cost=('FINAL COST', 'sum')\n",
    "                    )\n",
    "            )\n",
    "            cigrp_o['order'] =0\n",
    "\n",
    "            cigrp_o.index = [f\"SUMMARY-{idx}\" for idx in cigrp_o.index]\n",
    "\n",
    "            cigrp_g = pd.DataFrame({\n",
    "                    \"order_number\": f\"{customer.loc[0, C.custfn]} {customer.loc[0, C.custln]}\",\n",
    "                    \"Product_Name\" : f\"GRAND TOTAL - {customer.loc[0, C.custfn]} {customer.loc[0, C.custln]}\",\n",
    "                    \"discount_code\"  : \",\".join(customer_invoice[C.did].unique()),\n",
    "                    \"discount_percentage\" :f\"Discount range {customer_invoice[C.dpct].min()} - {customer_invoice[C.dpct].max()}\",\n",
    "                    \"original_cost\" : customer_invoice['ORIGINAL COST'].sum(), \n",
    "                    \"final_cost\" : customer_invoice['FINAL COST'].sum()\n",
    "            }, index=['OVERALL SUMMARY'])\n",
    "            cigrp_g['order'] = 2\n",
    "\n",
    "            invoice = pd.concat([\n",
    "                    cigrp_p.fillna(0),\n",
    "                    cigrp_o.fillna(0),\n",
    "                    cigrp_g.fillna(0)\n",
    "            ])\n",
    "            invoice.index.name = \"Order Numbers\"\n",
    "            retdf = invoice.sort_values(by=['order_number', 'order', 'original_cost'], ascending=[True, True, True]).loc[:,['Product_Name','discount_code', \"discount_percentage\", 'original_cost', 'final_cost']]\n",
    "            # retdf.index.name = \"Sno\"\n",
    "            #print( f\"Invoice for Customer {customer.loc[0, C.custfn]} {customer.loc[0, C.custln]}:\\n\\nTotal = {customer_invoice['FINAL COST'].sum()}\\n\")\n",
    "            return  retdf"
   ]
  },
  {
   "cell_type": "code",
   "execution_count": null,
   "id": "71",
   "metadata": {},
   "outputs": [],
   "source": [
    "cust_id=4\n",
    "orders = BaseDBTransformer.read(C.orders, **{C.custid:cust_id})\n",
    "orditems = BaseDBTransformer.readdf(C.items, C.ordid, orders[C.ordid].to_list())\n",
    "products = BaseDBTransformer.readdf(C.prd, C.pid, orditems[C.pid].unique().tolist())\n",
    "discs = BaseDBTransformer.readdf(C.discounts, C.did, orders[C.did].unique().tolist())\n",
    "discs = discs.loc[discs[C.dpct] > 0, [C.did, C.dpct, C.dst]]\n",
    "customer = BaseDBTransformer.readdf(C.custs, C.custid, [cust_id])\n",
    "\n",
    "print(orders)\n",
    "print(orditems)\n",
    "print(orditems[C.pid].unique().tolist())\n",
    "df = BaseDBTransformer.read(C.prd, **{C.pid:229})\n",
    "df"
   ]
  },
  {
   "cell_type": "code",
   "execution_count": null,
   "id": "72",
   "metadata": {},
   "outputs": [],
   "source": [
    "prds_all[C.pid].unique()\n",
    "orders = BaseDBTransformer.read(C.orders)\n",
    "items =  BaseDBTransformer.read(C.items)\n",
    "items[C.pid].unique()\n",
    "custs = BaseDBTransformer.read(C.custs)"
   ]
  },
  {
   "cell_type": "code",
   "execution_count": null,
   "id": "73",
   "metadata": {},
   "outputs": [],
   "source": [
    "prds_all.empty\n"
   ]
  },
  {
   "cell_type": "code",
   "execution_count": null,
   "id": "74",
   "metadata": {},
   "outputs": [],
   "source": [
    "generate_invoice(10)\n",
    "\n"
   ]
  }
 ],
 "metadata": {
  "kernelspec": {
   "display_name": "Python 3",
   "language": "python",
   "name": "python3"
  },
  "language_info": {
   "codemirror_mode": {
    "name": "ipython",
    "version": 3
   },
   "file_extension": ".py",
   "mimetype": "text/x-python",
   "name": "python",
   "nbconvert_exporter": "python",
   "pygments_lexer": "ipython3",
   "version": "3.13.2"
  }
 },
 "nbformat": 4,
 "nbformat_minor": 5
}
