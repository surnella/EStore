{
 "cells": [
  {
   "cell_type": "code",
   "execution_count": 1,
   "id": "f13304f4",
   "metadata": {},
   "outputs": [],
   "source": [
    "%load_ext autoreload\n",
    "%autoreload 2"
   ]
  },
  {
   "cell_type": "code",
   "execution_count": 2,
   "id": "e2daa7ec",
   "metadata": {},
   "outputs": [],
   "source": [
    "# EStore_Test.ipynb\n",
    "\n",
    "# Step 1: Import required modules\n",
    "import os\n",
    "import pandas as pd\n",
    "\n",
    "# Import your transformer classes from src\n",
    "from src.product_transformer import ProductTransformer\n",
    "from src.cart_transformer import CartTransformer\n",
    "from src.purchase_transformer import PurchaseTransformer\n",
    "from src.discount_transformer import DiscountTransformer\n"
   ]
  },
  {
   "cell_type": "code",
   "execution_count": 3,
   "id": "ac5a6152",
   "metadata": {},
   "outputs": [
    {
     "name": "stdout",
     "output_type": "stream",
     "text": [
      "    def transform(self, X=None):\n",
      "        \"\"\"Return current dataframe for pipeline usage.\"\"\"\n",
      "        print(\"Base Transformer transform invoked\")\n",
      "        if self.data is None:\n",
      "            self.fit()\n",
      "        return self.data.copy()\n",
      "\n"
     ]
    }
   ],
   "source": [
    "from src.base_transformer import BaseDBTransformer\n",
    "import inspect\n",
    "print(inspect.getsource(BaseDBTransformer.transform))\n"
   ]
  },
  {
   "cell_type": "code",
   "execution_count": 5,
   "id": "689282d6",
   "metadata": {},
   "outputs": [
    {
     "name": "stdout",
     "output_type": "stream",
     "text": [
      "Base DB Object Transformer invoked with file path: data\\products.csv\n"
     ]
    }
   ],
   "source": [
    "# Initialize\n",
    "product_csv = \"data/products.csv\"\n",
    "product_transformer = ProductTransformer(file_path=product_csv)"
   ]
  },
  {
   "cell_type": "code",
   "execution_count": 6,
   "id": "1f69b5dc",
   "metadata": {},
   "outputs": [
    {
     "name": "stdout",
     "output_type": "stream",
     "text": [
      "[<class 'src.product_transformer.ProductTransformer'>, <class 'src.base_transformer.BaseDBTransformer'>, <class 'object'>]\n",
      "<bound method BaseDBTransformer.transform of <src.product_transformer.ProductTransformer object at 0x00000161DA7C3E00>>\n",
      "<function BaseDBTransformer.transform at 0x00000161DA8D1BC0>\n"
     ]
    }
   ],
   "source": [
    "print(product_transformer.__class__.mro())       # confirm resolution order\n",
    "print(product_transformer.transform)            # which function object is bound?\n",
    "print(product_transformer.transform.__func__)   # unbound function, shows true owner\n"
   ]
  },
  {
   "cell_type": "code",
   "execution_count": 7,
   "id": "5f4e8de9",
   "metadata": {},
   "outputs": [
    {
     "name": "stdout",
     "output_type": "stream",
     "text": [
      "Base Transformer transform invoked\n",
      "Base Transformer fit invoked\n"
     ]
    },
    {
     "ename": "AttributeError",
     "evalue": "module 'pandas' has no attribute 'read_DB'",
     "output_type": "error",
     "traceback": [
      "\u001b[31m---------------------------------------------------------------------------\u001b[39m",
      "\u001b[31mAttributeError\u001b[39m                            Traceback (most recent call last)",
      "\u001b[36mCell\u001b[39m\u001b[36m \u001b[39m\u001b[32mIn[7]\u001b[39m\u001b[32m, line 1\u001b[39m\n\u001b[32m----> \u001b[39m\u001b[32m1\u001b[39m \u001b[43mproduct_transformer\u001b[49m\u001b[43m.\u001b[49m\u001b[43mtransform\u001b[49m\u001b[43m(\u001b[49m\u001b[43m)\u001b[49m  \n",
      "\u001b[36mFile \u001b[39m\u001b[32mc:\\aiml\\0825\\SKartG\\EStore\\src\\base_transformer.py:34\u001b[39m, in \u001b[36mBaseDBTransformer.transform\u001b[39m\u001b[34m(self, X)\u001b[39m\n\u001b[32m     32\u001b[39m \u001b[38;5;28mprint\u001b[39m(\u001b[33m\"\u001b[39m\u001b[33mBase Transformer transform invoked\u001b[39m\u001b[33m\"\u001b[39m)\n\u001b[32m     33\u001b[39m \u001b[38;5;28;01mif\u001b[39;00m \u001b[38;5;28mself\u001b[39m.data \u001b[38;5;129;01mis\u001b[39;00m \u001b[38;5;28;01mNone\u001b[39;00m:\n\u001b[32m---> \u001b[39m\u001b[32m34\u001b[39m     \u001b[38;5;28;43mself\u001b[39;49m\u001b[43m.\u001b[49m\u001b[43mfit\u001b[49m\u001b[43m(\u001b[49m\u001b[43m)\u001b[49m\n\u001b[32m     35\u001b[39m \u001b[38;5;28;01mreturn\u001b[39;00m \u001b[38;5;28mself\u001b[39m.data.copy()\n",
      "\u001b[36mFile \u001b[39m\u001b[32mc:\\aiml\\0825\\SKartG\\EStore\\src\\base_transformer.py:27\u001b[39m, in \u001b[36mBaseDBTransformer.fit\u001b[39m\u001b[34m(self, X, y)\u001b[39m\n\u001b[32m     25\u001b[39m \u001b[38;5;250m\u001b[39m\u001b[33;03m\"\"\"Load DB into memory (X,y ignored for sklearn compatibility).\"\"\"\u001b[39;00m\n\u001b[32m     26\u001b[39m \u001b[38;5;28mprint\u001b[39m(\u001b[33m\"\u001b[39m\u001b[33mBase Transformer fit invoked\u001b[39m\u001b[33m\"\u001b[39m)\n\u001b[32m---> \u001b[39m\u001b[32m27\u001b[39m \u001b[38;5;28mself\u001b[39m.data = \u001b[43mpd\u001b[49m\u001b[43m.\u001b[49m\u001b[43mread_DB\u001b[49m(\u001b[38;5;28mself\u001b[39m.file_path)\n\u001b[32m     28\u001b[39m \u001b[38;5;28;01mreturn\u001b[39;00m \u001b[38;5;28mself\u001b[39m\n",
      "\u001b[31mAttributeError\u001b[39m: module 'pandas' has no attribute 'read_DB'"
     ]
    }
   ],
   "source": [
    "product_transformer.transform()  "
   ]
  },
  {
   "cell_type": "code",
   "execution_count": null,
   "id": "fbfa70cc",
   "metadata": {},
   "outputs": [
    {
     "name": "stdout",
     "output_type": "stream",
     "text": [
      "Base DB Object Transformer invoked with file path: data\\products.csv\n"
     ]
    },
    {
     "ename": "TypeError",
     "evalue": "BaseDBTransformer.transform() missing 1 required positional argument: 'X'",
     "output_type": "error",
     "traceback": [
      "\u001b[31m---------------------------------------------------------------------------\u001b[39m",
      "\u001b[31mTypeError\u001b[39m                                 Traceback (most recent call last)",
      "\u001b[36mCell\u001b[39m\u001b[36m \u001b[39m\u001b[32mIn[14]\u001b[39m\u001b[32m, line 5\u001b[39m\n\u001b[32m      2\u001b[39m product_csv = \u001b[33m\"\u001b[39m\u001b[33mdata/products.csv\u001b[39m\u001b[33m\"\u001b[39m\n\u001b[32m      3\u001b[39m product_transformer = ProductTransformer(file_path=product_csv)\n\u001b[32m----> \u001b[39m\u001b[32m5\u001b[39m \u001b[43mproduct_transformer\u001b[49m\u001b[43m.\u001b[49m\u001b[43mtransform\u001b[49m\u001b[43m(\u001b[49m\u001b[43m)\u001b[49m  \n\u001b[32m      6\u001b[39m \u001b[38;5;66;03m# Test: Read back\u001b[39;00m\n\u001b[32m      7\u001b[39m \u001b[38;5;66;03m# print(product_transformer.read())\u001b[39;00m\n\u001b[32m      8\u001b[39m \n\u001b[32m      9\u001b[39m \u001b[38;5;66;03m# Test: CRUD ops\u001b[39;00m\n\u001b[32m     10\u001b[39m \u001b[38;5;28mprint\u001b[39m(product_transformer.create({C.pid: \u001b[33m\"\u001b[39m\u001b[33mFD6431\u001b[39m\u001b[33m\"\u001b[39m, C.ptyp: \u001b[33m\"\u001b[39m\u001b[33mFruit and Vegetables\u001b[39m\u001b[33m\"\u001b[39m, C.sc: \u001b[33m\"\u001b[39m\u001b[33mRegular\u001b[39m\u001b[33m\"\u001b[39m, C.wt: \u001b[32m10.57\u001b[39m, C.area: \u001b[32m0.11\u001b[39m, C.mrp: \u001b[32m143.36\u001b[39m}))\n",
      "\u001b[31mTypeError\u001b[39m: BaseDBTransformer.transform() missing 1 required positional argument: 'X'"
     ]
    }
   ],
   "source": [
    "\n",
    "\n",
    "\n",
    "# Test: Read back\n",
    "# print(product_transformer.read())\n",
    "\n",
    "# Test: CRUD ops\n",
    "print(product_transformer.create({C.pid: \"FD6431\", C.ptyp: \"Fruit and Vegetables\", C.sc: \"Regular\", C.wt: 10.57, C.area: 0.11, C.mrp: 143.36}))\n",
    "print(product_transformer.read())\n"
   ]
  },
  {
   "cell_type": "code",
   "execution_count": null,
   "id": "2118b0c2",
   "metadata": {},
   "outputs": [],
   "source": [
    "# Initialize\n",
    "discount_csv = \"data/discounts.csv\"\n",
    "discount_transformer = DiscountTransformer(filepath=discount_csv)\n",
    "\n",
    "# Test: Write sample data\n",
    "sample_discounts = pd.DataFrame([\n",
    "    {\"discount_id\": 1, \"user_id\": 101, \"code\": \"NEW10\", \"percent\": 10},\n",
    "    {\"discount_id\": 2, \"user_id\": 102, \"code\": \"SAVE20\", \"percent\": 20}\n",
    "])\n",
    "discount_transformer.write_data(sample_discounts)\n",
    "\n",
    "# Test: Read back\n",
    "print(discount_transformer.read_data())\n",
    "\n",
    "# Test: CRUD ops\n",
    "print(discount_transformer.create({\"discount_id\": 3, \"user_id\": 103, \"code\": \"FESTIVE30\", \"percent\": 30}))\n",
    "print(discount_transformer.read_all())\n"
   ]
  },
  {
   "cell_type": "code",
   "execution_count": null,
   "id": "c0582982",
   "metadata": {},
   "outputs": [],
   "source": [
    "# Initialize\n",
    "purchase_csv = \"data/purchases.csv\"\n",
    "purchase_transformer = PurchaseTransformer(filepath=purchase_csv)\n",
    "\n",
    "# Test: Write sample data\n",
    "sample_purchases = pd.DataFrame([\n",
    "    {\"purchase_id\": 1, \"user_id\": 101, \"product_id\": 1, \"quantity\": 2, \"price\": 100, \"discount\": 0},\n",
    "    {\"purchase_id\": 2, \"user_id\": 102, \"product_id\": 2, \"quantity\": 3, \"price\": 90, \"discount\": 10}\n",
    "])\n",
    "purchase_transformer.write_data(sample_purchases)\n",
    "\n",
    "# Test: Read back\n",
    "print(purchase_transformer.read_data())\n",
    "\n",
    "# Test: CRUD ops\n",
    "print(purchase_transformer.create({\"purchase_id\": 3, \"user_id\": 103, \"product_id\": 1, \"quantity\": 1, \"price\": 50, \"discount\": 5}))\n",
    "print(purchase_transformer.read_all())\n"
   ]
  },
  {
   "cell_type": "code",
   "execution_count": null,
   "id": "5ecdc8ea",
   "metadata": {},
   "outputs": [],
   "source": [
    "# Initialize\n",
    "cart_csv = \"data/carts.csv\"\n",
    "cart_transformer = CartTransformer(filepath=cart_csv)\n",
    "\n",
    "# Test: Write sample data\n",
    "sample_cart = pd.DataFrame([\n",
    "    {\"cart_id\": 1, \"user_id\": 101, \"product_id\": 1, \"quantity\": 2},\n",
    "    {\"cart_id\": 2, \"user_id\": 102, \"product_id\": 2, \"quantity\": 3}\n",
    "])\n",
    "cart_transformer.write_data(sample_cart)\n",
    "\n",
    "# Test: Read back\n",
    "print(cart_transformer.read_data())\n",
    "\n",
    "# Test: CRUD ops\n",
    "print(cart_transformer.create({\"cart_id\": 3, \"user_id\": 103, \"product_id\": 1, \"quantity\": 1}))\n",
    "print(cart_transformer.read_all())\n"
   ]
  },
  {
   "cell_type": "code",
   "execution_count": null,
   "id": "2095311f",
   "metadata": {},
   "outputs": [],
   "source": [
    "curl -X POST http://127.0.0.1:5000/products \\\n",
    "     -H \"Content-Type: application/json\" \\\n",
    "     -d '{\"id\": 1, \"name\": \"Laptop\", \"price\": 1200}'\n"
   ]
  },
  {
   "cell_type": "code",
   "execution_count": null,
   "id": "52704afb",
   "metadata": {},
   "outputs": [],
   "source": [
    "curl http://127.0.0.1:5000/products\n"
   ]
  },
  {
   "cell_type": "code",
   "execution_count": null,
   "id": "744c6acc",
   "metadata": {},
   "outputs": [],
   "source": [
    "import time, random, string\n",
    "\n",
    "def generate_user_id():\n",
    "    timestamp = int(time.time())  # current Unix timestamp\n",
    "    rand_part = ''.join(random.choices(string.ascii_letters + string.digits, k=6))\n",
    "    return f\"user_{timestamp}_{rand_part}\"\n",
    "\n",
    "print(generate_user_id())\n"
   ]
  }
 ],
 "metadata": {
  "kernelspec": {
   "display_name": "Python 3",
   "language": "python",
   "name": "python3"
  },
  "language_info": {
   "codemirror_mode": {
    "name": "ipython",
    "version": 3
   },
   "file_extension": ".py",
   "mimetype": "text/x-python",
   "name": "python",
   "nbconvert_exporter": "python",
   "pygments_lexer": "ipython3",
   "version": "3.13.2"
  }
 },
 "nbformat": 4,
 "nbformat_minor": 5
}
