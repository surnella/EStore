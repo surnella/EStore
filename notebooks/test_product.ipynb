{
 "cells": [
  {
   "cell_type": "code",
   "execution_count": null,
   "id": "0a48931b",
   "metadata": {},
   "outputs": [],
   "source": [
    "import sys\n",
    "import pandas as pd\n",
    "sys.path.append(\"../src\")\n",
    "\n",
    "from product_transformer import ProductTransformer\n",
    "\n",
    "# Sample Data\n",
    "data = pd.DataFrame({\n",
    "    \"id\": [1, 2],\n",
    "    \"name\": [\"Laptop\", \"Phone\"],\n",
    "    \"price\": [1200, 800]\n",
    "})\n",
    "data.to_csv(\"../data/products.csv\", index=False)\n",
    "\n",
    "# Test\n",
    "pt = ProductTransformer(\"../data/products.csv\")\n",
    "pt.fit()\n",
    "\n",
    "print(\"All Products:\")\n",
    "print(pt.transform())\n",
    "\n",
    "print(\"\\nGet Product by ID=1:\")\n",
    "print(pt.read(1))\n",
    "\n",
    "print(\"\\nAdding a Product:\")\n",
    "pt.create({\"id\": 3, \"name\": \"Tablet\", \"price\": 500})\n",
    "print(pt.transform())\n",
    "\n",
    "print(\"\\nUpdating Product ID=2:\")\n",
    "pt.update(2, {\"price\": 750})\n",
    "print(pt.transform())\n",
    "\n",
    "print(\"\\nDeleting Product ID=1:\")\n",
    "pt.delete(1)\n",
    "print(pt.transform())\n"
   ]
  }
 ],
 "metadata": {
  "language_info": {
   "name": "python"
  }
 },
 "nbformat": 4,
 "nbformat_minor": 5
}
