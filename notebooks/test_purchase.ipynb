{
 "cells": [
  {
   "cell_type": "code",
   "execution_count": null,
   "id": "ce05f036",
   "metadata": {},
   "outputs": [],
   "source": [
    "import sys\n",
    "import pandas as pd\n",
    "sys.path.append(\"../src\")\n",
    "\n",
    "from purchase_transformer import PurchaseTransformer\n",
    "\n",
    "# Sample Data\n",
    "data = pd.DataFrame({\n",
    "    \"order_id\": [201, 202],\n",
    "    \"user_id\": [1, 2],\n",
    "    \"cart_id\": [101, 102],\n",
    "    \"total\": [1200, 2400]\n",
    "})\n",
    "data.to_csv(\"../data/orders.csv\", index=False)\n",
    "\n",
    "# Test\n",
    "ot = PurchaseTransformer(\"../data/orders.csv\")\n",
    "ot.fit()\n",
    "\n",
    "print(\"All Orders:\")\n",
    "print(ot.transform())\n",
    "\n",
    "print(\"\\nGet Order by ID=201:\")\n",
    "print(ot.read(201))\n",
    "\n",
    "print(\"\\nCreate Order:\")\n",
    "ot.create({\"order_id\": 203, \"user_id\": 1, \"cart_id\": 103, \"total\": 1500})\n",
    "print(ot.transform())\n",
    "\n",
    "print(\"\\nUpdate Order 202:\")\n",
    "ot.update(202, {\"total\": 2300})\n",
    "print(ot.transform())\n",
    "\n",
    "print(\"\\nDelete Order 201:\")\n",
    "ot.delete(201)\n",
    "print(ot.transform())\n"
   ]
  }
 ],
 "metadata": {
  "language_info": {
   "name": "python"
  }
 },
 "nbformat": 4,
 "nbformat_minor": 5
}
