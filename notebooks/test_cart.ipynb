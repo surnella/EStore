{
 "cells": [
  {
   "cell_type": "code",
   "execution_count": null,
   "id": "5e8fd17d",
   "metadata": {},
   "outputs": [],
   "source": [
    "import sys\n",
    "import pandas as pd\n",
    "sys.path.append(\"../src\")\n",
    "\n",
    "from cart_transformer import CartTransformer\n",
    "\n",
    "# Sample Data\n",
    "data = pd.DataFrame({\n",
    "    \"cart_id\": [101, 102],\n",
    "    \"user_id\": [1, 2],\n",
    "    \"product_id\": [1, 2],\n",
    "    \"quantity\": [1, 3]\n",
    "})\n",
    "data.to_csv(\"../data/cart.csv\", index=False)\n",
    "\n",
    "# Test\n",
    "ct = CartTransformer(\"../data/cart.csv\")\n",
    "ct.fit()\n",
    "\n",
    "print(\"All Cart Items:\")\n",
    "print(ct.transform())\n",
    "\n",
    "print(\"\\nGet Cart ID=101:\")\n",
    "print(ct.read(101))\n",
    "\n",
    "print(\"\\nAdd to Cart:\")\n",
    "ct.create({\"cart_id\": 103, \"user_id\": 1, \"product_id\": 2, \"quantity\": 5})\n",
    "print(ct.transform())\n",
    "\n",
    "print(\"\\nUpdate Cart ID=102:\")\n",
    "ct.update(102, {\"quantity\": 4})\n",
    "print(ct.transform())\n",
    "\n",
    "print(\"\\nDelete Cart ID=101:\")\n",
    "ct.delete(101)\n",
    "print(ct.transform())\n"
   ]
  }
 ],
 "metadata": {
  "language_info": {
   "name": "python"
  }
 },
 "nbformat": 4,
 "nbformat_minor": 5
}
