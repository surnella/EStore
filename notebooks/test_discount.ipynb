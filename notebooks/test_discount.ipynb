{
 "cells": [
  {
   "cell_type": "code",
   "execution_count": null,
   "id": "99a4e790",
   "metadata": {},
   "outputs": [],
   "source": [
    "import sys\n",
    "import pandas as pd\n",
    "sys.path.append(\"../src\")\n",
    "\n",
    "from discount_transformer import DiscountTransformer\n",
    "\n",
    "# Sample Data\n",
    "data = pd.DataFrame({\n",
    "    \"discount_id\": [301, 302],\n",
    "    \"product_id\": [1, 2],\n",
    "    \"discount_percent\": [10, 20]\n",
    "})\n",
    "data.to_csv(\"../data/discounts.csv\", index=False)\n",
    "\n",
    "# Test\n",
    "dt = DiscountTransformer(\"../data/discounts.csv\")\n",
    "dt.fit()\n",
    "\n",
    "print(\"All Discounts:\")\n",
    "print(dt.transform())\n",
    "\n",
    "print(\"\\nGet Discount ID=301:\")\n",
    "print(dt.read(301))\n",
    "\n",
    "print(\"\\nCreate Discount:\")\n",
    "dt.create({\"discount_id\": 303, \"product_id\": 3, \"discount_percent\": 15})\n",
    "print(dt.transform())\n",
    "\n",
    "print(\"\\nUpdate Discount 302:\")\n",
    "dt.update(302, {\"discount_percent\": 25})\n",
    "print(dt.transform())\n",
    "\n",
    "print(\"\\nDelete Discount 301:\")\n",
    "dt.delete(301)\n",
    "print(dt.transform())\n"
   ]
  }
 ],
 "metadata": {
  "language_info": {
   "name": "python"
  }
 },
 "nbformat": 4,
 "nbformat_minor": 5
}
