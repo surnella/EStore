{
 "cells": [
  {
   "cell_type": "code",
   "execution_count": null,
   "id": "e2daa7ec",
   "metadata": {},
   "outputs": [],
   "source": [
    "# EStore_Test.ipynb\n",
    "\n",
    "# Step 1: Import required modules\n",
    "import os\n",
    "import pandas as pd\n",
    "\n",
    "# Import your transformer classes from src\n",
    "from src.product_transformer import ProductTransformer\n",
    "from src.cart_transformer import CartTransformer\n",
    "from src.purchase_transformer import PurchaseTransformer\n",
    "from src.discount_transformer import DiscountTransformer\n"
   ]
  },
  {
   "cell_type": "code",
   "execution_count": null,
   "id": "fbfa70cc",
   "metadata": {},
   "outputs": [],
   "source": [
    "# Initialize\n",
    "product_csv = \"data/products.csv\"\n",
    "product_transformer = ProductTransformer(filepath=product_csv)\n",
    "\n",
    "# Test: Write sample data\n",
    "sample_products = pd.DataFrame([\n",
    "    {\"product_id\": 1, \"type\": \"Beverage\", \"sugar_content\": \"Low\", \"weight\": 500, \"area\": \"North\", \"mrp\": 50},\n",
    "    {\"product_id\": 2, \"type\": \"Snack\", \"sugar_content\": \"High\", \"weight\": 200, \"area\": \"South\", \"mrp\": 30}\n",
    "])\n",
    "product_transformer.write_data(sample_products)\n",
    "\n",
    "# Test: Read back\n",
    "print(product_transformer.read_data())\n",
    "\n",
    "# Test: CRUD ops\n",
    "print(product_transformer.create({\"product_id\": 3, \"type\": \"Fruit\", \"sugar_content\": \"Medium\", \"weight\": 250, \"area\": \"West\", \"mrp\": 40}))\n",
    "print(product_transformer.read_all())\n"
   ]
  },
  {
   "cell_type": "code",
   "execution_count": null,
   "id": "2118b0c2",
   "metadata": {},
   "outputs": [],
   "source": [
    "# Initialize\n",
    "discount_csv = \"data/discounts.csv\"\n",
    "discount_transformer = DiscountTransformer(filepath=discount_csv)\n",
    "\n",
    "# Test: Write sample data\n",
    "sample_discounts = pd.DataFrame([\n",
    "    {\"discount_id\": 1, \"user_id\": 101, \"code\": \"NEW10\", \"percent\": 10},\n",
    "    {\"discount_id\": 2, \"user_id\": 102, \"code\": \"SAVE20\", \"percent\": 20}\n",
    "])\n",
    "discount_transformer.write_data(sample_discounts)\n",
    "\n",
    "# Test: Read back\n",
    "print(discount_transformer.read_data())\n",
    "\n",
    "# Test: CRUD ops\n",
    "print(discount_transformer.create({\"discount_id\": 3, \"user_id\": 103, \"code\": \"FESTIVE30\", \"percent\": 30}))\n",
    "print(discount_transformer.read_all())\n"
   ]
  },
  {
   "cell_type": "code",
   "execution_count": null,
   "id": "c0582982",
   "metadata": {},
   "outputs": [],
   "source": [
    "# Initialize\n",
    "purchase_csv = \"data/purchases.csv\"\n",
    "purchase_transformer = PurchaseTransformer(filepath=purchase_csv)\n",
    "\n",
    "# Test: Write sample data\n",
    "sample_purchases = pd.DataFrame([\n",
    "    {\"purchase_id\": 1, \"user_id\": 101, \"product_id\": 1, \"quantity\": 2, \"price\": 100, \"discount\": 0},\n",
    "    {\"purchase_id\": 2, \"user_id\": 102, \"product_id\": 2, \"quantity\": 3, \"price\": 90, \"discount\": 10}\n",
    "])\n",
    "purchase_transformer.write_data(sample_purchases)\n",
    "\n",
    "# Test: Read back\n",
    "print(purchase_transformer.read_data())\n",
    "\n",
    "# Test: CRUD ops\n",
    "print(purchase_transformer.create({\"purchase_id\": 3, \"user_id\": 103, \"product_id\": 1, \"quantity\": 1, \"price\": 50, \"discount\": 5}))\n",
    "print(purchase_transformer.read_all())\n"
   ]
  },
  {
   "cell_type": "code",
   "execution_count": null,
   "id": "5ecdc8ea",
   "metadata": {},
   "outputs": [],
   "source": [
    "# Initialize\n",
    "cart_csv = \"data/cart.csv\"\n",
    "cart_transformer = CartTransformer(filepath=cart_csv)\n",
    "\n",
    "# Test: Write sample data\n",
    "sample_cart = pd.DataFrame([\n",
    "    {\"cart_id\": 1, \"user_id\": 101, \"product_id\": 1, \"quantity\": 2},\n",
    "    {\"cart_id\": 2, \"user_id\": 102, \"product_id\": 2, \"quantity\": 3}\n",
    "])\n",
    "cart_transformer.write_data(sample_cart)\n",
    "\n",
    "# Test: Read back\n",
    "print(cart_transformer.read_data())\n",
    "\n",
    "# Test: CRUD ops\n",
    "print(cart_transformer.create({\"cart_id\": 3, \"user_id\": 103, \"product_id\": 1, \"quantity\": 1}))\n",
    "print(cart_transformer.read_all())\n"
   ]
  },
  {
   "cell_type": "code",
   "execution_count": null,
   "id": "2095311f",
   "metadata": {},
   "outputs": [],
   "source": [
    "curl -X POST http://127.0.0.1:5000/products \\\n",
    "     -H \"Content-Type: application/json\" \\\n",
    "     -d '{\"id\": 1, \"name\": \"Laptop\", \"price\": 1200}'\n"
   ]
  },
  {
   "cell_type": "code",
   "execution_count": null,
   "id": "52704afb",
   "metadata": {},
   "outputs": [],
   "source": [
    "curl http://127.0.0.1:5000/products\n"
   ]
  }
 ],
 "metadata": {
  "kernelspec": {
   "display_name": "Python 3",
   "language": "python",
   "name": "python3"
  },
  "language_info": {
   "codemirror_mode": {
    "name": "ipython",
    "version": 3
   },
   "file_extension": ".py",
   "mimetype": "text/x-python",
   "name": "python",
   "nbconvert_exporter": "python",
   "pygments_lexer": "ipython3",
   "version": "3.13.2"
  }
 },
 "nbformat": 4,
 "nbformat_minor": 5
}
