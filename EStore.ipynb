{
 "cells": [
  {
   "cell_type": "markdown",
   "id": "e0a7270f",
   "metadata": {},
   "source": [
    "# **Setup the development framework such that changes in py files auto load into this file**\n",
    "- You can ignore this if your interest is only in the business logic and design. \n",
    "- The steps in this section are only environment set related"
   ]
  },
  {
   "cell_type": "markdown",
   "id": "143d513f",
   "metadata": {},
   "source": [
    "### **Make sure py file change are loaded automatically**"
   ]
  },
  {
   "cell_type": "code",
   "execution_count": 1,
   "id": "f13304f4",
   "metadata": {},
   "outputs": [],
   "source": [
    "%load_ext autoreload\n",
    "%autoreload 2"
   ]
  },
  {
   "cell_type": "markdown",
   "id": "2d68c53d",
   "metadata": {},
   "source": [
    "### **Import basic package required for this assignment**"
   ]
  },
  {
   "cell_type": "code",
   "execution_count": 2,
   "id": "e2daa7ec",
   "metadata": {},
   "outputs": [],
   "source": [
    "import os\n",
    "import pandas as pd\n",
    "import src.constants as C\n"
   ]
  },
  {
   "cell_type": "markdown",
   "id": "ce522247",
   "metadata": {},
   "source": [
    "### **Make sure right sources are getting picked**"
   ]
  },
  {
   "cell_type": "code",
   "execution_count": 3,
   "id": "ac5a6152",
   "metadata": {},
   "outputs": [
    {
     "name": "stdout",
     "output_type": "stream",
     "text": [
      "    def transform(self, X=None):\n",
      "        \"\"\"Return current dataframe for pipeline usage.\"\"\"\n",
      "        # print(\"Base Transformer transform invoked\")\n",
      "        if self.data is None:\n",
      "            self.fit()\n",
      "        return self.data.copy()\n",
      "\n"
     ]
    }
   ],
   "source": [
    "from src.base_transformer import BaseDBTransformer\n",
    "import inspect\n",
    "print(inspect.getsource(BaseDBTransformer.transform))\n"
   ]
  },
  {
   "cell_type": "markdown",
   "id": "e87ceacc",
   "metadata": {},
   "source": [
    "### **Make sure the latest class are getting loaded.**"
   ]
  },
  {
   "cell_type": "code",
   "execution_count": 4,
   "id": "689282d6",
   "metadata": {},
   "outputs": [],
   "source": [
    "# 1. Import the modules first (so Python knows them)\n",
    "import importlib\n",
    "import src.product_transformer\n",
    "import src.cart_transformer\n",
    "import src.purchase_transformer\n",
    "import src.discount_transformer\n",
    "import src.constants\n",
    "\n",
    "# 2. Reload them (useful after edits)\n",
    "importlib.reload(src.product_transformer)\n",
    "importlib.reload(src.cart_transformer)\n",
    "importlib.reload(src.purchase_transformer)\n",
    "importlib.reload(src.discount_transformer)\n",
    "importlib.reload(src.constants)\n",
    "\n",
    "# 3. Import the classes fresh from the reloaded modules\n",
    "from src.product_transformer import ProductTransformer\n",
    "from src.cart_transformer import CartTransformer\n",
    "from src.purchase_transformer import PurchaseTransformer\n",
    "from src.discount_transformer import DiscountTransformer\n",
    "import src.constants\n",
    "import random"
   ]
  },
  {
   "cell_type": "markdown",
   "id": "cfdfd441",
   "metadata": {},
   "source": [
    "# **Transformers**\n",
    "- This section is the core design of the project\n",
    "- There are four transformers \n",
    "   - Products transformer: This is the database of the list of the products in EStore. The prodcuts.csv file for demo has 9 products. \n",
    "   - Cart transformer: This is user selected products added into the cart instance specific to the user. \n",
    "   - purchase transfromer: This is checkout functionaility of the cart. \n",
    "        - It has two kinds of purchases. With discount by applying discount code.\n",
    "        - It also supports purchase without applying discount code. If no discount is applied it generates a ne discount code and adds to discounts for the subsequent purchases. \n",
    "   - Discount transformer: This handles the discounts codes after the purchase. \n",
    "\n",
    "   - For each these transforers there is .py  file and .csv file in the src directory. \n",
    "   - Each transfomer derives from the base transfomer class which manages the csv read/write for that transformer. \n",
    "   - The base transformer class also handles basis CRUD operation if they are at the level of the dataframe(entire row level operations) without having to deal with individual columns (as columns are specific to the transformer)\n",
    "\n",
    "- The code is organized as a typical pyproject.toml file. "
   ]
  },
  {
   "cell_type": "markdown",
   "id": "f9b94485",
   "metadata": {},
   "source": [
    "## **Product Transformer - demonstration**"
   ]
  },
  {
   "cell_type": "code",
   "execution_count": 5,
   "id": "02096d4f",
   "metadata": {},
   "outputs": [
    {
     "data": {
      "text/html": [
       "<div>\n",
       "<style scoped>\n",
       "    .dataframe tbody tr th:only-of-type {\n",
       "        vertical-align: middle;\n",
       "    }\n",
       "\n",
       "    .dataframe tbody tr th {\n",
       "        vertical-align: top;\n",
       "    }\n",
       "\n",
       "    .dataframe thead th {\n",
       "        text-align: right;\n",
       "    }\n",
       "</style>\n",
       "<table border=\"1\" class=\"dataframe\">\n",
       "  <thead>\n",
       "    <tr style=\"text-align: right;\">\n",
       "      <th></th>\n",
       "      <th>ProductID</th>\n",
       "      <th>ProductType</th>\n",
       "      <th>ProductName</th>\n",
       "      <th>SugarContent</th>\n",
       "      <th>Weight</th>\n",
       "      <th>Area</th>\n",
       "      <th>MRP</th>\n",
       "    </tr>\n",
       "  </thead>\n",
       "  <tbody>\n",
       "    <tr>\n",
       "      <th>0</th>\n",
       "      <td>FD6114</td>\n",
       "      <td>Frozen Foods</td>\n",
       "      <td>French Fries</td>\n",
       "      <td>Low Sugar</td>\n",
       "      <td>12.66</td>\n",
       "      <td>0.027</td>\n",
       "      <td>117.08</td>\n",
       "    </tr>\n",
       "    <tr>\n",
       "      <th>1</th>\n",
       "      <td>FD7839</td>\n",
       "      <td>Dairy</td>\n",
       "      <td>Shrikand</td>\n",
       "      <td>Regular</td>\n",
       "      <td>16.54</td>\n",
       "      <td>0.144</td>\n",
       "      <td>171.43</td>\n",
       "    </tr>\n",
       "    <tr>\n",
       "      <th>2</th>\n",
       "      <td>NC1180</td>\n",
       "      <td>Health and Hygiene</td>\n",
       "      <td>Tissue Rolls</td>\n",
       "      <td>No Sugar</td>\n",
       "      <td>9.57</td>\n",
       "      <td>0.010</td>\n",
       "      <td>123.67</td>\n",
       "    </tr>\n",
       "    <tr>\n",
       "      <th>3</th>\n",
       "      <td>NC5885</td>\n",
       "      <td>Household</td>\n",
       "      <td>Screws</td>\n",
       "      <td>No Sugar</td>\n",
       "      <td>12.94</td>\n",
       "      <td>0.286</td>\n",
       "      <td>194.75</td>\n",
       "    </tr>\n",
       "    <tr>\n",
       "      <th>4</th>\n",
       "      <td>DR2699</td>\n",
       "      <td>Hard Drinks</td>\n",
       "      <td>Chivas Regal</td>\n",
       "      <td>Low Sugar</td>\n",
       "      <td>10.64</td>\n",
       "      <td>0.020</td>\n",
       "      <td>165.99</td>\n",
       "    </tr>\n",
       "    <tr>\n",
       "      <th>5</th>\n",
       "      <td>DR7979</td>\n",
       "      <td>Soft Drinks</td>\n",
       "      <td>Getorade</td>\n",
       "      <td>Low Sugar</td>\n",
       "      <td>16.14</td>\n",
       "      <td>0.112</td>\n",
       "      <td>198.44</td>\n",
       "    </tr>\n",
       "    <tr>\n",
       "      <th>6</th>\n",
       "      <td>NC2661</td>\n",
       "      <td>Health and Hygiene</td>\n",
       "      <td>Harpik Lizol pack</td>\n",
       "      <td>No Sugar</td>\n",
       "      <td>12.11</td>\n",
       "      <td>0.079</td>\n",
       "      <td>132.74</td>\n",
       "    </tr>\n",
       "    <tr>\n",
       "      <th>7</th>\n",
       "      <td>FD8358</td>\n",
       "      <td>Baking Goods</td>\n",
       "      <td>Theobroma Sourdough</td>\n",
       "      <td>Regular</td>\n",
       "      <td>14.83</td>\n",
       "      <td>0.148</td>\n",
       "      <td>181.27</td>\n",
       "    </tr>\n",
       "    <tr>\n",
       "      <th>8</th>\n",
       "      <td>DR7064</td>\n",
       "      <td>Soft Drinks</td>\n",
       "      <td>Maaza</td>\n",
       "      <td>Regular</td>\n",
       "      <td>11.73</td>\n",
       "      <td>0.048</td>\n",
       "      <td>122.21</td>\n",
       "    </tr>\n",
       "  </tbody>\n",
       "</table>\n",
       "</div>"
      ],
      "text/plain": [
       "  ProductID         ProductType          ProductName SugarContent  Weight  \\\n",
       "0    FD6114        Frozen Foods         French Fries    Low Sugar   12.66   \n",
       "1    FD7839               Dairy             Shrikand      Regular   16.54   \n",
       "2    NC1180  Health and Hygiene         Tissue Rolls     No Sugar    9.57   \n",
       "3    NC5885           Household               Screws     No Sugar   12.94   \n",
       "4    DR2699         Hard Drinks         Chivas Regal    Low Sugar   10.64   \n",
       "5    DR7979         Soft Drinks             Getorade    Low Sugar   16.14   \n",
       "6    NC2661  Health and Hygiene    Harpik Lizol pack     No Sugar   12.11   \n",
       "7    FD8358        Baking Goods  Theobroma Sourdough      Regular   14.83   \n",
       "8    DR7064         Soft Drinks                Maaza      Regular   11.73   \n",
       "\n",
       "    Area     MRP  \n",
       "0  0.027  117.08  \n",
       "1  0.144  171.43  \n",
       "2  0.010  123.67  \n",
       "3  0.286  194.75  \n",
       "4  0.020  165.99  \n",
       "5  0.112  198.44  \n",
       "6  0.079  132.74  \n",
       "7  0.148  181.27  \n",
       "8  0.048  122.21  "
      ]
     },
     "execution_count": 5,
     "metadata": {},
     "output_type": "execute_result"
    }
   ],
   "source": [
    "product_transformer = ProductTransformer(file_path=\"data/products.csv\")\n",
    "product_transformer.transform()  "
   ]
  },
  {
   "cell_type": "markdown",
   "id": "1b415fb3",
   "metadata": {},
   "source": [
    "## **Discount Transformer - demonstration**"
   ]
  },
  {
   "cell_type": "code",
   "execution_count": 6,
   "id": "2118b0c2",
   "metadata": {},
   "outputs": [
    {
     "data": {
      "text/html": [
       "<div>\n",
       "<style scoped>\n",
       "    .dataframe tbody tr th:only-of-type {\n",
       "        vertical-align: middle;\n",
       "    }\n",
       "\n",
       "    .dataframe tbody tr th {\n",
       "        vertical-align: top;\n",
       "    }\n",
       "\n",
       "    .dataframe thead th {\n",
       "        text-align: right;\n",
       "    }\n",
       "</style>\n",
       "<table border=\"1\" class=\"dataframe\">\n",
       "  <thead>\n",
       "    <tr style=\"text-align: right;\">\n",
       "      <th></th>\n",
       "      <th>DiscountID</th>\n",
       "      <th>UserID</th>\n",
       "      <th>DiscountCode</th>\n",
       "      <th>DiscountPercent</th>\n",
       "      <th>DiscountStatus</th>\n",
       "    </tr>\n",
       "  </thead>\n",
       "  <tbody>\n",
       "    <tr>\n",
       "      <th>0</th>\n",
       "      <td>DR351</td>\n",
       "      <td>574</td>\n",
       "      <td>SAVE3994</td>\n",
       "      <td>9</td>\n",
       "      <td>0</td>\n",
       "    </tr>\n",
       "    <tr>\n",
       "      <th>1</th>\n",
       "      <td>FD535</td>\n",
       "      <td>728</td>\n",
       "      <td>SAVE7531</td>\n",
       "      <td>10</td>\n",
       "      <td>0</td>\n",
       "    </tr>\n",
       "  </tbody>\n",
       "</table>\n",
       "</div>"
      ],
      "text/plain": [
       "  DiscountID UserID DiscountCode  DiscountPercent  DiscountStatus\n",
       "0      DR351    574     SAVE3994                9               0\n",
       "1      FD535    728     SAVE7531               10               0"
      ]
     },
     "execution_count": 6,
     "metadata": {},
     "output_type": "execute_result"
    }
   ],
   "source": [
    "# Initialize\n",
    "discount_csv = \"data/discounts.csv\"\n",
    "discount_transformer = DiscountTransformer(file_path=discount_csv)\n",
    "\n",
    "# Create a random data\n",
    "cid1 = \"CART\" + str(random.randint(100, 999))  # Generate a random cart ID\n",
    "cid2 = \"CART\" + str(random.randint(100, 999))  # Generate a random cart ID\n",
    "\n",
    "user_id1 = str(random.randint(100, 999))\n",
    "user_id2 = str(random.randint(100, 999))\n",
    "\n",
    "discode1 = [ \"NEW\", \"SAVE\", \"FESTIVE\"][random.randint(0, 2)] + str(random.randint(1000, 9999))\n",
    "discode2 = [ \"NEW\", \"SAVE\", \"FESTIVE\"][random.randint(0, 2)] + str(random.randint(1000, 9999))\n",
    "\n",
    "did1 = [\"FD\",\"NC\",\"DR\"][random.randint(0,2)] + str(random.randint(100, 999))\n",
    "did2 = [\"FD\",\"NC\",\"DR\"][random.randint(0,2)] + str(random.randint(100, 999))\n",
    "\n",
    "dpct1 = random.randint(5, 10)\n",
    "dpct2 = random.randint(5, 10)\n",
    "\n",
    "\n",
    "# Test: Write sample data\n",
    "sample_discounts = pd.DataFrame([\n",
    "    {C.did: did1, C.usrid: user_id1, C.dcode: discode1, C.dpct: dpct1, C.dst: 0},\n",
    "    {C.did: did2, C.usrid: user_id2, C.dcode: discode2, C.dpct: dpct2, C.dst: 0}\n",
    "])\n",
    "\n",
    "discount_transformer.update_df(sample_discounts, mode=\"overwrite\")\n",
    "discount_transformer.read()"
   ]
  },
  {
   "cell_type": "markdown",
   "id": "35104d97",
   "metadata": {},
   "source": [
    "## **Purchase Transformer - demonstration**"
   ]
  },
  {
   "cell_type": "code",
   "execution_count": 7,
   "id": "c0582982",
   "metadata": {},
   "outputs": [
    {
     "data": {
      "text/html": [
       "<div>\n",
       "<style scoped>\n",
       "    .dataframe tbody tr th:only-of-type {\n",
       "        vertical-align: middle;\n",
       "    }\n",
       "\n",
       "    .dataframe tbody tr th {\n",
       "        vertical-align: top;\n",
       "    }\n",
       "\n",
       "    .dataframe thead th {\n",
       "        text-align: right;\n",
       "    }\n",
       "</style>\n",
       "<table border=\"1\" class=\"dataframe\">\n",
       "  <thead>\n",
       "    <tr style=\"text-align: right;\">\n",
       "      <th></th>\n",
       "      <th>PaymentID</th>\n",
       "      <th>CartID</th>\n",
       "      <th>TotalAmount</th>\n",
       "      <th>DiscountID</th>\n",
       "    </tr>\n",
       "  </thead>\n",
       "  <tbody>\n",
       "    <tr>\n",
       "      <th>0</th>\n",
       "      <td>CART684_574</td>\n",
       "      <td>CART684</td>\n",
       "      <td>772.92</td>\n",
       "      <td>DR351</td>\n",
       "    </tr>\n",
       "    <tr>\n",
       "      <th>1</th>\n",
       "      <td>CART735_728</td>\n",
       "      <td>CART735</td>\n",
       "      <td>972.00</td>\n",
       "      <td>FD535</td>\n",
       "    </tr>\n",
       "  </tbody>\n",
       "</table>\n",
       "</div>"
      ],
      "text/plain": [
       "     PaymentID   CartID  TotalAmount DiscountID\n",
       "0  CART684_574  CART684       772.92      DR351\n",
       "1  CART735_728  CART735       972.00      FD535"
      ]
     },
     "execution_count": 7,
     "metadata": {},
     "output_type": "execute_result"
    }
   ],
   "source": [
    "# Initialize\n",
    "purchase_csv = \"data/purchases.csv\"\n",
    "purchase_transformer = PurchaseTransformer(file_path=purchase_csv)\n",
    "\n",
    "# Test: Write sample data\n",
    "sample_purchases = pd.DataFrame([\n",
    "    {C.prcid: cid1+\"_\"+user_id1, C.cid: cid1, C.tamt: 772.92, C.did: did1},\n",
    "    {C.prcid: cid2+\"_\"+user_id2, C.cid: cid2, C.tamt: 972.00, C.did: did2}\n",
    "])\n",
    "purchase_transformer.update_df(sample_purchases, mode=\"overwrite\")\n",
    "purchase_transformer.read()"
   ]
  },
  {
   "cell_type": "markdown",
   "id": "2753409f",
   "metadata": {},
   "source": [
    "## **Cart Transformer - demonstration**"
   ]
  },
  {
   "cell_type": "code",
   "execution_count": 8,
   "id": "5ecdc8ea",
   "metadata": {},
   "outputs": [
    {
     "name": "stdout",
     "output_type": "stream",
     "text": [
      "    CartID ProductID  Quantity UserID\n",
      "0  CART684    FD7839         4    574\n",
      "1  CART735    DR7979         2    728\n"
     ]
    }
   ],
   "source": [
    "# Initialize\n",
    "cart_csv = \"data/carts.csv\"\n",
    "cart_transformer = CartTransformer(file_path=cart_csv)\n",
    "\n",
    "# Test: Write sample data\n",
    "sample_cart = pd.DataFrame([\n",
    "    {C.cid: cid1 , C.pid: \"FD7839\", C.qnt: 4, C.usrid: user_id1},\n",
    "    {C.cid: cid2 , C.pid: \"DR7979\", C.qnt: 2, C.usrid: user_id2}\n",
    "])\n",
    "cart_transformer.update_df(sample_cart, mode=\"overwrite\")\n",
    "\n",
    "# Test: Read back\n",
    "print(cart_transformer.read())\n"
   ]
  },
  {
   "cell_type": "markdown",
   "id": "41680f9b",
   "metadata": {},
   "source": [
    "# **Business logic - Helper functions**\n",
    "- These functions after matured will go into the respective transformer classes. "
   ]
  },
  {
   "cell_type": "code",
   "execution_count": null,
   "id": "9933a255",
   "metadata": {},
   "outputs": [],
   "source": [
    "def getRandomPids():\n",
    "    products = product_transformer.read()\n",
    "\n",
    "    selected_products = random.sample(products[C.pid].to_list(), k=3)\n",
    "    print(\"Selected Products:\", selected_products)\n",
    "    return selected_products\n",
    "\n",
    "def addToCart(spids, uid, cid):\n",
    "    cart = cart_transformer.read()\n",
    "    products = product_transformer.read(spids)\n",
    "\n",
    "    records = [{C.cid: cid, C.qnt: random.randint(1, 5),C.usrid: uid, C.pid: id} for id in spids]\n",
    "    cart = pd.DataFrame.from_records(records)\n",
    "    cart_transformer.create(cart)\n",
    "    return\n",
    "\n",
    "def checkout_with_discount(uid, cid, did):\n",
    "    cart     =  cart_transformer.read([cid])\n",
    "    ps  =  product_transformer.read(cart[C.pid].to_list())\n",
    "\n",
    "    # Compute total price for the cart\n",
    "    total = ps[C.mrp].sum() * cart[C.qnt].sum()\n",
    "    prcid = uid + \"_\" + cid  # Purchase ID based on user and cart ID\n",
    "    print ( \"Total price for cart\", cid, \"is\", total)\n",
    "    # Checkout with discount\n",
    "    discount  =  discount_transformer.read([did])\n",
    "    if not discount.empty:\n",
    "        total -= total * (discount[C.dpct].values[0] / 100)\n",
    "    else:\n",
    "        print(f\"Discount {did} not found, aborting checkout. total value = \", total)\n",
    "        return \n",
    "    purchase_entry = [{\n",
    "        C.prcid: prcid,\n",
    "        C.cid: cid,\n",
    "        C.tamt: total,\n",
    "        C.did: did\n",
    "    }]\n",
    "    purchase_transformer.create(pd.DataFrame.from_records(purchase_entry))\n",
    "    discount_transformer.update({C.did: did, C.dst: 1})\n",
    "    return\n",
    "\n",
    "def checkout_without_discount(uid, cid, did, discode, dpct):\n",
    "    cart      =  cart_transformer.read([cid])\n",
    "    ps  =  product_transformer.read(cart[C.pid].to_list())\n",
    "\n",
    "    # Compute total price for the cart\n",
    "    total = ps[C.mrp].sum() * cart[C.qnt].sum()\n",
    "    prcid = uid + \"_\" + cid  # Purchase ID based on user and cart ID\n",
    "    print(\"Total price for cart\", cid, \"is\", total)\n",
    "    # Checkout with discount\n",
    "    purchase_entry = [{\n",
    "        C.prcid: prcid,\n",
    "        C.cid: cid,\n",
    "        C.tamt: total,\n",
    "        C.did: did\n",
    "    }]\n",
    "\n",
    "    purchase_transformer.create(pd.DataFrame.from_records(purchase_entry))\n",
    "\n",
    "    discount_entry = [{\n",
    "        C.did: did,\n",
    "        C.usrid: uid,\n",
    "        C.dcode: discode,\n",
    "        C.dpct: dpct,\n",
    "        C.dst: 0\n",
    "    }]\n",
    "    discount_transformer.create(pd.DataFrame.from_records(discount_entry))\n",
    "    return"
   ]
  },
  {
   "cell_type": "markdown",
   "id": "c5835ff7",
   "metadata": {},
   "source": [
    "# **Admin APIs**"
   ]
  },
  {
   "cell_type": "code",
   "execution_count": 10,
   "id": "0348b121",
   "metadata": {},
   "outputs": [
    {
     "name": "stdout",
     "output_type": "stream",
     "text": [
      "     PaymentID   CartID  TotalAmount DiscountID\n",
      "0  CART684_574  CART684       772.92      DR351\n",
      "1  CART735_728  CART735       972.00      FD535\n",
      "  DiscountID UserID DiscountCode  DiscountPercent  DiscountStatus\n",
      "0      DR351    574     SAVE3994                9               0\n",
      "1      FD535    728     SAVE7531               10               0\n"
     ]
    }
   ],
   "source": [
    "def getPurchases():\n",
    "    purchases = purchase_transformer.read()\n",
    "    print(purchases) \n",
    "\n",
    "def getDiscounts():\n",
    "    discounts = discount_transformer.read()\n",
    "    print( discounts )\n",
    "\n",
    "getPurchases()\n",
    "getDiscounts()"
   ]
  },
  {
   "cell_type": "markdown",
   "id": "18fad772",
   "metadata": {},
   "source": [
    "# **Use cases 1 - Buy products**"
   ]
  },
  {
   "cell_type": "code",
   "execution_count": 15,
   "id": "0e8c537e",
   "metadata": {},
   "outputs": [
    {
     "name": "stdout",
     "output_type": "stream",
     "text": [
      "Selected Products: ['FD7839', 'DR7979', 'DR2699']\n",
      "Selected \n",
      " ['FD7839', 'DR7979', 'DR2699']\n",
      "Cart created and products added. \n",
      "\n",
      "     CartID ProductID  Quantity UserID\n",
      "11  CART694    FD7839         4    563\n",
      "12  CART694    DR7979         5    563\n",
      "13  CART694    DR2699         3    563\n",
      "Total price for cart CART694 is 6430.32\n",
      "     PaymentID   CartID  TotalAmount DiscountID\n",
      "5  563_CART694  CART694      6430.32      NC989\n"
     ]
    },
    {
     "data": {
      "text/html": [
       "<div>\n",
       "<style scoped>\n",
       "    .dataframe tbody tr th:only-of-type {\n",
       "        vertical-align: middle;\n",
       "    }\n",
       "\n",
       "    .dataframe tbody tr th {\n",
       "        vertical-align: top;\n",
       "    }\n",
       "\n",
       "    .dataframe thead th {\n",
       "        text-align: right;\n",
       "    }\n",
       "</style>\n",
       "<table border=\"1\" class=\"dataframe\">\n",
       "  <thead>\n",
       "    <tr style=\"text-align: right;\">\n",
       "      <th></th>\n",
       "      <th>DiscountID</th>\n",
       "      <th>UserID</th>\n",
       "      <th>DiscountCode</th>\n",
       "      <th>DiscountPercent</th>\n",
       "      <th>DiscountStatus</th>\n",
       "    </tr>\n",
       "  </thead>\n",
       "  <tbody>\n",
       "    <tr>\n",
       "      <th>5</th>\n",
       "      <td>NC989</td>\n",
       "      <td>563</td>\n",
       "      <td>SAVE8682</td>\n",
       "      <td>10</td>\n",
       "      <td>0</td>\n",
       "    </tr>\n",
       "  </tbody>\n",
       "</table>\n",
       "</div>"
      ],
      "text/plain": [
       "  DiscountID UserID DiscountCode  DiscountPercent  DiscountStatus\n",
       "5      NC989    563     SAVE8682               10               0"
      ]
     },
     "execution_count": 15,
     "metadata": {},
     "output_type": "execute_result"
    }
   ],
   "source": [
    "# Create a random data\n",
    "cid = \"CART\" + str(random.randint(100, 999))  # Generate a random cart ID\n",
    "user_id = str(random.randint(100, 999))\n",
    "discode = [ \"NEW\", \"SAVE\", \"FESTIVE\"][random.randint(0, 2)] + str(random.randint(1000, 9999))\n",
    "did = [\"FD\",\"NC\",\"DR\"][random.randint(0,2)] + str(random.randint(100, 999))\n",
    "dpct = random.randint(5, 10)\n",
    "\n",
    "# Business logic using Helper functions\n",
    "sps = getRandomPids()\n",
    "print(\"Selected \\n\", sps)\n",
    "\n",
    "addToCart(sps, user_id, cid)\n",
    "print(\"Cart created and products added. \\n\")\n",
    "cart = cart_transformer.read([cid])\n",
    "print(cart)\n",
    "\n",
    "checkout_without_discount(user_id, cid, did, discode, dpct)\n",
    "print ( purchase_transformer.read([user_id+\"_\"+cid]) )\n",
    "\n",
    "discounts = discount_transformer.read([did])\n",
    "discounts"
   ]
  },
  {
   "cell_type": "markdown",
   "id": "dc938b3d",
   "metadata": {},
   "source": [
    "# **Use cases 2 - Buy products with discount**"
   ]
  },
  {
   "cell_type": "code",
   "execution_count": 18,
   "id": "9cf3a716",
   "metadata": {},
   "outputs": [
    {
     "name": "stdout",
     "output_type": "stream",
     "text": [
      "Selected Products: ['DR7979', 'NC2661', 'FD6114']\n",
      "Selected \n",
      " ['DR7979', 'NC2661', 'FD6114']\n",
      "Cart created and products added. \n",
      "\n",
      "     CartID ProductID  Quantity UserID\n",
      "17  CART389    DR7979         5    922\n",
      "18  CART389    NC2661         2    922\n",
      "19  CART389    FD6114         2    922\n",
      "Total price for cart CART389 is 4034.34\n"
     ]
    },
    {
     "ename": "NameError",
     "evalue": "name 'disccount_transformer' is not defined",
     "output_type": "error",
     "traceback": [
      "\u001b[31m---------------------------------------------------------------------------\u001b[39m",
      "\u001b[31mNameError\u001b[39m                                 Traceback (most recent call last)",
      "\u001b[36mCell\u001b[39m\u001b[36m \u001b[39m\u001b[32mIn[18]\u001b[39m\u001b[32m, line 14\u001b[39m\n\u001b[32m     11\u001b[39m cart = cart_transformer.read([cid])\n\u001b[32m     12\u001b[39m \u001b[38;5;28mprint\u001b[39m(cart)\n\u001b[32m---> \u001b[39m\u001b[32m14\u001b[39m \u001b[43mcheckout_with_discount\u001b[49m\u001b[43m(\u001b[49m\u001b[43muser_id\u001b[49m\u001b[43m,\u001b[49m\u001b[43m \u001b[49m\u001b[43mcid\u001b[49m\u001b[43m,\u001b[49m\u001b[43m \u001b[49m\u001b[43mdid\u001b[49m\u001b[43m)\u001b[49m\n\u001b[32m     15\u001b[39m \u001b[38;5;28mprint\u001b[39m ( purchase_transformer.read([user_id+\u001b[33m\"\u001b[39m\u001b[33m_\u001b[39m\u001b[33m\"\u001b[39m+cid]) )\n\u001b[32m     17\u001b[39m discounts = discount_transformer.read([did])\n",
      "\u001b[36mCell\u001b[39m\u001b[36m \u001b[39m\u001b[32mIn[17]\u001b[39m\u001b[32m, line 39\u001b[39m, in \u001b[36mcheckout_with_discount\u001b[39m\u001b[34m(uid, cid, did)\u001b[39m\n\u001b[32m     32\u001b[39m purchase_entry = [{\n\u001b[32m     33\u001b[39m     C.prcid: prcid,\n\u001b[32m     34\u001b[39m     C.cid: cid,\n\u001b[32m     35\u001b[39m     C.tamt: total,\n\u001b[32m     36\u001b[39m     C.did: did\n\u001b[32m     37\u001b[39m }]\n\u001b[32m     38\u001b[39m purchase_transformer.create(pd.DataFrame.from_records(purchase_entry))\n\u001b[32m---> \u001b[39m\u001b[32m39\u001b[39m \u001b[43mdisccount_transformer\u001b[49m.update({C.did: did, C.dst: \u001b[32m1\u001b[39m})\n\u001b[32m     40\u001b[39m \u001b[38;5;28;01mreturn\u001b[39;00m\n",
      "\u001b[31mNameError\u001b[39m: name 'disccount_transformer' is not defined"
     ]
    }
   ],
   "source": [
    "# Create a random data\n",
    "cid = \"CART\" + str(random.randint(100, 999))  # Generate a random cart ID\n",
    "user_id = str( random.randint(100, 999) )\n",
    "\n",
    "# Business logic using Helper functions\n",
    "sps = getRandomPids()\n",
    "print(\"Selected \\n\", sps)\n",
    "\n",
    "addToCart(sps, user_id, cid)\n",
    "print(\"Cart created and products added. \\n\")\n",
    "cart = cart_transformer.read([cid])\n",
    "print(cart)\n",
    "\n",
    "checkout_with_discount(user_id, cid, did)\n",
    "print ( purchase_transformer.read([user_id+\"_\"+cid]) )\n",
    "\n",
    "discounts = discount_transformer.read([did])\n",
    "discounts"
   ]
  }
 ],
 "metadata": {
  "kernelspec": {
   "display_name": "Python 3",
   "language": "python",
   "name": "python3"
  },
  "language_info": {
   "codemirror_mode": {
    "name": "ipython",
    "version": 3
   },
   "file_extension": ".py",
   "mimetype": "text/x-python",
   "name": "python",
   "nbconvert_exporter": "python",
   "pygments_lexer": "ipython3",
   "version": "3.13.2"
  }
 },
 "nbformat": 4,
 "nbformat_minor": 5
}
