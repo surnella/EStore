{
 "cells": [
  {
   "cell_type": "code",
   "execution_count": 1,
   "id": "f13304f4",
   "metadata": {},
   "outputs": [],
   "source": [
    "%load_ext autoreload\n",
    "%autoreload 2"
   ]
  },
  {
   "cell_type": "code",
   "execution_count": 2,
   "id": "e2daa7ec",
   "metadata": {},
   "outputs": [],
   "source": [
    "import os\n",
    "import pandas as pd\n",
    "import src.constants as C\n"
   ]
  },
  {
   "cell_type": "code",
   "execution_count": 3,
   "id": "ac5a6152",
   "metadata": {},
   "outputs": [
    {
     "name": "stdout",
     "output_type": "stream",
     "text": [
      "    def transform(self, X=None):\n",
      "        \"\"\"Return current dataframe for pipeline usage.\"\"\"\n",
      "        print(\"Base Transformer transform invoked\")\n",
      "        if self.data is None:\n",
      "            self.fit()\n",
      "        return self.data.copy()\n",
      "\n"
     ]
    }
   ],
   "source": [
    "from src.base_transformer import BaseDBTransformer\n",
    "import inspect\n",
    "print(inspect.getsource(BaseDBTransformer.transform))\n"
   ]
  },
  {
   "cell_type": "code",
   "execution_count": 4,
   "id": "689282d6",
   "metadata": {},
   "outputs": [],
   "source": [
    "# 1. Import the modules first (so Python knows them)\n",
    "import importlib\n",
    "import src.product_transformer\n",
    "import src.cart_transformer\n",
    "import src.purchase_transformer\n",
    "import src.discount_transformer\n",
    "import src.constants\n",
    "\n",
    "# 2. Reload them (useful after edits)\n",
    "importlib.reload(src.product_transformer)\n",
    "importlib.reload(src.cart_transformer)\n",
    "importlib.reload(src.purchase_transformer)\n",
    "importlib.reload(src.discount_transformer)\n",
    "importlib.reload(src.constants)\n",
    "\n",
    "# 3. Import the classes fresh from the reloaded modules\n",
    "from src.product_transformer import ProductTransformer\n",
    "from src.cart_transformer import CartTransformer\n",
    "from src.purchase_transformer import PurchaseTransformer\n",
    "from src.discount_transformer import DiscountTransformer\n",
    "import src.constants"
   ]
  },
  {
   "cell_type": "code",
   "execution_count": 5,
   "id": "02096d4f",
   "metadata": {},
   "outputs": [
    {
     "name": "stdout",
     "output_type": "stream",
     "text": [
      "Base DB Object Transformer invoked with file path: data\\products.csv\n"
     ]
    }
   ],
   "source": [
    "product_transformer = ProductTransformer(file_path=\"data/products.csv\")"
   ]
  },
  {
   "cell_type": "code",
   "execution_count": 6,
   "id": "6e42dcb4",
   "metadata": {},
   "outputs": [
    {
     "name": "stdout",
     "output_type": "stream",
     "text": [
      "[<class 'src.product_transformer.ProductTransformer'>, <class 'src.base_transformer.BaseDBTransformer'>, <class 'object'>]\n",
      "<bound method BaseDBTransformer.transform of <src.product_transformer.ProductTransformer object at 0x0000021FBC19F4D0>>\n",
      "<function BaseDBTransformer.transform at 0x0000021FBC2ADB20>\n"
     ]
    }
   ],
   "source": [
    "print(product_transformer.__class__.mro())       # confirm resolution order\n",
    "print(product_transformer.transform)            # which function object is bound?\n",
    "print(product_transformer.transform.__func__)   # unbound function, shows true owner\n"
   ]
  },
  {
   "cell_type": "code",
   "execution_count": 7,
   "id": "5f4e8de9",
   "metadata": {},
   "outputs": [
    {
     "name": "stdout",
     "output_type": "stream",
     "text": [
      "Base Transformer transform invoked\n",
      "Base Transformer fit invoked\n"
     ]
    },
    {
     "data": {
      "text/html": [
       "<div>\n",
       "<style scoped>\n",
       "    .dataframe tbody tr th:only-of-type {\n",
       "        vertical-align: middle;\n",
       "    }\n",
       "\n",
       "    .dataframe tbody tr th {\n",
       "        vertical-align: top;\n",
       "    }\n",
       "\n",
       "    .dataframe thead th {\n",
       "        text-align: right;\n",
       "    }\n",
       "</style>\n",
       "<table border=\"1\" class=\"dataframe\">\n",
       "  <thead>\n",
       "    <tr style=\"text-align: right;\">\n",
       "      <th></th>\n",
       "      <th>ProductID</th>\n",
       "      <th>ProductType</th>\n",
       "      <th>ProductName</th>\n",
       "      <th>SugarContent</th>\n",
       "      <th>Weight</th>\n",
       "      <th>Area</th>\n",
       "      <th>MRP</th>\n",
       "    </tr>\n",
       "  </thead>\n",
       "  <tbody>\n",
       "    <tr>\n",
       "      <th>0</th>\n",
       "      <td>FD6114</td>\n",
       "      <td>Frozen Foods</td>\n",
       "      <td>French Fries</td>\n",
       "      <td>Low Sugar</td>\n",
       "      <td>12.66</td>\n",
       "      <td>0.027</td>\n",
       "      <td>117.08</td>\n",
       "    </tr>\n",
       "    <tr>\n",
       "      <th>1</th>\n",
       "      <td>FD7839</td>\n",
       "      <td>Dairy</td>\n",
       "      <td>Shrikand</td>\n",
       "      <td>Regular</td>\n",
       "      <td>16.54</td>\n",
       "      <td>0.144</td>\n",
       "      <td>171.43</td>\n",
       "    </tr>\n",
       "    <tr>\n",
       "      <th>2</th>\n",
       "      <td>NC1180</td>\n",
       "      <td>Health and Hygiene</td>\n",
       "      <td>Tissue Rolls</td>\n",
       "      <td>No Sugar</td>\n",
       "      <td>9.57</td>\n",
       "      <td>0.010</td>\n",
       "      <td>123.67</td>\n",
       "    </tr>\n",
       "    <tr>\n",
       "      <th>3</th>\n",
       "      <td>NC5885</td>\n",
       "      <td>Household</td>\n",
       "      <td>Screws</td>\n",
       "      <td>No Sugar</td>\n",
       "      <td>12.94</td>\n",
       "      <td>0.286</td>\n",
       "      <td>194.75</td>\n",
       "    </tr>\n",
       "    <tr>\n",
       "      <th>4</th>\n",
       "      <td>DR2699</td>\n",
       "      <td>Hard Drinks</td>\n",
       "      <td>Chivas Regal</td>\n",
       "      <td>Low Sugar</td>\n",
       "      <td>10.64</td>\n",
       "      <td>0.020</td>\n",
       "      <td>165.99</td>\n",
       "    </tr>\n",
       "    <tr>\n",
       "      <th>5</th>\n",
       "      <td>DR7979</td>\n",
       "      <td>Soft Drinks</td>\n",
       "      <td>Getorade</td>\n",
       "      <td>Low Sugar</td>\n",
       "      <td>16.14</td>\n",
       "      <td>0.112</td>\n",
       "      <td>198.44</td>\n",
       "    </tr>\n",
       "    <tr>\n",
       "      <th>6</th>\n",
       "      <td>NC2661</td>\n",
       "      <td>Health and Hygiene</td>\n",
       "      <td>Harpik Lizol pack</td>\n",
       "      <td>No Sugar</td>\n",
       "      <td>12.11</td>\n",
       "      <td>0.079</td>\n",
       "      <td>132.74</td>\n",
       "    </tr>\n",
       "    <tr>\n",
       "      <th>7</th>\n",
       "      <td>FD8358</td>\n",
       "      <td>Baking Goods</td>\n",
       "      <td>Theobroma Sourdough</td>\n",
       "      <td>Regular</td>\n",
       "      <td>14.83</td>\n",
       "      <td>0.148</td>\n",
       "      <td>181.27</td>\n",
       "    </tr>\n",
       "    <tr>\n",
       "      <th>8</th>\n",
       "      <td>DR7064</td>\n",
       "      <td>Soft Drinks</td>\n",
       "      <td>Maaza</td>\n",
       "      <td>Regular</td>\n",
       "      <td>11.73</td>\n",
       "      <td>0.048</td>\n",
       "      <td>122.21</td>\n",
       "    </tr>\n",
       "  </tbody>\n",
       "</table>\n",
       "</div>"
      ],
      "text/plain": [
       "  ProductID         ProductType          ProductName SugarContent  Weight  \\\n",
       "0    FD6114        Frozen Foods         French Fries    Low Sugar   12.66   \n",
       "1    FD7839               Dairy             Shrikand      Regular   16.54   \n",
       "2    NC1180  Health and Hygiene         Tissue Rolls     No Sugar    9.57   \n",
       "3    NC5885           Household               Screws     No Sugar   12.94   \n",
       "4    DR2699         Hard Drinks         Chivas Regal    Low Sugar   10.64   \n",
       "5    DR7979         Soft Drinks             Getorade    Low Sugar   16.14   \n",
       "6    NC2661  Health and Hygiene    Harpik Lizol pack     No Sugar   12.11   \n",
       "7    FD8358        Baking Goods  Theobroma Sourdough      Regular   14.83   \n",
       "8    DR7064         Soft Drinks                Maaza      Regular   11.73   \n",
       "\n",
       "    Area     MRP  \n",
       "0  0.027  117.08  \n",
       "1  0.144  171.43  \n",
       "2  0.010  123.67  \n",
       "3  0.286  194.75  \n",
       "4  0.020  165.99  \n",
       "5  0.112  198.44  \n",
       "6  0.079  132.74  \n",
       "7  0.148  181.27  \n",
       "8  0.048  122.21  "
      ]
     },
     "execution_count": 7,
     "metadata": {},
     "output_type": "execute_result"
    }
   ],
   "source": [
    "product_transformer.transform()  "
   ]
  },
  {
   "cell_type": "code",
   "execution_count": 8,
   "id": "fbfa70cc",
   "metadata": {},
   "outputs": [],
   "source": [
    "# print(product_transformer.create({C.pid: \"FD6431\", C.ptyp: \"Fruit and Vegetables\", C.sc: \"Regular\", C.wt: 10.57, C.area: 0.11, C.mrp: 143.36}))\n",
    "# print(product_transformer.read())"
   ]
  },
  {
   "cell_type": "code",
   "execution_count": 9,
   "id": "2118b0c2",
   "metadata": {},
   "outputs": [
    {
     "name": "stdout",
     "output_type": "stream",
     "text": [
      "Base DB Object Transformer invoked with file path: data\\discounts.csv\n",
      "Base Transformer update invoked with mode = overwrite\n",
      "Base Transformer fit invoked\n",
      "Discount Transformer read invoked discount id = None\n",
      "Base Transformer transform invoked\n",
      "Before delete   DiscountID UserID DiscountCode  DiscountPercent  DiscountStatus\n",
      "0      FD101    101        NEW10               10               0\n",
      "1      NC102    102       SAVE20               20               0\n",
      "Discount Transformer delete invoked discount id = Dummy\n",
      "Base Transformer transform invoked\n",
      "Base Transformer save invoked\n",
      "Discount Transformer read invoked discount id = None\n",
      "Base Transformer transform invoked\n",
      "After delete   DiscountID UserID DiscountCode  DiscountPercent  DiscountStatus\n",
      "0      FD101    101        NEW10               10               0\n",
      "1      NC102    102       SAVE20               20               0\n"
     ]
    }
   ],
   "source": [
    "\n",
    "# Initialize\n",
    "discount_csv = \"data/discounts.csv\"\n",
    "discount_transformer = DiscountTransformer(file_path=discount_csv)\n",
    "\n",
    "# Test: Write sample data\n",
    "sample_discounts = pd.DataFrame([\n",
    "    {C.did: \"FD101\", C.usrid: \"101\", C.dcode: \"NEW10\", C.dpct: 10, C.dst: 0},\n",
    "    {C.did: \"NC102\", C.usrid: \"102\", C.dcode: \"SAVE20\", C.dpct: 20, C.dst: 0}\n",
    "])\n",
    "discount_transformer.update_df(sample_discounts, mode=\"overwrite\")\n",
    "\n",
    "# Test: Read back\n",
    "print(\"Before delete\", discount_transformer.read())\n",
    "\n",
    "discount_transformer.delete(\"Dummy\")\n",
    "\n",
    "print(\"After delete\", discount_transformer.read())\n",
    "\n",
    "\n",
    "# Test: CRUD ops\n",
    "# print(discount_transformer.create({\"discount_id\": 3, \"user_id\": 103, \"code\": \"FESTIVE30\", \"percent\": 30}))\n",
    "# print(discount_transformer.read())\n"
   ]
  },
  {
   "cell_type": "code",
   "execution_count": 10,
   "id": "3f36b11f",
   "metadata": {},
   "outputs": [
    {
     "name": "stdout",
     "output_type": "stream",
     "text": [
      "[<class 'src.discount_transformer.DiscountTransformer'>, <class 'src.base_transformer.BaseDBTransformer'>, <class 'object'>]\n",
      "<bound method DiscountTransformer.create of <src.discount_transformer.DiscountTransformer object at 0x0000021FBC2E0AD0>>\n",
      "<function DiscountTransformer.create at 0x0000021FBC2AF7E0>\n"
     ]
    }
   ],
   "source": [
    "print(discount_transformer.__class__.mro())       # confirm resolution order\n",
    "print(discount_transformer.create)            # which function object is bound?\n",
    "print(discount_transformer.create.__func__)   # unbound function, shows true owner"
   ]
  },
  {
   "cell_type": "code",
   "execution_count": 13,
   "id": "c0582982",
   "metadata": {},
   "outputs": [
    {
     "name": "stdout",
     "output_type": "stream",
     "text": [
      "Base DB Object Transformer invoked with file path: data\\purchases.csv\n",
      "Base Transformer update invoked with mode = overwrite\n",
      "Base Transformer fit invoked\n",
      "Purchase Transformer read invoked purchase id = None\n",
      "Base Transformer transform invoked\n",
      "  PaymentID   CartID  TotalAmount DiscountID\n",
      "0    PRC101  CART101       772.92      FD101\n",
      "1    PRC102  CART102       972.00      NC102\n"
     ]
    }
   ],
   "source": [
    "# Initialize\n",
    "purchase_csv = \"data/purchases.csv\"\n",
    "purchase_transformer = PurchaseTransformer(file_path=purchase_csv)\n",
    "\n",
    "# Test: Write sample data\n",
    "sample_purchases = pd.DataFrame([\n",
    "    {C.prcid: \"PRC101\", C.cid: \"CART101\", C.tamt: 772.92, C.did: \"FD101\"},\n",
    "    {C.prcid: \"PRC102\", C.cid: \"CART102\", C.tamt: 972.00, C.did: \"NC102\"}\n",
    "])\n",
    "purchase_transformer.update_df(sample_purchases, mode=\"overwrite\")\n",
    "\n",
    "# Test: Read back\n",
    "print(purchase_transformer.read())"
   ]
  },
  {
   "cell_type": "code",
   "execution_count": 14,
   "id": "ba0ed188",
   "metadata": {},
   "outputs": [
    {
     "name": "stdout",
     "output_type": "stream",
     "text": [
      "[<class 'src.purchase_transformer.PurchaseTransformer'>, <class 'src.base_transformer.BaseDBTransformer'>, <class 'object'>]\n",
      "<bound method PurchaseTransformer.create of <src.purchase_transformer.PurchaseTransformer object at 0x0000021FBC25E0D0>>\n",
      "<function PurchaseTransformer.create at 0x0000021FBC2AE020>\n",
      "    def create(self, *args, **kwargs):\n",
      "        if len(args) == 1 and isinstance(args[0], pd.DataFrame):\n",
      "            return super().create(args[0])\n",
      "        elif len(args) > 1:\n",
      "            purchase_id, cart_id, discount_id, total_amount = args\n",
      "            new_row = pd.DataFrame([{\n",
      "                C.prcid: purchase_id,\n",
      "                C.crtid: cart_id,\n",
      "                C.did: discount_id,\n",
      "                C.tamt: total_amount\n",
      "                }])\n",
      "            return super().create(new_row)\n",
      "        else:\n",
      "            raise ValueError(\"Invalid arguments to create()\")\n",
      "\n"
     ]
    }
   ],
   "source": [
    "print(purchase_transformer.__class__.mro())       # confirm resolution order\n",
    "print(purchase_transformer.create)            # which function object is bound?\n",
    "print(purchase_transformer.create.__func__)   # unbound function, shows true owner\n",
    "\n",
    "import inspect\n",
    "print(inspect.getsource(purchase_transformer.create))\n"
   ]
  },
  {
   "cell_type": "code",
   "execution_count": 17,
   "id": "5ecdc8ea",
   "metadata": {},
   "outputs": [
    {
     "name": "stdout",
     "output_type": "stream",
     "text": [
      "Base DB Object Transformer invoked with file path: data\\carts.csv\n"
     ]
    },
    {
     "ename": "TypeError",
     "evalue": "CartTransformer.create() missing 3 required positional arguments: 'product_id', 'quantity', and 'usrid'",
     "output_type": "error",
     "traceback": [
      "\u001b[31m---------------------------------------------------------------------------\u001b[39m",
      "\u001b[31mTypeError\u001b[39m                                 Traceback (most recent call last)",
      "\u001b[36mCell\u001b[39m\u001b[36m \u001b[39m\u001b[32mIn[17]\u001b[39m\u001b[32m, line 10\u001b[39m\n\u001b[32m      5\u001b[39m \u001b[38;5;66;03m# Test: Write sample data\u001b[39;00m\n\u001b[32m      6\u001b[39m sample_cart = pd.DataFrame([\n\u001b[32m      7\u001b[39m     {C.cid: \u001b[33m\"\u001b[39m\u001b[33mCART101\u001b[39m\u001b[33m\"\u001b[39m , C.usrid: \u001b[33m\"\u001b[39m\u001b[33m101\u001b[39m\u001b[33m\"\u001b[39m, C.pid: \u001b[33m\"\u001b[39m\u001b[33mFD7839\u001b[39m\u001b[33m\"\u001b[39m, C.qnt: \u001b[32m4\u001b[39m},\n\u001b[32m      8\u001b[39m     {C.cid: \u001b[33m\"\u001b[39m\u001b[33mCART102\u001b[39m\u001b[33m\"\u001b[39m , C.usrid: \u001b[33m\"\u001b[39m\u001b[33m102\u001b[39m\u001b[33m\"\u001b[39m, C.pid: \u001b[33m\"\u001b[39m\u001b[33mDR7979\u001b[39m\u001b[33m\"\u001b[39m, C.qnt: \u001b[32m2\u001b[39m}\n\u001b[32m      9\u001b[39m ])\n\u001b[32m---> \u001b[39m\u001b[32m10\u001b[39m \u001b[43mcart_transformer\u001b[49m\u001b[43m.\u001b[49m\u001b[43mcreate\u001b[49m\u001b[43m(\u001b[49m\u001b[43msample_cart\u001b[49m\u001b[43m)\u001b[49m\n\u001b[32m     12\u001b[39m \u001b[38;5;66;03m# Test: Read back\u001b[39;00m\n\u001b[32m     13\u001b[39m \u001b[38;5;28mprint\u001b[39m(cart_transformer.read())\n",
      "\u001b[31mTypeError\u001b[39m: CartTransformer.create() missing 3 required positional arguments: 'product_id', 'quantity', and 'usrid'"
     ]
    }
   ],
   "source": [
    "# Initialize\n",
    "cart_csv = \"data/carts.csv\"\n",
    "cart_transformer = CartTransformer(file_path=cart_csv)\n",
    "\n",
    "# Test: Write sample data\n",
    "sample_cart = pd.DataFrame([\n",
    "    {C.cid: \"CART101\" , C.usrid: \"101\", C.pid: \"FD7839\", C.qnt: 4},\n",
    "    {C.cid: \"CART102\" , C.usrid: \"102\", C.pid: \"DR7979\", C.qnt: 2}\n",
    "])\n",
    "cart_transformer.create(sample_cart)\n",
    "\n",
    "# Test: Read back\n",
    "print(cart_transformer.read())\n"
   ]
  },
  {
   "cell_type": "code",
   "execution_count": 20,
   "id": "8870ad96",
   "metadata": {},
   "outputs": [
    {
     "name": "stdout",
     "output_type": "stream",
     "text": [
      "[<class 'src.cart_transformer.CartTransformer'>, <class 'src.base_transformer.BaseDBTransformer'>, <class 'object'>]\n",
      "<bound method CartTransformer.create of <src.cart_transformer.CartTransformer object at 0x0000021FBC25F250>>\n",
      "<function CartTransformer.create at 0x0000021FBC2AF240>\n"
     ]
    },
    {
     "ename": "OSError",
     "evalue": "could not get source code",
     "output_type": "error",
     "traceback": [
      "\u001b[31m---------------------------------------------------------------------------\u001b[39m",
      "\u001b[31mOSError\u001b[39m                                   Traceback (most recent call last)",
      "\u001b[36mCell\u001b[39m\u001b[36m \u001b[39m\u001b[32mIn[20]\u001b[39m\u001b[32m, line 6\u001b[39m\n\u001b[32m      3\u001b[39m \u001b[38;5;28mprint\u001b[39m(cart_transformer.create.\u001b[34m__func__\u001b[39m)   \u001b[38;5;66;03m# unbound function, shows true owner\u001b[39;00m\n\u001b[32m      5\u001b[39m \u001b[38;5;28;01mimport\u001b[39;00m\u001b[38;5;250m \u001b[39m\u001b[34;01minspect\u001b[39;00m\n\u001b[32m----> \u001b[39m\u001b[32m6\u001b[39m \u001b[38;5;28mprint\u001b[39m(\u001b[43minspect\u001b[49m\u001b[43m.\u001b[49m\u001b[43mgetsource\u001b[49m\u001b[43m(\u001b[49m\u001b[43mcart_transformer\u001b[49m\u001b[43m.\u001b[49m\u001b[43mcreate\u001b[49m\u001b[43m)\u001b[49m)\n",
      "\u001b[36mFile \u001b[39m\u001b[32mc:\\Users\\surne\\AppData\\Local\\Programs\\Python\\Python313\\Lib\\inspect.py:1256\u001b[39m, in \u001b[36mgetsource\u001b[39m\u001b[34m(object)\u001b[39m\n\u001b[32m   1250\u001b[39m \u001b[38;5;28;01mdef\u001b[39;00m\u001b[38;5;250m \u001b[39m\u001b[34mgetsource\u001b[39m(\u001b[38;5;28mobject\u001b[39m):\n\u001b[32m   1251\u001b[39m \u001b[38;5;250m    \u001b[39m\u001b[33;03m\"\"\"Return the text of the source code for an object.\u001b[39;00m\n\u001b[32m   1252\u001b[39m \n\u001b[32m   1253\u001b[39m \u001b[33;03m    The argument may be a module, class, method, function, traceback, frame,\u001b[39;00m\n\u001b[32m   1254\u001b[39m \u001b[33;03m    or code object.  The source code is returned as a single string.  An\u001b[39;00m\n\u001b[32m   1255\u001b[39m \u001b[33;03m    OSError is raised if the source code cannot be retrieved.\"\"\"\u001b[39;00m\n\u001b[32m-> \u001b[39m\u001b[32m1256\u001b[39m     lines, lnum = \u001b[43mgetsourcelines\u001b[49m\u001b[43m(\u001b[49m\u001b[38;5;28;43mobject\u001b[39;49m\u001b[43m)\u001b[49m\n\u001b[32m   1257\u001b[39m     \u001b[38;5;28;01mreturn\u001b[39;00m \u001b[33m'\u001b[39m\u001b[33m'\u001b[39m.join(lines)\n",
      "\u001b[36mFile \u001b[39m\u001b[32mc:\\Users\\surne\\AppData\\Local\\Programs\\Python\\Python313\\Lib\\inspect.py:1238\u001b[39m, in \u001b[36mgetsourcelines\u001b[39m\u001b[34m(object)\u001b[39m\n\u001b[32m   1230\u001b[39m \u001b[38;5;250m\u001b[39m\u001b[33;03m\"\"\"Return a list of source lines and starting line number for an object.\u001b[39;00m\n\u001b[32m   1231\u001b[39m \n\u001b[32m   1232\u001b[39m \u001b[33;03mThe argument may be a module, class, method, function, traceback, frame,\u001b[39;00m\n\u001b[32m   (...)\u001b[39m\u001b[32m   1235\u001b[39m \u001b[33;03moriginal source file the first line of code was found.  An OSError is\u001b[39;00m\n\u001b[32m   1236\u001b[39m \u001b[33;03mraised if the source code cannot be retrieved.\"\"\"\u001b[39;00m\n\u001b[32m   1237\u001b[39m \u001b[38;5;28mobject\u001b[39m = unwrap(\u001b[38;5;28mobject\u001b[39m)\n\u001b[32m-> \u001b[39m\u001b[32m1238\u001b[39m lines, lnum = \u001b[43mfindsource\u001b[49m\u001b[43m(\u001b[49m\u001b[38;5;28;43mobject\u001b[39;49m\u001b[43m)\u001b[49m\n\u001b[32m   1240\u001b[39m \u001b[38;5;28;01mif\u001b[39;00m istraceback(\u001b[38;5;28mobject\u001b[39m):\n\u001b[32m   1241\u001b[39m     \u001b[38;5;28mobject\u001b[39m = \u001b[38;5;28mobject\u001b[39m.tb_frame\n",
      "\u001b[36mFile \u001b[39m\u001b[32mc:\\Users\\surne\\AppData\\Local\\Programs\\Python\\Python313\\Lib\\inspect.py:1078\u001b[39m, in \u001b[36mfindsource\u001b[39m\u001b[34m(object)\u001b[39m\n\u001b[32m   1076\u001b[39m     lines = linecache.getlines(file)\n\u001b[32m   1077\u001b[39m \u001b[38;5;28;01mif\u001b[39;00m \u001b[38;5;129;01mnot\u001b[39;00m lines:\n\u001b[32m-> \u001b[39m\u001b[32m1078\u001b[39m     \u001b[38;5;28;01mraise\u001b[39;00m \u001b[38;5;167;01mOSError\u001b[39;00m(\u001b[33m'\u001b[39m\u001b[33mcould not get source code\u001b[39m\u001b[33m'\u001b[39m)\n\u001b[32m   1080\u001b[39m \u001b[38;5;28;01mif\u001b[39;00m ismodule(\u001b[38;5;28mobject\u001b[39m):\n\u001b[32m   1081\u001b[39m     \u001b[38;5;28;01mreturn\u001b[39;00m lines, \u001b[32m0\u001b[39m\n",
      "\u001b[31mOSError\u001b[39m: could not get source code"
     ]
    }
   ],
   "source": [
    "print(cart_transformer.__class__.mro())       # confirm resolution order\n",
    "print(cart_transformer.create)            # which function object is bound?\n",
    "print(cart_transformer.create.__func__)   # unbound function, shows true owner\n",
    "\n",
    "import inspect\n",
    "print(inspect.getsource(cart_transformer.create))\n"
   ]
  },
  {
   "cell_type": "code",
   "execution_count": 18,
   "id": "744c6acc",
   "metadata": {},
   "outputs": [
    {
     "name": "stdout",
     "output_type": "stream",
     "text": [
      "user_1755375139_i9T7Bk\n"
     ]
    }
   ],
   "source": [
    "import time, random, string\n",
    "\n",
    "def generate_user_id():\n",
    "    timestamp = int(time.time())  # current Unix timestamp\n",
    "    rand_part = ''.join(random.choices(string.ascii_letters + string.digits, k=6))\n",
    "    return f\"user_{timestamp}_{rand_part}\"\n",
    "\n",
    "print(generate_user_id())\n"
   ]
  }
 ],
 "metadata": {
  "kernelspec": {
   "display_name": "Python 3",
   "language": "python",
   "name": "python3"
  },
  "language_info": {
   "codemirror_mode": {
    "name": "ipython",
    "version": 3
   },
   "file_extension": ".py",
   "mimetype": "text/x-python",
   "name": "python",
   "nbconvert_exporter": "python",
   "pygments_lexer": "ipython3",
   "version": "3.13.2"
  }
 },
 "nbformat": 4,
 "nbformat_minor": 5
}
