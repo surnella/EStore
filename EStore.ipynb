{
 "cells": [
  {
   "cell_type": "markdown",
   "id": "143d513f",
   "metadata": {},
   "source": [
    "# **Make sure py file change are loaded automatically**"
   ]
  },
  {
   "cell_type": "code",
   "execution_count": 21,
   "id": "f13304f4",
   "metadata": {},
   "outputs": [
    {
     "name": "stdout",
     "output_type": "stream",
     "text": [
      "The autoreload extension is already loaded. To reload it, use:\n",
      "  %reload_ext autoreload\n"
     ]
    }
   ],
   "source": [
    "%load_ext autoreload\n",
    "%autoreload 2"
   ]
  },
  {
   "cell_type": "markdown",
   "id": "2d68c53d",
   "metadata": {},
   "source": [
    "# **Import basic package required for this assignment**"
   ]
  },
  {
   "cell_type": "code",
   "execution_count": 22,
   "id": "e2daa7ec",
   "metadata": {},
   "outputs": [],
   "source": [
    "import os\n",
    "import pandas as pd\n",
    "import src.constants as C\n"
   ]
  },
  {
   "cell_type": "markdown",
   "id": "ce522247",
   "metadata": {},
   "source": [
    "### **Make sure right sources are getting picked**"
   ]
  },
  {
   "cell_type": "code",
   "execution_count": 23,
   "id": "ac5a6152",
   "metadata": {},
   "outputs": [
    {
     "name": "stdout",
     "output_type": "stream",
     "text": [
      "    def transform(self, X=None):\n",
      "        \"\"\"Return current dataframe for pipeline usage.\"\"\"\n",
      "        print(\"Base Transformer transform invoked\")\n",
      "        if self.data is None:\n",
      "            self.fit()\n",
      "        return self.data.copy()\n",
      "\n"
     ]
    }
   ],
   "source": [
    "from src.base_transformer import BaseDBTransformer\n",
    "import inspect\n",
    "print(inspect.getsource(BaseDBTransformer.transform))\n"
   ]
  },
  {
   "cell_type": "markdown",
   "id": "e87ceacc",
   "metadata": {},
   "source": [
    "### **Make the latest calss are getting loaded.**"
   ]
  },
  {
   "cell_type": "code",
   "execution_count": 24,
   "id": "689282d6",
   "metadata": {},
   "outputs": [],
   "source": [
    "# 1. Import the modules first (so Python knows them)\n",
    "import importlib\n",
    "import src.product_transformer\n",
    "import src.cart_transformer\n",
    "import src.purchase_transformer\n",
    "import src.discount_transformer\n",
    "import src.constants\n",
    "\n",
    "# 2. Reload them (useful after edits)\n",
    "importlib.reload(src.product_transformer)\n",
    "importlib.reload(src.cart_transformer)\n",
    "importlib.reload(src.purchase_transformer)\n",
    "importlib.reload(src.discount_transformer)\n",
    "importlib.reload(src.constants)\n",
    "\n",
    "# 3. Import the classes fresh from the reloaded modules\n",
    "from src.product_transformer import ProductTransformer\n",
    "from src.cart_transformer import CartTransformer\n",
    "from src.purchase_transformer import PurchaseTransformer\n",
    "from src.discount_transformer import DiscountTransformer\n",
    "import src.constants"
   ]
  },
  {
   "cell_type": "markdown",
   "id": "f9b94485",
   "metadata": {},
   "source": [
    "# **Test Product Transformer - And its CRUD operations**"
   ]
  },
  {
   "cell_type": "code",
   "execution_count": 25,
   "id": "02096d4f",
   "metadata": {},
   "outputs": [
    {
     "name": "stdout",
     "output_type": "stream",
     "text": [
      "Base DB Object Transformer invoked with file path: data\\products.csv\n"
     ]
    }
   ],
   "source": [
    "product_transformer = ProductTransformer(file_path=\"data/products.csv\")"
   ]
  },
  {
   "cell_type": "code",
   "execution_count": 26,
   "id": "6e42dcb4",
   "metadata": {},
   "outputs": [
    {
     "name": "stdout",
     "output_type": "stream",
     "text": [
      "[<class 'src.product_transformer.ProductTransformer'>, <class 'src.base_transformer.BaseDBTransformer'>, <class 'object'>]\n",
      "<bound method BaseDBTransformer.transform of <src.product_transformer.ProductTransformer object at 0x0000021FBC2E3770>>\n",
      "<function BaseDBTransformer.transform at 0x0000021FBC2ADB20>\n"
     ]
    }
   ],
   "source": [
    "print(product_transformer.__class__.mro())       # confirm resolution order\n",
    "print(product_transformer.transform)            # which function object is bound?\n",
    "print(product_transformer.transform.__func__)   # unbound function, shows true owner\n"
   ]
  },
  {
   "cell_type": "code",
   "execution_count": 27,
   "id": "5f4e8de9",
   "metadata": {},
   "outputs": [
    {
     "name": "stdout",
     "output_type": "stream",
     "text": [
      "Base Transformer transform invoked\n",
      "Base Transformer fit invoked\n"
     ]
    },
    {
     "data": {
      "text/html": [
       "<div>\n",
       "<style scoped>\n",
       "    .dataframe tbody tr th:only-of-type {\n",
       "        vertical-align: middle;\n",
       "    }\n",
       "\n",
       "    .dataframe tbody tr th {\n",
       "        vertical-align: top;\n",
       "    }\n",
       "\n",
       "    .dataframe thead th {\n",
       "        text-align: right;\n",
       "    }\n",
       "</style>\n",
       "<table border=\"1\" class=\"dataframe\">\n",
       "  <thead>\n",
       "    <tr style=\"text-align: right;\">\n",
       "      <th></th>\n",
       "      <th>ProductID</th>\n",
       "      <th>ProductType</th>\n",
       "      <th>ProductName</th>\n",
       "      <th>SugarContent</th>\n",
       "      <th>Weight</th>\n",
       "      <th>Area</th>\n",
       "      <th>MRP</th>\n",
       "    </tr>\n",
       "  </thead>\n",
       "  <tbody>\n",
       "    <tr>\n",
       "      <th>0</th>\n",
       "      <td>FD6114</td>\n",
       "      <td>Frozen Foods</td>\n",
       "      <td>French Fries</td>\n",
       "      <td>Low Sugar</td>\n",
       "      <td>12.66</td>\n",
       "      <td>0.027</td>\n",
       "      <td>117.08</td>\n",
       "    </tr>\n",
       "    <tr>\n",
       "      <th>1</th>\n",
       "      <td>FD7839</td>\n",
       "      <td>Dairy</td>\n",
       "      <td>Shrikand</td>\n",
       "      <td>Regular</td>\n",
       "      <td>16.54</td>\n",
       "      <td>0.144</td>\n",
       "      <td>171.43</td>\n",
       "    </tr>\n",
       "    <tr>\n",
       "      <th>2</th>\n",
       "      <td>NC1180</td>\n",
       "      <td>Health and Hygiene</td>\n",
       "      <td>Tissue Rolls</td>\n",
       "      <td>No Sugar</td>\n",
       "      <td>9.57</td>\n",
       "      <td>0.010</td>\n",
       "      <td>123.67</td>\n",
       "    </tr>\n",
       "    <tr>\n",
       "      <th>3</th>\n",
       "      <td>NC5885</td>\n",
       "      <td>Household</td>\n",
       "      <td>Screws</td>\n",
       "      <td>No Sugar</td>\n",
       "      <td>12.94</td>\n",
       "      <td>0.286</td>\n",
       "      <td>194.75</td>\n",
       "    </tr>\n",
       "    <tr>\n",
       "      <th>4</th>\n",
       "      <td>DR2699</td>\n",
       "      <td>Hard Drinks</td>\n",
       "      <td>Chivas Regal</td>\n",
       "      <td>Low Sugar</td>\n",
       "      <td>10.64</td>\n",
       "      <td>0.020</td>\n",
       "      <td>165.99</td>\n",
       "    </tr>\n",
       "    <tr>\n",
       "      <th>5</th>\n",
       "      <td>DR7979</td>\n",
       "      <td>Soft Drinks</td>\n",
       "      <td>Getorade</td>\n",
       "      <td>Low Sugar</td>\n",
       "      <td>16.14</td>\n",
       "      <td>0.112</td>\n",
       "      <td>198.44</td>\n",
       "    </tr>\n",
       "    <tr>\n",
       "      <th>6</th>\n",
       "      <td>NC2661</td>\n",
       "      <td>Health and Hygiene</td>\n",
       "      <td>Harpik Lizol pack</td>\n",
       "      <td>No Sugar</td>\n",
       "      <td>12.11</td>\n",
       "      <td>0.079</td>\n",
       "      <td>132.74</td>\n",
       "    </tr>\n",
       "    <tr>\n",
       "      <th>7</th>\n",
       "      <td>FD8358</td>\n",
       "      <td>Baking Goods</td>\n",
       "      <td>Theobroma Sourdough</td>\n",
       "      <td>Regular</td>\n",
       "      <td>14.83</td>\n",
       "      <td>0.148</td>\n",
       "      <td>181.27</td>\n",
       "    </tr>\n",
       "    <tr>\n",
       "      <th>8</th>\n",
       "      <td>DR7064</td>\n",
       "      <td>Soft Drinks</td>\n",
       "      <td>Maaza</td>\n",
       "      <td>Regular</td>\n",
       "      <td>11.73</td>\n",
       "      <td>0.048</td>\n",
       "      <td>122.21</td>\n",
       "    </tr>\n",
       "  </tbody>\n",
       "</table>\n",
       "</div>"
      ],
      "text/plain": [
       "  ProductID         ProductType          ProductName SugarContent  Weight  \\\n",
       "0    FD6114        Frozen Foods         French Fries    Low Sugar   12.66   \n",
       "1    FD7839               Dairy             Shrikand      Regular   16.54   \n",
       "2    NC1180  Health and Hygiene         Tissue Rolls     No Sugar    9.57   \n",
       "3    NC5885           Household               Screws     No Sugar   12.94   \n",
       "4    DR2699         Hard Drinks         Chivas Regal    Low Sugar   10.64   \n",
       "5    DR7979         Soft Drinks             Getorade    Low Sugar   16.14   \n",
       "6    NC2661  Health and Hygiene    Harpik Lizol pack     No Sugar   12.11   \n",
       "7    FD8358        Baking Goods  Theobroma Sourdough      Regular   14.83   \n",
       "8    DR7064         Soft Drinks                Maaza      Regular   11.73   \n",
       "\n",
       "    Area     MRP  \n",
       "0  0.027  117.08  \n",
       "1  0.144  171.43  \n",
       "2  0.010  123.67  \n",
       "3  0.286  194.75  \n",
       "4  0.020  165.99  \n",
       "5  0.112  198.44  \n",
       "6  0.079  132.74  \n",
       "7  0.148  181.27  \n",
       "8  0.048  122.21  "
      ]
     },
     "execution_count": 27,
     "metadata": {},
     "output_type": "execute_result"
    }
   ],
   "source": [
    "product_transformer.transform()  "
   ]
  },
  {
   "cell_type": "markdown",
   "id": "1b415fb3",
   "metadata": {},
   "source": [
    "# **Test Discount Transformer and its CRUD operations**"
   ]
  },
  {
   "cell_type": "code",
   "execution_count": 29,
   "id": "2118b0c2",
   "metadata": {},
   "outputs": [
    {
     "name": "stdout",
     "output_type": "stream",
     "text": [
      "Base DB Object Transformer invoked with file path: data\\discounts.csv\n",
      "Base Transformer update invoked with mode = overwrite\n",
      "Base Transformer fit invoked\n",
      "Discount Transformer read invoked discount id = None\n",
      "Base Transformer transform invoked\n",
      "Before delete   DiscountID UserID DiscountCode  DiscountPercent  DiscountStatus\n",
      "0      FD101    101        NEW10               10               0\n",
      "1      NC102    102       SAVE20               20               0\n",
      "Discount Transformer delete invoked discount id = Dummy\n",
      "Base Transformer transform invoked\n",
      "Base Transformer save invoked\n",
      "Discount Transformer read invoked discount id = None\n",
      "Base Transformer transform invoked\n",
      "After delete   DiscountID UserID DiscountCode  DiscountPercent  DiscountStatus\n",
      "0      FD101    101        NEW10               10               0\n",
      "1      NC102    102       SAVE20               20               0\n"
     ]
    }
   ],
   "source": [
    "\n",
    "# Initialize\n",
    "discount_csv = \"data/discounts.csv\"\n",
    "discount_transformer = DiscountTransformer(file_path=discount_csv)\n",
    "\n",
    "# Test: Write sample data\n",
    "sample_discounts = pd.DataFrame([\n",
    "    {C.did: \"FD101\", C.usrid: \"101\", C.dcode: \"NEW10\", C.dpct: 10, C.dst: 0},\n",
    "    {C.did: \"NC102\", C.usrid: \"102\", C.dcode: \"SAVE20\", C.dpct: 20, C.dst: 0}\n",
    "])\n",
    "discount_transformer.update_df(sample_discounts, mode=\"overwrite\")\n",
    "\n",
    "# Test: Read back\n",
    "print(\"Before delete\", discount_transformer.read())\n",
    "\n",
    "discount_transformer.delete(\"Dummy\")\n",
    "\n",
    "print(\"After delete\", discount_transformer.read())\n",
    "\n",
    "\n",
    "# Test: CRUD ops\n",
    "# print(discount_transformer.create({\"discount_id\": 3, \"user_id\": 103, \"code\": \"FESTIVE30\", \"percent\": 30}))\n",
    "# print(discount_transformer.read())\n"
   ]
  },
  {
   "cell_type": "code",
   "execution_count": 30,
   "id": "3f36b11f",
   "metadata": {},
   "outputs": [
    {
     "name": "stdout",
     "output_type": "stream",
     "text": [
      "[<class 'src.discount_transformer.DiscountTransformer'>, <class 'src.base_transformer.BaseDBTransformer'>, <class 'object'>]\n",
      "<bound method DiscountTransformer.create of <src.discount_transformer.DiscountTransformer object at 0x0000021FBC19F4D0>>\n",
      "<function DiscountTransformer.create at 0x0000021FBCEBD260>\n"
     ]
    }
   ],
   "source": [
    "print(discount_transformer.__class__.mro())       # confirm resolution order\n",
    "print(discount_transformer.create)            # which function object is bound?\n",
    "print(discount_transformer.create.__func__)   # unbound function, shows true owner"
   ]
  },
  {
   "cell_type": "markdown",
   "id": "35104d97",
   "metadata": {},
   "source": [
    "# **Test Purchase Transformer and its CRUD operations**"
   ]
  },
  {
   "cell_type": "code",
   "execution_count": 31,
   "id": "c0582982",
   "metadata": {},
   "outputs": [
    {
     "name": "stdout",
     "output_type": "stream",
     "text": [
      "Base DB Object Transformer invoked with file path: data\\purchases.csv\n",
      "Base Transformer update invoked with mode = overwrite\n",
      "Base Transformer fit invoked\n",
      "Purchase Transformer read invoked purchase id = None\n",
      "Base Transformer transform invoked\n",
      "  PaymentID   CartID  TotalAmount DiscountID\n",
      "0    PRC101  CART101       772.92      FD101\n",
      "1    PRC102  CART102       972.00      NC102\n"
     ]
    }
   ],
   "source": [
    "# Initialize\n",
    "purchase_csv = \"data/purchases.csv\"\n",
    "purchase_transformer = PurchaseTransformer(file_path=purchase_csv)\n",
    "\n",
    "# Test: Write sample data\n",
    "sample_purchases = pd.DataFrame([\n",
    "    {C.prcid: \"PRC101\", C.cid: \"CART101\", C.tamt: 772.92, C.did: \"FD101\"},\n",
    "    {C.prcid: \"PRC102\", C.cid: \"CART102\", C.tamt: 972.00, C.did: \"NC102\"}\n",
    "])\n",
    "purchase_transformer.update_df(sample_purchases, mode=\"overwrite\")\n",
    "\n",
    "# Test: Read back\n",
    "print(purchase_transformer.read())"
   ]
  },
  {
   "cell_type": "code",
   "execution_count": 32,
   "id": "ba0ed188",
   "metadata": {},
   "outputs": [
    {
     "name": "stdout",
     "output_type": "stream",
     "text": [
      "[<class 'src.purchase_transformer.PurchaseTransformer'>, <class 'src.base_transformer.BaseDBTransformer'>, <class 'object'>]\n",
      "<bound method PurchaseTransformer.create of <src.purchase_transformer.PurchaseTransformer object at 0x0000021FBC19FB60>>\n",
      "<function PurchaseTransformer.create at 0x0000021FBCEBC9A0>\n",
      "    def create(self, *args, **kwargs):\n",
      "        if len(args) == 1 and isinstance(args[0], pd.DataFrame):\n",
      "            return super().create(args[0])\n",
      "        elif len(args) > 1:\n",
      "            purchase_id, cart_id, discount_id, total_amount = args\n",
      "            new_row = pd.DataFrame([{\n",
      "                C.prcid: purchase_id,\n",
      "                C.crtid: cart_id,\n",
      "                C.did: discount_id,\n",
      "                C.tamt: total_amount\n",
      "                }])\n",
      "            return super().create(new_row)\n",
      "        else:\n",
      "            raise ValueError(\"Invalid arguments to create()\")\n",
      "\n"
     ]
    }
   ],
   "source": [
    "print(purchase_transformer.__class__.mro())       # confirm resolution order\n",
    "print(purchase_transformer.create)            # which function object is bound?\n",
    "print(purchase_transformer.create.__func__)   # unbound function, shows true owner\n",
    "\n",
    "import inspect\n",
    "print(inspect.getsource(purchase_transformer.create))\n"
   ]
  },
  {
   "cell_type": "markdown",
   "id": "2753409f",
   "metadata": {},
   "source": [
    "# **Test Cart Transformer and its CRUD operations**"
   ]
  },
  {
   "cell_type": "code",
   "execution_count": null,
   "id": "5ecdc8ea",
   "metadata": {},
   "outputs": [
    {
     "name": "stdout",
     "output_type": "stream",
     "text": [
      "Base DB Object Transformer invoked with file path: data\\carts.csv\n",
      "Base Transformer update invoked with mode = overwrite\n",
      "Base Transformer fit invoked\n",
      "Cart Transformer read invoked cart id = None\n",
      "Base Transformer transform invoked\n",
      "    CartID ProductID  Quantity UserID\n",
      "0  CART101    FD7839         4    101\n",
      "1  CART102    DR7979         2    102\n"
     ]
    }
   ],
   "source": [
    "# Initialize\n",
    "cart_csv = \"data/carts.csv\"\n",
    "cart_transformer = CartTransformer(file_path=cart_csv)\n",
    "\n",
    "# Test: Write sample data\n",
    "sample_cart = pd.DataFrame([\n",
    "    {C.cid: \"CART101\" , C.pid: \"FD7839\", C.qnt: 4, C.usrid: \"101\"},\n",
    "    {C.cid: \"CART102\" , C.pid: \"DR7979\", C.qnt: 2, C.usrid: \"102\"}\n",
    "])\n",
    "cart_transformer.update_df(sample_cart, mode=\"overwrite\")\n",
    "\n",
    "# Test: Read back\n",
    "    print(cart_transformer.read())\n"
   ]
  },
  {
   "cell_type": "code",
   "execution_count": 34,
   "id": "8870ad96",
   "metadata": {},
   "outputs": [
    {
     "name": "stdout",
     "output_type": "stream",
     "text": [
      "[<class 'src.cart_transformer.CartTransformer'>, <class 'src.base_transformer.BaseDBTransformer'>, <class 'object'>]\n",
      "<bound method CartTransformer.create of <src.cart_transformer.CartTransformer object at 0x0000021FBC19FA10>>\n",
      "<function CartTransformer.create at 0x0000021FBCEBC400>\n",
      "    def create(self, *args, **kwargs):\n",
      "        # Case 1: DataFrame provided\n",
      "        print(\"Cart Transformer create invoked with args:\", args, len(args))\n",
      "        if len(args) == 1 and isinstance(args[0], pd.DataFrame):\n",
      "            return super().create(args[0])\n",
      "\n",
      "        # Case 2: individual fields provided\n",
      "        elif len(args) > 1:\n",
      "            cart_id, product_id, quantity, usrid = args\n",
      "            new_row = pd.DataFrame([{\n",
      "                C.crtid: cart_id,\n",
      "                C.pid: product_id,\n",
      "                C.qnt: quantity,\n",
      "                C.usrid:usrid\n",
      "            }])\n",
      "            return super().create(new_row)\n",
      "\n",
      "        else:\n",
      "            raise ValueError(\"Invalid arguments to create()\")\n",
      "\n"
     ]
    }
   ],
   "source": [
    "print(cart_transformer.__class__.mro())       # confirm resolution order\n",
    "print(cart_transformer.create)            # which function object is bound?\n",
    "print(cart_transformer.create.__func__)   # unbound function, shows true owner\n",
    "\n",
    "import inspect\n",
    "print(inspect.getsource(cart_transformer.create))\n"
   ]
  },
  {
   "cell_type": "markdown",
   "id": "c3c8ee40",
   "metadata": {},
   "source": [
    "### **Convienence functions for generating IDs**"
   ]
  },
  {
   "cell_type": "code",
   "execution_count": 18,
   "id": "744c6acc",
   "metadata": {},
   "outputs": [
    {
     "name": "stdout",
     "output_type": "stream",
     "text": [
      "user_1755375139_i9T7Bk\n"
     ]
    }
   ],
   "source": [
    "import time, random, string\n",
    "\n",
    "def generate_user_id():\n",
    "    timestamp = int(time.time())  # current Unix timestamp\n",
    "    rand_part = ''.join(random.choices(string.ascii_letters + string.digits, k=6))\n",
    "    return f\"user_{timestamp}_{rand_part}\"\n",
    "\n",
    "print(generate_user_id())\n"
   ]
  },
  {
   "cell_type": "markdown",
   "id": "d64004df",
   "metadata": {},
   "source": [
    "## **Now test business Logic**"
   ]
  },
  {
   "cell_type": "markdown",
   "id": "fc687d04",
   "metadata": {},
   "source": [
    "### **Show the current data**"
   ]
  },
  {
   "cell_type": "code",
   "execution_count": 42,
   "id": "b9b1f48f",
   "metadata": {},
   "outputs": [
    {
     "name": "stdout",
     "output_type": "stream",
     "text": [
      "Purchase Transformer read invoked purchase id = None\n",
      "Base Transformer transform invoked\n",
      "  PaymentID   CartID  TotalAmount DiscountID\n",
      "0    PRC101  CART101       772.92      FD101\n",
      "1    PRC102  CART102       972.00      NC102\n",
      "Cart Transformer read invoked cart id = None\n",
      "Base Transformer transform invoked\n",
      "    CartID ProductID  Quantity UserID\n",
      "0  CART101    FD7839         4    101\n",
      "1  CART102    DR7979         2    102\n",
      "Product Transformer read invoked product id = None\n",
      "Base Transformer transform invoked\n",
      "  ProductID         ProductType          ProductName SugarContent  Weight  \\\n",
      "0    FD6114        Frozen Foods         French Fries    Low Sugar   12.66   \n",
      "1    FD7839               Dairy             Shrikand      Regular   16.54   \n",
      "2    NC1180  Health and Hygiene         Tissue Rolls     No Sugar    9.57   \n",
      "3    NC5885           Household               Screws     No Sugar   12.94   \n",
      "4    DR2699         Hard Drinks         Chivas Regal    Low Sugar   10.64   \n",
      "5    DR7979         Soft Drinks             Getorade    Low Sugar   16.14   \n",
      "6    NC2661  Health and Hygiene    Harpik Lizol pack     No Sugar   12.11   \n",
      "7    FD8358        Baking Goods  Theobroma Sourdough      Regular   14.83   \n",
      "8    DR7064         Soft Drinks                Maaza      Regular   11.73   \n",
      "\n",
      "    Area     MRP  \n",
      "0  0.027  117.08  \n",
      "1  0.144  171.43  \n",
      "2  0.010  123.67  \n",
      "3  0.286  194.75  \n",
      "4  0.020  165.99  \n",
      "5  0.112  198.44  \n",
      "6  0.079  132.74  \n",
      "7  0.148  181.27  \n",
      "8  0.048  122.21  \n",
      "Discount Transformer read invoked discount id = None\n",
      "Base Transformer transform invoked\n",
      "  DiscountID UserID DiscountCode  DiscountPercent  DiscountStatus\n",
      "0      FD101    101        NEW10               10               0\n",
      "1      NC102    102       SAVE20               20               0\n"
     ]
    }
   ],
   "source": [
    "print(purchase_transformer.read())\n",
    "print(cart_transformer.read())\n",
    "print(product_transformer.read())\n",
    "print(discount_transformer.read())"
   ]
  },
  {
   "cell_type": "markdown",
   "id": "48ce51bf",
   "metadata": {},
   "source": [
    "### **Set Random seed so that same number are generated always**"
   ]
  },
  {
   "cell_type": "code",
   "execution_count": null,
   "id": "76c196d0",
   "metadata": {},
   "outputs": [],
   "source": [
    "random.seed(42)  # For reproducibility"
   ]
  },
  {
   "cell_type": "markdown",
   "id": "b0e38262",
   "metadata": {},
   "source": [
    "# **Write business functions here and test**\n",
    "- After testing these functions will fo into the respective .py files. "
   ]
  },
  {
   "cell_type": "code",
   "execution_count": null,
   "id": "9933a255",
   "metadata": {},
   "outputs": [],
   "source": [
    "def func1(*args):\n",
    "    cartid, productid, user_id, discount_ids, payids, discodes = args\n",
    "    print(\"Cse 1\", cartid, productid, user_id, discount_ids, payids, discodes)\n",
    "    #Add products to Cart\n",
    "\n",
    "def func2(*args):\n",
    "    cartid, productid, user_id, discount_ids, payids, discodes = args\n",
    "    print(\"Case 2\", cartid, productid, user_id, discount_ids, payids, discodes)\n",
    "    #checkout cart\n",
    "\n",
    "def func3(*args):\n",
    "    cartid, productid, user_id, discount_ids, payids, discodes = args\n",
    "    print(\"Case 3\", cartid, productid, user_id, discount_ids, payids, discodes)\n",
    "    #get Discount codes\n",
    "\n",
    "def func4(*args):\n",
    "    cartid, productid, user_id, discount_ids, payids, discodes = args\n",
    "    print(\"case 4\", cartid, productid, user_id, discount_ids, payids, discodes)\n",
    "    #apply discount codes\n",
    "\n",
    "def func5(*args):\n",
    "    cartid, productid, user_id, discount_ids, payids, discodes = args\n",
    "    print(\"case 5\", cartid, productid, user_id, discount_ids, payids, discodes)\n",
    "    #generate discounts codes\n",
    "\n",
    "def func6(*args):\n",
    "    cartid, productid, user_id, discount_ids, payids, discodes = args\n",
    "    print(\"case 5\", cartid, productid, user_id, discount_ids, payids, discodes)\n",
    "    #get purcahses\n",
    "\n",
    "def func7(*args):\n",
    "    cartid, productid, user_id, discount_ids, payids, discodes = args\n",
    "    print(\"case 5\", cartid, productid, user_id, discount_ids, payids, discodes)\n",
    "    #Show cart\n",
    "\n",
    "\n"
   ]
  },
  {
   "cell_type": "markdown",
   "id": "6f612b7b",
   "metadata": {},
   "source": [
    "### **Generate test data**"
   ]
  },
  {
   "cell_type": "code",
   "execution_count": 65,
   "id": "b2e62c91",
   "metadata": {},
   "outputs": [
    {
     "name": "stdout",
     "output_type": "stream",
     "text": [
      "CART260 NC1083 390 DR607 PRC417 SAVE1909\n",
      "Cse 1 CART260 NC1083 390 DR607 PRC417 SAVE1909\n",
      "CART265 FD5612 630 DR470 PRC921 SAVE7773\n",
      "Case 2 CART265 FD5612 630 DR470 PRC921 SAVE7773\n",
      "CART752 NC8066 172 FD449 PRC934 FESTIVE7452\n",
      "Case 3 CART752 NC8066 172 FD449 PRC934 FESTIVE7452\n",
      "CART772 FD1856 306 FD471 PRC862 NEW9114\n",
      "case 4 CART772 FD1856 306 FD471 PRC862 NEW9114\n",
      "CART320 DR8337 226 NC873 PRC116 SAVE7889\n",
      "case 5 CART320 DR8337 226 NC873 PRC116 SAVE7889\n"
     ]
    }
   ],
   "source": [
    "def gettestdata():\n",
    "    \"\"\"Generate random test data for cart, product, user, discount, and payment.\"\"\"\n",
    "\n",
    "    cartid = \"CART\" + str(random.randint(100, 999))\n",
    "    productid = [\"FD\",\"NC\",\"DR\"][random.randint(0,2)] + str(random.randint(1000, 9999))\n",
    "    user_id = random.randint(100, 999)\n",
    "    discount_ids = [\"FD\",\"NC\",\"DR\"][random.randint(0,2)] + str(random.randint(100, 999))\n",
    "    payids = \"PRC\" + str(random.randint(100, 999))\n",
    "    discodes = [ \"NEW\", \"SAVE\", \"FESTIVE\"][random.randint(0, 2)] + str(random.randint(1000, 9999))\n",
    "    # print(cartid, productid, user_id, discount_ids, payids, discodes)\n",
    "    return cartid, productid, user_id, discount_ids, payids, discodes\n",
    "\n",
    "testcases = [func1, func2, func3, func4, func5]\n",
    "for fn in testcases:\n",
    "    cartid, productid, user_id, discount_ids, payids, discodes = gettestdata()\n",
    "    print(cartid, productid, user_id, discount_ids, payids, discodes)\n",
    "    fn(cartid, productid, user_id, discount_ids, payids, discodes)\n",
    "    "
   ]
  },
  {
   "cell_type": "markdown",
   "id": "c5835ff7",
   "metadata": {},
   "source": [
    "### **Add product to cart**"
   ]
  },
  {
   "cell_type": "code",
   "execution_count": null,
   "id": "0348b121",
   "metadata": {},
   "outputs": [
    {
     "name": "stdout",
     "output_type": "stream",
     "text": [
      "CART387 FD4495\n"
     ]
    }
   ],
   "source": []
  }
 ],
 "metadata": {
  "kernelspec": {
   "display_name": "Python 3",
   "language": "python",
   "name": "python3"
  },
  "language_info": {
   "codemirror_mode": {
    "name": "ipython",
    "version": 3
   },
   "file_extension": ".py",
   "mimetype": "text/x-python",
   "name": "python",
   "nbconvert_exporter": "python",
   "pygments_lexer": "ipython3",
   "version": "3.13.2"
  }
 },
 "nbformat": 4,
 "nbformat_minor": 5
}
